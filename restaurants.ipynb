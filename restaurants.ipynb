{
 "cells": [
  {
   "cell_type": "code",
   "execution_count": 1,
   "id": "f6baa29e",
   "metadata": {},
   "outputs": [],
   "source": [
    "from tools import *\n",
    "\n",
    "import os\n",
    "from dotenv import load_dotenv\n",
    "\n",
    "# Load environment variables from .env file\n",
    "load_dotenv()\n",
    "\n",
    "# Access the API key\n",
    "tripadvisor_api_key = os.getenv(\"TRIPADVISOR_API_KEY\")\n",
    "rapid_api_key = os.getenv(\"RAPID_API_KEY\")\n"
   ]
  },
  {
   "cell_type": "markdown",
   "id": "7c752bc9",
   "metadata": {},
   "source": [
    "**Province**"
   ]
  },
  {
   "cell_type": "code",
   "execution_count": 4,
   "id": "8c031a99",
   "metadata": {},
   "outputs": [],
   "source": [
    "# import json\n",
    "\n",
    "# # Filepath to the JSON file\n",
    "# file_path = \"data/vietnam-provinces.json\"\n",
    "\n",
    "# # Open and read the JSON file\n",
    "# with open(file_path, \"r\", encoding=\"utf-8\") as file:\n",
    "#     data = json.load(file)\n",
    "\n",
    "# provinces = [data[i]['NameEn'] for i in range(len(data))]"
   ]
  },
  {
   "cell_type": "code",
   "execution_count": null,
   "id": "a7027ded",
   "metadata": {},
   "outputs": [],
   "source": [
    "import requests\n",
    "\n",
    "url = \"https://tripadvisor-scraper.p.rapidapi.com/restaurants/list\"\n",
    "\n",
    "querystring = {\"query\":provinces[1],\"page\":\"1\"}\n",
    "\n",
    "headers = {\n",
    "\t\"x-rapidapi-key\": \"f01c3f6968msh4a12cf8c0c8f3c2p1d9e36jsne6d66dae12ae\",\n",
    "\t\"x-rapidapi-host\": \"tripadvisor-scraper.p.rapidapi.com\"\n",
    "}\n",
    "\n",
    "response = requests.get(url, headers=headers, params=querystring)"
   ]
  },
  {
   "cell_type": "code",
   "execution_count": null,
   "id": "0938afb0",
   "metadata": {},
   "outputs": [
    {
     "ename": "NameError",
     "evalue": "name 'browser' is not defined",
     "output_type": "error",
     "traceback": [
      "\u001b[1;31m---------------------------------------------------------------------------\u001b[0m",
      "\u001b[1;31mNameError\u001b[0m                                 Traceback (most recent call last)",
      "Cell \u001b[1;32mIn[1], line 1\u001b[0m\n\u001b[1;32m----> 1\u001b[0m browser\u001b[38;5;241m.\u001b[39mfind_element(By\u001b[38;5;241m.\u001b[39mXPATH, \u001b[38;5;124m'\u001b[39m\u001b[38;5;124m//*[@id=\u001b[39m\u001b[38;5;124m\"\u001b[39m\u001b[38;5;124mQA0Szd\u001b[39m\u001b[38;5;124m\"\u001b[39m\u001b[38;5;124m]/div/div/div[1]/div[2]/div/div[1]/div/div/div[3]/div/div/button[2]\u001b[39m\u001b[38;5;124m'\u001b[39m)\u001b[38;5;241m.\u001b[39mclick()\n",
      "\u001b[1;31mNameError\u001b[0m: name 'browser' is not defined"
     ]
    }
   ],
   "source": []
  }
 ],
 "metadata": {
  "kernelspec": {
   "display_name": "base",
   "language": "python",
   "name": "python3"
  },
  "language_info": {
   "codemirror_mode": {
    "name": "ipython",
    "version": 3
   },
   "file_extension": ".py",
   "mimetype": "text/x-python",
   "name": "python",
   "nbconvert_exporter": "python",
   "pygments_lexer": "ipython3",
   "version": "3.12.7"
  }
 },
 "nbformat": 4,
 "nbformat_minor": 5
}
