{
 "cells": [
  {
   "cell_type": "code",
   "execution_count": 1,
   "id": "f6baa29e",
   "metadata": {},
   "outputs": [],
   "source": [
    "from tools import *\n",
    "\n",
    "import os\n",
    "from dotenv import load_dotenv\n",
    "\n",
    "# Load environment variables from .env file\n",
    "load_dotenv()\n",
    "\n",
    "# Access the API key\n",
    "tripadvisor_api_key = os.getenv(\"TRIPADVISOR_API_KEY\")\n",
    "rapid_api_key = os.getenv(\"RAPID_API_KEY\")\n"
   ]
  },
  {
   "cell_type": "markdown",
   "id": "7c752bc9",
   "metadata": {},
   "source": [
    "**Province**"
   ]
  },
  {
   "cell_type": "code",
   "execution_count": 4,
   "id": "8c031a99",
   "metadata": {},
   "outputs": [],
   "source": [
    "# import json\n",
    "\n",
    "# # Filepath to the JSON file\n",
    "# file_path = \"data/vietnam-provinces.json\"\n",
    "\n",
    "# # Open and read the JSON file\n",
    "# with open(file_path, \"r\", encoding=\"utf-8\") as file:\n",
    "#     data = json.load(file)\n",
    "\n",
    "# provinces = [data[i]['NameEn'] for i in range(len(data))]"
   ]
  },
  {
   "cell_type": "code",
   "execution_count": null,
   "id": "a7027ded",
   "metadata": {},
   "outputs": [],
   "source": [
    "import requests\n",
    "\n",
    "url = \"https://tripadvisor-scraper.p.rapidapi.com/restaurants/list\"\n",
    "\n",
    "querystring = {\"query\":provinces[1],\"page\":\"1\"}\n",
    "\n",
    "headers = {\n",
    "\t\"x-rapidapi-key\": \"f01c3f6968msh4a12cf8c0c8f3c2p1d9e36jsne6d66dae12ae\",\n",
    "\t\"x-rapidapi-host\": \"tripadvisor-scraper.p.rapidapi.com\"\n",
    "}\n",
    "\n",
    "response = requests.get(url, headers=headers, params=querystring)"
   ]
  }
 ],
 "metadata": {
  "kernelspec": {
   "display_name": "base",
   "language": "python",
   "name": "python3"
  },
  "language_info": {
   "codemirror_mode": {
    "name": "ipython",
    "version": 3
   },
   "file_extension": ".py",
   "mimetype": "text/x-python",
   "name": "python",
   "nbconvert_exporter": "python",
   "pygments_lexer": "ipython3",
   "version": "3.12.7"
  }
 },
 "nbformat": 4,
 "nbformat_minor": 5
}
