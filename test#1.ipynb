{
 "cells": [
  {
   "cell_type": "markdown",
   "id": "574d02c7",
   "metadata": {},
   "source": [
    "## ..."
   ]
  },
  {
   "cell_type": "code",
   "execution_count": 1,
   "id": "fa104a00",
   "metadata": {},
   "outputs": [],
   "source": [
    "from tools import *"
   ]
  },
  {
   "cell_type": "code",
   "execution_count": 2,
   "id": "81a8861a",
   "metadata": {},
   "outputs": [],
   "source": [
    "link = 'https://www.google.com/maps/place/Ph%E1%BB%9F+H%E1%BA%A1nh+-+Hu%E1%BB%B3nh+M%E1%BA%ABn+%C4%90%E1%BA%A1t/@10.7548876,106.6739395,17z/data=!3m1!4b1!4m6!3m5!1s0x31752f7c1e139f01:0x1f6556a92991ba1d!8m2!3d10.7548823!4d106.6765144!16s%2Fg%2F11h4f6swbg?entry=ttu&g_ep=EgoyMDI1MDUyOC4wIKXMDSoASAFQAw%3D%3D'"
   ]
  },
  {
   "cell_type": "code",
   "execution_count": 21,
   "id": "fd387c2b",
   "metadata": {},
   "outputs": [],
   "source": [
    "# chrome_options = Options()\n",
    "# chrome_options.add_experimental_option(\"prefs\", {\"profile.managed_default_content_settings.images\": 2}) # 2 means block images\n",
    "\n",
    "driver = webdriver.Chrome(options=chrome_options)\n",
    "actions = ActionChains(driver)\n",
    "driver.get(link)"
   ]
  },
  {
   "cell_type": "code",
   "execution_count": 7,
   "id": "f976d354",
   "metadata": {},
   "outputs": [],
   "source": [
    "def move_to_all_photos(driver):\n",
    "    driver.find_element(By.XPATH, '//*[@id=\"QA0Szd\"]/div/div/div[1]/div[2]/div/div[1]/div/div/div[26]/div[2]/div[2]/div[2]/div[1]/button').click()\n",
    "\n",
    "move_to_all_photos(driver)"
   ]
  },
  {
   "cell_type": "code",
   "execution_count": 10,
   "id": "70700966",
   "metadata": {},
   "outputs": [],
   "source": [
    "actions = ActionChains(driver)"
   ]
  },
  {
   "cell_type": "code",
   "execution_count": null,
   "id": "9bd52877",
   "metadata": {},
   "outputs": [],
   "source": [
    "# Find and click the button with class 'K4UgGe' and aria-label 'All'\n",
    "all_button = driver.find_element(By.XPATH, '//button[contains(@class, \"K4UgGe\") and @aria-label=\"All\"]')\n",
    "all_button.click()"
   ]
  },
  {
   "cell_type": "code",
   "execution_count": 23,
   "id": "d3ba5fbb",
   "metadata": {},
   "outputs": [
    {
     "ename": "ElementNotInteractableException",
     "evalue": "Message: element not interactable\n  (Session info: chrome=137.0.7151.57)\nStacktrace:\n\tGetHandleVerifier [0x0x7ff796fafea5+79173]\n\tGetHandleVerifier [0x0x7ff796faff00+79264]\n\t(No symbol) [0x0x7ff796d69c8c]\n\t(No symbol) [0x0x7ff796dc1a84]\n\t(No symbol) [0x0x7ff796db3464]\n\t(No symbol) [0x0x7ff796de896a]\n\t(No symbol) [0x0x7ff796db2d16]\n\t(No symbol) [0x0x7ff796de8b80]\n\t(No symbol) [0x0x7ff796e1100d]\n\t(No symbol) [0x0x7ff796de8743]\n\t(No symbol) [0x0x7ff796db14c1]\n\t(No symbol) [0x0x7ff796db2253]\n\tGetHandleVerifier [0x0x7ff79727a2dd+3004797]\n\tGetHandleVerifier [0x0x7ff79727472d+2981325]\n\tGetHandleVerifier [0x0x7ff797293380+3107360]\n\tGetHandleVerifier [0x0x7ff796fcaa2e+188622]\n\tGetHandleVerifier [0x0x7ff796fd22bf+219487]\n\tGetHandleVerifier [0x0x7ff796fb8df4+115860]\n\tGetHandleVerifier [0x0x7ff796fb8fa9+116297]\n\tGetHandleVerifier [0x0x7ff796f9f558+11256]\n\tBaseThreadInitThunk [0x0x7ff83807e8d7+23]\n\tRtlUserThreadStart [0x0x7ff838ef14fc+44]\n",
     "output_type": "error",
     "traceback": [
      "\u001b[1;31m---------------------------------------------------------------------------\u001b[0m",
      "\u001b[1;31mElementNotInteractableException\u001b[0m           Traceback (most recent call last)",
      "Cell \u001b[1;32mIn[23], line 2\u001b[0m\n\u001b[0;32m      1\u001b[0m all_button \u001b[38;5;241m=\u001b[39m driver\u001b[38;5;241m.\u001b[39mfind_element(By\u001b[38;5;241m.\u001b[39mXPATH, \u001b[38;5;124m'\u001b[39m\u001b[38;5;124m//button[contains(@class, \u001b[39m\u001b[38;5;124m\"\u001b[39m\u001b[38;5;124mK4UgGe\u001b[39m\u001b[38;5;124m\"\u001b[39m\u001b[38;5;124m) and @aria-label=\u001b[39m\u001b[38;5;124m\"\u001b[39m\u001b[38;5;124mAll\u001b[39m\u001b[38;5;124m\"\u001b[39m\u001b[38;5;124m]\u001b[39m\u001b[38;5;124m'\u001b[39m)\n\u001b[1;32m----> 2\u001b[0m \u001b[43mall_button\u001b[49m\u001b[38;5;241;43m.\u001b[39;49m\u001b[43mclick\u001b[49m\u001b[43m(\u001b[49m\u001b[43m)\u001b[49m\n",
      "File \u001b[1;32mc:\\Users\\darkn\\AppData\\Local\\Programs\\Python\\Python312\\Lib\\site-packages\\selenium\\webdriver\\remote\\webelement.py:94\u001b[0m, in \u001b[0;36mWebElement.click\u001b[1;34m(self)\u001b[0m\n\u001b[0;32m     92\u001b[0m \u001b[38;5;28;01mdef\u001b[39;00m \u001b[38;5;21mclick\u001b[39m(\u001b[38;5;28mself\u001b[39m) \u001b[38;5;241m-\u001b[39m\u001b[38;5;241m>\u001b[39m \u001b[38;5;28;01mNone\u001b[39;00m:\n\u001b[0;32m     93\u001b[0m \u001b[38;5;250m    \u001b[39m\u001b[38;5;124;03m\"\"\"Clicks the element.\"\"\"\u001b[39;00m\n\u001b[1;32m---> 94\u001b[0m     \u001b[38;5;28;43mself\u001b[39;49m\u001b[38;5;241;43m.\u001b[39;49m\u001b[43m_execute\u001b[49m\u001b[43m(\u001b[49m\u001b[43mCommand\u001b[49m\u001b[38;5;241;43m.\u001b[39;49m\u001b[43mCLICK_ELEMENT\u001b[49m\u001b[43m)\u001b[49m\n",
      "File \u001b[1;32mc:\\Users\\darkn\\AppData\\Local\\Programs\\Python\\Python312\\Lib\\site-packages\\selenium\\webdriver\\remote\\webelement.py:395\u001b[0m, in \u001b[0;36mWebElement._execute\u001b[1;34m(self, command, params)\u001b[0m\n\u001b[0;32m    393\u001b[0m     params \u001b[38;5;241m=\u001b[39m {}\n\u001b[0;32m    394\u001b[0m params[\u001b[38;5;124m\"\u001b[39m\u001b[38;5;124mid\u001b[39m\u001b[38;5;124m\"\u001b[39m] \u001b[38;5;241m=\u001b[39m \u001b[38;5;28mself\u001b[39m\u001b[38;5;241m.\u001b[39m_id\n\u001b[1;32m--> 395\u001b[0m \u001b[38;5;28;01mreturn\u001b[39;00m \u001b[38;5;28;43mself\u001b[39;49m\u001b[38;5;241;43m.\u001b[39;49m\u001b[43m_parent\u001b[49m\u001b[38;5;241;43m.\u001b[39;49m\u001b[43mexecute\u001b[49m\u001b[43m(\u001b[49m\u001b[43mcommand\u001b[49m\u001b[43m,\u001b[49m\u001b[43m \u001b[49m\u001b[43mparams\u001b[49m\u001b[43m)\u001b[49m\n",
      "File \u001b[1;32mc:\\Users\\darkn\\AppData\\Local\\Programs\\Python\\Python312\\Lib\\site-packages\\selenium\\webdriver\\remote\\webdriver.py:354\u001b[0m, in \u001b[0;36mWebDriver.execute\u001b[1;34m(self, driver_command, params)\u001b[0m\n\u001b[0;32m    352\u001b[0m response \u001b[38;5;241m=\u001b[39m \u001b[38;5;28mself\u001b[39m\u001b[38;5;241m.\u001b[39mcommand_executor\u001b[38;5;241m.\u001b[39mexecute(driver_command, params)\n\u001b[0;32m    353\u001b[0m \u001b[38;5;28;01mif\u001b[39;00m response:\n\u001b[1;32m--> 354\u001b[0m     \u001b[38;5;28;43mself\u001b[39;49m\u001b[38;5;241;43m.\u001b[39;49m\u001b[43merror_handler\u001b[49m\u001b[38;5;241;43m.\u001b[39;49m\u001b[43mcheck_response\u001b[49m\u001b[43m(\u001b[49m\u001b[43mresponse\u001b[49m\u001b[43m)\u001b[49m\n\u001b[0;32m    355\u001b[0m     response[\u001b[38;5;124m\"\u001b[39m\u001b[38;5;124mvalue\u001b[39m\u001b[38;5;124m\"\u001b[39m] \u001b[38;5;241m=\u001b[39m \u001b[38;5;28mself\u001b[39m\u001b[38;5;241m.\u001b[39m_unwrap_value(response\u001b[38;5;241m.\u001b[39mget(\u001b[38;5;124m\"\u001b[39m\u001b[38;5;124mvalue\u001b[39m\u001b[38;5;124m\"\u001b[39m, \u001b[38;5;28;01mNone\u001b[39;00m))\n\u001b[0;32m    356\u001b[0m     \u001b[38;5;28;01mreturn\u001b[39;00m response\n",
      "File \u001b[1;32mc:\\Users\\darkn\\AppData\\Local\\Programs\\Python\\Python312\\Lib\\site-packages\\selenium\\webdriver\\remote\\errorhandler.py:229\u001b[0m, in \u001b[0;36mErrorHandler.check_response\u001b[1;34m(self, response)\u001b[0m\n\u001b[0;32m    227\u001b[0m         alert_text \u001b[38;5;241m=\u001b[39m value[\u001b[38;5;124m\"\u001b[39m\u001b[38;5;124malert\u001b[39m\u001b[38;5;124m\"\u001b[39m]\u001b[38;5;241m.\u001b[39mget(\u001b[38;5;124m\"\u001b[39m\u001b[38;5;124mtext\u001b[39m\u001b[38;5;124m\"\u001b[39m)\n\u001b[0;32m    228\u001b[0m     \u001b[38;5;28;01mraise\u001b[39;00m exception_class(message, screen, stacktrace, alert_text)  \u001b[38;5;66;03m# type: ignore[call-arg]  # mypy is not smart enough here\u001b[39;00m\n\u001b[1;32m--> 229\u001b[0m \u001b[38;5;28;01mraise\u001b[39;00m exception_class(message, screen, stacktrace)\n",
      "\u001b[1;31mElementNotInteractableException\u001b[0m: Message: element not interactable\n  (Session info: chrome=137.0.7151.57)\nStacktrace:\n\tGetHandleVerifier [0x0x7ff796fafea5+79173]\n\tGetHandleVerifier [0x0x7ff796faff00+79264]\n\t(No symbol) [0x0x7ff796d69c8c]\n\t(No symbol) [0x0x7ff796dc1a84]\n\t(No symbol) [0x0x7ff796db3464]\n\t(No symbol) [0x0x7ff796de896a]\n\t(No symbol) [0x0x7ff796db2d16]\n\t(No symbol) [0x0x7ff796de8b80]\n\t(No symbol) [0x0x7ff796e1100d]\n\t(No symbol) [0x0x7ff796de8743]\n\t(No symbol) [0x0x7ff796db14c1]\n\t(No symbol) [0x0x7ff796db2253]\n\tGetHandleVerifier [0x0x7ff79727a2dd+3004797]\n\tGetHandleVerifier [0x0x7ff79727472d+2981325]\n\tGetHandleVerifier [0x0x7ff797293380+3107360]\n\tGetHandleVerifier [0x0x7ff796fcaa2e+188622]\n\tGetHandleVerifier [0x0x7ff796fd22bf+219487]\n\tGetHandleVerifier [0x0x7ff796fb8df4+115860]\n\tGetHandleVerifier [0x0x7ff796fb8fa9+116297]\n\tGetHandleVerifier [0x0x7ff796f9f558+11256]\n\tBaseThreadInitThunk [0x0x7ff83807e8d7+23]\n\tRtlUserThreadStart [0x0x7ff838ef14fc+44]\n"
     ]
    }
   ],
   "source": [
    "all_button = driver.find_element(By.XPATH, '//button[contains(@class, \"K4UgGe\") and @aria-label=\"All\"]')\n",
    "all_button.click()"
   ]
  },
  {
   "cell_type": "code",
   "execution_count": null,
   "id": "964e93f0",
   "metadata": {},
   "outputs": [
    {
     "ename": "NoSuchElementException",
     "evalue": "Message: no such element: Unable to locate element: {\"method\":\"css selector\",\"selector\":\".m6QErb.WNBkOb.XiKgde.ZKCDEc\"}\n  (Session info: chrome=137.0.7151.57); For documentation on this error, please visit: https://www.selenium.dev/documentation/webdriver/troubleshooting/errors#no-such-element-exception\nStacktrace:\n\tGetHandleVerifier [0x0x7ff796fafea5+79173]\n\tGetHandleVerifier [0x0x7ff796faff00+79264]\n\t(No symbol) [0x0x7ff796d69e5a]\n\t(No symbol) [0x0x7ff796dc0586]\n\t(No symbol) [0x0x7ff796dc083c]\n\t(No symbol) [0x0x7ff796e14247]\n\t(No symbol) [0x0x7ff796de89af]\n\t(No symbol) [0x0x7ff796e1100d]\n\t(No symbol) [0x0x7ff796de8743]\n\t(No symbol) [0x0x7ff796db14c1]\n\t(No symbol) [0x0x7ff796db2253]\n\tGetHandleVerifier [0x0x7ff79727a2dd+3004797]\n\tGetHandleVerifier [0x0x7ff79727472d+2981325]\n\tGetHandleVerifier [0x0x7ff797293380+3107360]\n\tGetHandleVerifier [0x0x7ff796fcaa2e+188622]\n\tGetHandleVerifier [0x0x7ff796fd22bf+219487]\n\tGetHandleVerifier [0x0x7ff796fb8df4+115860]\n\tGetHandleVerifier [0x0x7ff796fb8fa9+116297]\n\tGetHandleVerifier [0x0x7ff796f9f558+11256]\n\tBaseThreadInitThunk [0x0x7ff83807e8d7+23]\n\tRtlUserThreadStart [0x0x7ff838ef14fc+44]\n",
     "output_type": "error",
     "traceback": [
      "\u001b[1;31m---------------------------------------------------------------------------\u001b[0m",
      "\u001b[1;31mNoSuchElementException\u001b[0m                    Traceback (most recent call last)",
      "Cell \u001b[1;32mIn[20], line 1\u001b[0m\n\u001b[1;32m----> 1\u001b[0m ele_key_down\u001b[38;5;241m=\u001b[39m \u001b[43mdriver\u001b[49m\u001b[38;5;241;43m.\u001b[39;49m\u001b[43mfind_element\u001b[49m\u001b[43m(\u001b[49m\u001b[43mBy\u001b[49m\u001b[38;5;241;43m.\u001b[39;49m\u001b[43mCSS_SELECTOR\u001b[49m\u001b[43m,\u001b[49m\u001b[43m \u001b[49m\u001b[38;5;124;43m\"\u001b[39;49m\u001b[38;5;124;43m.m6QErb.WNBkOb.XiKgde.ZKCDEc\u001b[39;49m\u001b[38;5;124;43m\"\u001b[39;49m\u001b[43m)\u001b[49m\n",
      "File \u001b[1;32mc:\\Users\\darkn\\AppData\\Local\\Programs\\Python\\Python312\\Lib\\site-packages\\selenium\\webdriver\\remote\\webdriver.py:748\u001b[0m, in \u001b[0;36mWebDriver.find_element\u001b[1;34m(self, by, value)\u001b[0m\n\u001b[0;32m    745\u001b[0m     by \u001b[38;5;241m=\u001b[39m By\u001b[38;5;241m.\u001b[39mCSS_SELECTOR\n\u001b[0;32m    746\u001b[0m     value \u001b[38;5;241m=\u001b[39m \u001b[38;5;124mf\u001b[39m\u001b[38;5;124m'\u001b[39m\u001b[38;5;124m[name=\u001b[39m\u001b[38;5;124m\"\u001b[39m\u001b[38;5;132;01m{\u001b[39;00mvalue\u001b[38;5;132;01m}\u001b[39;00m\u001b[38;5;124m\"\u001b[39m\u001b[38;5;124m]\u001b[39m\u001b[38;5;124m'\u001b[39m\n\u001b[1;32m--> 748\u001b[0m \u001b[38;5;28;01mreturn\u001b[39;00m \u001b[38;5;28;43mself\u001b[39;49m\u001b[38;5;241;43m.\u001b[39;49m\u001b[43mexecute\u001b[49m\u001b[43m(\u001b[49m\u001b[43mCommand\u001b[49m\u001b[38;5;241;43m.\u001b[39;49m\u001b[43mFIND_ELEMENT\u001b[49m\u001b[43m,\u001b[49m\u001b[43m \u001b[49m\u001b[43m{\u001b[49m\u001b[38;5;124;43m\"\u001b[39;49m\u001b[38;5;124;43musing\u001b[39;49m\u001b[38;5;124;43m\"\u001b[39;49m\u001b[43m:\u001b[49m\u001b[43m \u001b[49m\u001b[43mby\u001b[49m\u001b[43m,\u001b[49m\u001b[43m \u001b[49m\u001b[38;5;124;43m\"\u001b[39;49m\u001b[38;5;124;43mvalue\u001b[39;49m\u001b[38;5;124;43m\"\u001b[39;49m\u001b[43m:\u001b[49m\u001b[43m \u001b[49m\u001b[43mvalue\u001b[49m\u001b[43m}\u001b[49m\u001b[43m)\u001b[49m[\u001b[38;5;124m\"\u001b[39m\u001b[38;5;124mvalue\u001b[39m\u001b[38;5;124m\"\u001b[39m]\n",
      "File \u001b[1;32mc:\\Users\\darkn\\AppData\\Local\\Programs\\Python\\Python312\\Lib\\site-packages\\selenium\\webdriver\\remote\\webdriver.py:354\u001b[0m, in \u001b[0;36mWebDriver.execute\u001b[1;34m(self, driver_command, params)\u001b[0m\n\u001b[0;32m    352\u001b[0m response \u001b[38;5;241m=\u001b[39m \u001b[38;5;28mself\u001b[39m\u001b[38;5;241m.\u001b[39mcommand_executor\u001b[38;5;241m.\u001b[39mexecute(driver_command, params)\n\u001b[0;32m    353\u001b[0m \u001b[38;5;28;01mif\u001b[39;00m response:\n\u001b[1;32m--> 354\u001b[0m     \u001b[38;5;28;43mself\u001b[39;49m\u001b[38;5;241;43m.\u001b[39;49m\u001b[43merror_handler\u001b[49m\u001b[38;5;241;43m.\u001b[39;49m\u001b[43mcheck_response\u001b[49m\u001b[43m(\u001b[49m\u001b[43mresponse\u001b[49m\u001b[43m)\u001b[49m\n\u001b[0;32m    355\u001b[0m     response[\u001b[38;5;124m\"\u001b[39m\u001b[38;5;124mvalue\u001b[39m\u001b[38;5;124m\"\u001b[39m] \u001b[38;5;241m=\u001b[39m \u001b[38;5;28mself\u001b[39m\u001b[38;5;241m.\u001b[39m_unwrap_value(response\u001b[38;5;241m.\u001b[39mget(\u001b[38;5;124m\"\u001b[39m\u001b[38;5;124mvalue\u001b[39m\u001b[38;5;124m\"\u001b[39m, \u001b[38;5;28;01mNone\u001b[39;00m))\n\u001b[0;32m    356\u001b[0m     \u001b[38;5;28;01mreturn\u001b[39;00m response\n",
      "File \u001b[1;32mc:\\Users\\darkn\\AppData\\Local\\Programs\\Python\\Python312\\Lib\\site-packages\\selenium\\webdriver\\remote\\errorhandler.py:229\u001b[0m, in \u001b[0;36mErrorHandler.check_response\u001b[1;34m(self, response)\u001b[0m\n\u001b[0;32m    227\u001b[0m         alert_text \u001b[38;5;241m=\u001b[39m value[\u001b[38;5;124m\"\u001b[39m\u001b[38;5;124malert\u001b[39m\u001b[38;5;124m\"\u001b[39m]\u001b[38;5;241m.\u001b[39mget(\u001b[38;5;124m\"\u001b[39m\u001b[38;5;124mtext\u001b[39m\u001b[38;5;124m\"\u001b[39m)\n\u001b[0;32m    228\u001b[0m     \u001b[38;5;28;01mraise\u001b[39;00m exception_class(message, screen, stacktrace, alert_text)  \u001b[38;5;66;03m# type: ignore[call-arg]  # mypy is not smart enough here\u001b[39;00m\n\u001b[1;32m--> 229\u001b[0m \u001b[38;5;28;01mraise\u001b[39;00m exception_class(message, screen, stacktrace)\n",
      "\u001b[1;31mNoSuchElementException\u001b[0m: Message: no such element: Unable to locate element: {\"method\":\"css selector\",\"selector\":\".m6QErb.WNBkOb.XiKgde.ZKCDEc\"}\n  (Session info: chrome=137.0.7151.57); For documentation on this error, please visit: https://www.selenium.dev/documentation/webdriver/troubleshooting/errors#no-such-element-exception\nStacktrace:\n\tGetHandleVerifier [0x0x7ff796fafea5+79173]\n\tGetHandleVerifier [0x0x7ff796faff00+79264]\n\t(No symbol) [0x0x7ff796d69e5a]\n\t(No symbol) [0x0x7ff796dc0586]\n\t(No symbol) [0x0x7ff796dc083c]\n\t(No symbol) [0x0x7ff796e14247]\n\t(No symbol) [0x0x7ff796de89af]\n\t(No symbol) [0x0x7ff796e1100d]\n\t(No symbol) [0x0x7ff796de8743]\n\t(No symbol) [0x0x7ff796db14c1]\n\t(No symbol) [0x0x7ff796db2253]\n\tGetHandleVerifier [0x0x7ff79727a2dd+3004797]\n\tGetHandleVerifier [0x0x7ff79727472d+2981325]\n\tGetHandleVerifier [0x0x7ff797293380+3107360]\n\tGetHandleVerifier [0x0x7ff796fcaa2e+188622]\n\tGetHandleVerifier [0x0x7ff796fd22bf+219487]\n\tGetHandleVerifier [0x0x7ff796fb8df4+115860]\n\tGetHandleVerifier [0x0x7ff796fb8fa9+116297]\n\tGetHandleVerifier [0x0x7ff796f9f558+11256]\n\tBaseThreadInitThunk [0x0x7ff83807e8d7+23]\n\tRtlUserThreadStart [0x0x7ff838ef14fc+44]\n"
     ]
    }
   ],
   "source": [
    "ele_key_down= driver.find_element(By.CSS_SELECTOR, \".m6QErb.WNBkOb.XiKgde.ZKCDEc\")\n",
    "for _ in range(10):\n",
    "    ele_key_down.send_keys(Keys.DOWN)\n"
   ]
  },
  {
   "cell_type": "code",
   "execution_count": 8,
   "id": "07f73a43",
   "metadata": {},
   "outputs": [],
   "source": [
    "# move_to_all_photos(driver)"
   ]
  },
  {
   "cell_type": "code",
   "execution_count": null,
   "id": "fdb770f5",
   "metadata": {},
   "outputs": [
    {
     "name": "stdout",
     "output_type": "stream",
     "text": [
      "Disabling images again using CDP...\n",
      "Error disabling images via CDP: Message: invalid argument: Invalid image type\n",
      "  (Session info: chrome=137.0.7151.55)\n",
      "Stacktrace:\n",
      "\tGetHandleVerifier [0x0x7ff62c0ffea5+79173]\n",
      "\tGetHandleVerifier [0x0x7ff62c0fff00+79264]\n",
      "\t(No symbol) [0x0x7ff62beb9e5a]\n",
      "\t(No symbol) [0x0x7ff62bea6498]\n",
      "\t(No symbol) [0x0x7ff62bea4d50]\n",
      "\t(No symbol) [0x0x7ff62bea55ff]\n",
      "\t(No symbol) [0x0x7ff62bea5530]\n",
      "\t(No symbol) [0x0x7ff62bebec53]\n",
      "\t(No symbol) [0x0x7ff62bf6f93e]\n",
      "\t(No symbol) [0x0x7ff62bf3896a]\n",
      "\t(No symbol) [0x0x7ff62bf6100d]\n",
      "\t(No symbol) [0x0x7ff62bf38743]\n",
      "\t(No symbol) [0x0x7ff62bf014c1]\n",
      "\t(No symbol) [0x0x7ff62bf02253]\n",
      "\tGetHandleVerifier [0x0x7ff62c3ca2dd+3004797]\n",
      "\tGetHandleVerifier [0x0x7ff62c3c472d+2981325]\n",
      "\tGetHandleVerifier [0x0x7ff62c3e3380+3107360]\n",
      "\tGetHandleVerifier [0x0x7ff62c11aa2e+188622]\n",
      "\tGetHandleVerifier [0x0x7ff62c1222bf+219487]\n",
      "\tGetHandleVerifier [0x0x7ff62c108df4+115860]\n",
      "\tGetHandleVerifier [0x0x7ff62c108fa9+116297]\n",
      "\tGetHandleVerifier [0x0x7ff62c0ef558+11256]\n",
      "\tBaseThreadInitThunk [0x0x7ff83807e8d7+23]\n",
      "\tRtlUserThreadStart [0x0x7ff838ef14fc+44]\n",
      "\n"
     ]
    }
   ],
   "source": [
    "# # --- Dynamically DISABLE images again using CDP ---\n",
    "# print(\"Disabling images again using CDP...\")\n",
    "# try:\n",
    "#     # To disable common image types\n",
    "#     image_types_to_disable = [\"avif\", \"webp\", \"jpeg\", \"jpg\", \"png\", \"gif\", \"svg\"]\n",
    "#     driver.execute_cdp_cmd(\"Emulation.setDisabledImageTypes\", {\"imageTypes\": image_types_to_disable})\n",
    "#     print(\"Images should now be disabled for subsequent navigations or reloads.\")\n",
    "# except Exception as e:\n",
    "#     print(f\"Error disabling images via CDP: {e}\")"
   ]
  },
  {
   "cell_type": "code",
   "execution_count": 5,
   "id": "25228ec8",
   "metadata": {},
   "outputs": [],
   "source": [
    "def tag_click(tag):\n",
    "    driver.find_element(By.XPATH, f'//div[contains(@class, \"Gpq6kf\") and contains(@class, \"NlVald\") and text()=\"{tag}\"]').click()\n",
    "# move_to_all_photos(driver)\n",
    "tag_click('Menu')\n"
   ]
  },
  {
   "cell_type": "code",
   "execution_count": null,
   "id": "46038d80",
   "metadata": {},
   "outputs": [
    {
     "ename": "NoSuchWindowException",
     "evalue": "Message: no such window: target window already closed\nfrom unknown error: web view not found\n  (Session info: chrome=137.0.7151.55)\nStacktrace:\n\tGetHandleVerifier [0x0x7ff62c0ffea5+79173]\n\tGetHandleVerifier [0x0x7ff62c0fff00+79264]\n\t(No symbol) [0x0x7ff62beb9e5a]\n\t(No symbol) [0x0x7ff62be920f1]\n\t(No symbol) [0x0x7ff62bf4017e]\n\t(No symbol) [0x0x7ff62bf60922]\n\t(No symbol) [0x0x7ff62bf38743]\n\t(No symbol) [0x0x7ff62bf014c1]\n\t(No symbol) [0x0x7ff62bf02253]\n\tGetHandleVerifier [0x0x7ff62c3ca2dd+3004797]\n\tGetHandleVerifier [0x0x7ff62c3c472d+2981325]\n\tGetHandleVerifier [0x0x7ff62c3e3380+3107360]\n\tGetHandleVerifier [0x0x7ff62c11aa2e+188622]\n\tGetHandleVerifier [0x0x7ff62c1222bf+219487]\n\tGetHandleVerifier [0x0x7ff62c108df4+115860]\n\tGetHandleVerifier [0x0x7ff62c108fa9+116297]\n\tGetHandleVerifier [0x0x7ff62c0ef558+11256]\n\tBaseThreadInitThunk [0x0x7ff83807e8d7+23]\n\tRtlUserThreadStart [0x0x7ff838ef14fc+44]\n",
     "output_type": "error",
     "traceback": [
      "\u001b[1;31m---------------------------------------------------------------------------\u001b[0m",
      "\u001b[1;31mNoSuchWindowException\u001b[0m                     Traceback (most recent call last)",
      "Cell \u001b[1;32mIn[9], line 1\u001b[0m\n\u001b[1;32m----> 1\u001b[0m \u001b[43mdriver\u001b[49m\u001b[38;5;241;43m.\u001b[39;49m\u001b[43mfind_element\u001b[49m\u001b[43m(\u001b[49m\u001b[43mBy\u001b[49m\u001b[38;5;241;43m.\u001b[39;49m\u001b[43mXPATH\u001b[49m\u001b[43m,\u001b[49m\u001b[43m \u001b[49m\u001b[38;5;124;43mf\u001b[39;49m\u001b[38;5;124;43m'\u001b[39;49m\u001b[38;5;124;43m//div[contains(@class, \u001b[39;49m\u001b[38;5;124;43m\"\u001b[39;49m\u001b[38;5;124;43mGpq6kf\u001b[39;49m\u001b[38;5;124;43m\"\u001b[39;49m\u001b[38;5;124;43m) and contains(@class, \u001b[39;49m\u001b[38;5;124;43m\"\u001b[39;49m\u001b[38;5;124;43mNlVald\u001b[39;49m\u001b[38;5;124;43m\"\u001b[39;49m\u001b[38;5;124;43m) and text()=\u001b[39;49m\u001b[38;5;124;43m\"\u001b[39;49m\u001b[38;5;124;43mLatest\u001b[39;49m\u001b[38;5;124;43m\"\u001b[39;49m\u001b[38;5;124;43m]\u001b[39;49m\u001b[38;5;124;43m'\u001b[39;49m\u001b[43m)\u001b[49m\n",
      "File \u001b[1;32mc:\\Users\\darkn\\AppData\\Local\\Programs\\Python\\Python312\\Lib\\site-packages\\selenium\\webdriver\\remote\\webdriver.py:748\u001b[0m, in \u001b[0;36mWebDriver.find_element\u001b[1;34m(self, by, value)\u001b[0m\n\u001b[0;32m    745\u001b[0m     by \u001b[38;5;241m=\u001b[39m By\u001b[38;5;241m.\u001b[39mCSS_SELECTOR\n\u001b[0;32m    746\u001b[0m     value \u001b[38;5;241m=\u001b[39m \u001b[38;5;124mf\u001b[39m\u001b[38;5;124m'\u001b[39m\u001b[38;5;124m[name=\u001b[39m\u001b[38;5;124m\"\u001b[39m\u001b[38;5;132;01m{\u001b[39;00mvalue\u001b[38;5;132;01m}\u001b[39;00m\u001b[38;5;124m\"\u001b[39m\u001b[38;5;124m]\u001b[39m\u001b[38;5;124m'\u001b[39m\n\u001b[1;32m--> 748\u001b[0m \u001b[38;5;28;01mreturn\u001b[39;00m \u001b[38;5;28;43mself\u001b[39;49m\u001b[38;5;241;43m.\u001b[39;49m\u001b[43mexecute\u001b[49m\u001b[43m(\u001b[49m\u001b[43mCommand\u001b[49m\u001b[38;5;241;43m.\u001b[39;49m\u001b[43mFIND_ELEMENT\u001b[49m\u001b[43m,\u001b[49m\u001b[43m \u001b[49m\u001b[43m{\u001b[49m\u001b[38;5;124;43m\"\u001b[39;49m\u001b[38;5;124;43musing\u001b[39;49m\u001b[38;5;124;43m\"\u001b[39;49m\u001b[43m:\u001b[49m\u001b[43m \u001b[49m\u001b[43mby\u001b[49m\u001b[43m,\u001b[49m\u001b[43m \u001b[49m\u001b[38;5;124;43m\"\u001b[39;49m\u001b[38;5;124;43mvalue\u001b[39;49m\u001b[38;5;124;43m\"\u001b[39;49m\u001b[43m:\u001b[49m\u001b[43m \u001b[49m\u001b[43mvalue\u001b[49m\u001b[43m}\u001b[49m\u001b[43m)\u001b[49m[\u001b[38;5;124m\"\u001b[39m\u001b[38;5;124mvalue\u001b[39m\u001b[38;5;124m\"\u001b[39m]\n",
      "File \u001b[1;32mc:\\Users\\darkn\\AppData\\Local\\Programs\\Python\\Python312\\Lib\\site-packages\\selenium\\webdriver\\remote\\webdriver.py:354\u001b[0m, in \u001b[0;36mWebDriver.execute\u001b[1;34m(self, driver_command, params)\u001b[0m\n\u001b[0;32m    352\u001b[0m response \u001b[38;5;241m=\u001b[39m \u001b[38;5;28mself\u001b[39m\u001b[38;5;241m.\u001b[39mcommand_executor\u001b[38;5;241m.\u001b[39mexecute(driver_command, params)\n\u001b[0;32m    353\u001b[0m \u001b[38;5;28;01mif\u001b[39;00m response:\n\u001b[1;32m--> 354\u001b[0m     \u001b[38;5;28;43mself\u001b[39;49m\u001b[38;5;241;43m.\u001b[39;49m\u001b[43merror_handler\u001b[49m\u001b[38;5;241;43m.\u001b[39;49m\u001b[43mcheck_response\u001b[49m\u001b[43m(\u001b[49m\u001b[43mresponse\u001b[49m\u001b[43m)\u001b[49m\n\u001b[0;32m    355\u001b[0m     response[\u001b[38;5;124m\"\u001b[39m\u001b[38;5;124mvalue\u001b[39m\u001b[38;5;124m\"\u001b[39m] \u001b[38;5;241m=\u001b[39m \u001b[38;5;28mself\u001b[39m\u001b[38;5;241m.\u001b[39m_unwrap_value(response\u001b[38;5;241m.\u001b[39mget(\u001b[38;5;124m\"\u001b[39m\u001b[38;5;124mvalue\u001b[39m\u001b[38;5;124m\"\u001b[39m, \u001b[38;5;28;01mNone\u001b[39;00m))\n\u001b[0;32m    356\u001b[0m     \u001b[38;5;28;01mreturn\u001b[39;00m response\n",
      "File \u001b[1;32mc:\\Users\\darkn\\AppData\\Local\\Programs\\Python\\Python312\\Lib\\site-packages\\selenium\\webdriver\\remote\\errorhandler.py:229\u001b[0m, in \u001b[0;36mErrorHandler.check_response\u001b[1;34m(self, response)\u001b[0m\n\u001b[0;32m    227\u001b[0m         alert_text \u001b[38;5;241m=\u001b[39m value[\u001b[38;5;124m\"\u001b[39m\u001b[38;5;124malert\u001b[39m\u001b[38;5;124m\"\u001b[39m]\u001b[38;5;241m.\u001b[39mget(\u001b[38;5;124m\"\u001b[39m\u001b[38;5;124mtext\u001b[39m\u001b[38;5;124m\"\u001b[39m)\n\u001b[0;32m    228\u001b[0m     \u001b[38;5;28;01mraise\u001b[39;00m exception_class(message, screen, stacktrace, alert_text)  \u001b[38;5;66;03m# type: ignore[call-arg]  # mypy is not smart enough here\u001b[39;00m\n\u001b[1;32m--> 229\u001b[0m \u001b[38;5;28;01mraise\u001b[39;00m exception_class(message, screen, stacktrace)\n",
      "\u001b[1;31mNoSuchWindowException\u001b[0m: Message: no such window: target window already closed\nfrom unknown error: web view not found\n  (Session info: chrome=137.0.7151.55)\nStacktrace:\n\tGetHandleVerifier [0x0x7ff62c0ffea5+79173]\n\tGetHandleVerifier [0x0x7ff62c0fff00+79264]\n\t(No symbol) [0x0x7ff62beb9e5a]\n\t(No symbol) [0x0x7ff62be920f1]\n\t(No symbol) [0x0x7ff62bf4017e]\n\t(No symbol) [0x0x7ff62bf60922]\n\t(No symbol) [0x0x7ff62bf38743]\n\t(No symbol) [0x0x7ff62bf014c1]\n\t(No symbol) [0x0x7ff62bf02253]\n\tGetHandleVerifier [0x0x7ff62c3ca2dd+3004797]\n\tGetHandleVerifier [0x0x7ff62c3c472d+2981325]\n\tGetHandleVerifier [0x0x7ff62c3e3380+3107360]\n\tGetHandleVerifier [0x0x7ff62c11aa2e+188622]\n\tGetHandleVerifier [0x0x7ff62c1222bf+219487]\n\tGetHandleVerifier [0x0x7ff62c108df4+115860]\n\tGetHandleVerifier [0x0x7ff62c108fa9+116297]\n\tGetHandleVerifier [0x0x7ff62c0ef558+11256]\n\tBaseThreadInitThunk [0x0x7ff83807e8d7+23]\n\tRtlUserThreadStart [0x0x7ff838ef14fc+44]\n"
     ]
    }
   ],
   "source": [
    "driver.find_element(By.XPATH, f'//div[contains(@class, \"Gpq6kf\") and contains(@class, \"NlVald\") and text()=\"Latest\"]')\n"
   ]
  }
 ],
 "metadata": {
  "kernelspec": {
   "display_name": "Python 3",
   "language": "python",
   "name": "python3"
  },
  "language_info": {
   "codemirror_mode": {
    "name": "ipython",
    "version": 3
   },
   "file_extension": ".py",
   "mimetype": "text/x-python",
   "name": "python",
   "nbconvert_exporter": "python",
   "pygments_lexer": "ipython3",
   "version": "3.12.7"
  }
 },
 "nbformat": 4,
 "nbformat_minor": 5
}
