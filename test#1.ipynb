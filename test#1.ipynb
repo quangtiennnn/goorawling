{
 "cells": [
  {
   "cell_type": "markdown",
   "id": "574d02c7",
   "metadata": {},
   "source": [
    "## ..."
   ]
  },
  {
   "cell_type": "code",
   "execution_count": 1,
   "id": "fa104a00",
   "metadata": {},
   "outputs": [],
   "source": [
    "from tools import *"
   ]
  },
  {
   "cell_type": "code",
   "execution_count": 2,
   "id": "81a8861a",
   "metadata": {},
   "outputs": [],
   "source": [
    "link = 'https://www.google.com/maps/place/Ph%E1%BB%9F+H%E1%BA%A1nh+-+Hu%E1%BB%B3nh+M%E1%BA%ABn+%C4%90%E1%BA%A1t/@10.7548876,106.6739395,17z/data=!3m1!4b1!4m6!3m5!1s0x31752f7c1e139f01:0x1f6556a92991ba1d!8m2!3d10.7548823!4d106.6765144!16s%2Fg%2F11h4f6swbg?entry=ttu&g_ep=EgoyMDI1MDUyOC4wIKXMDSoASAFQAw%3D%3D'"
   ]
  },
  {
   "cell_type": "code",
   "execution_count": 30,
   "id": "fd387c2b",
   "metadata": {},
   "outputs": [],
   "source": [
    "# chrome_options = Options()\n",
    "# chrome_options.add_experimental_option(\"prefs\", {\"profile.managed_default_content_settings.images\": 2}) # 2 means block images\n",
    "\n",
    "driver = webdriver.Chrome(options=chrome_options)\n",
    "actions = ActionChains(driver)\n",
    "driver.get(link)"
   ]
  },
  {
   "cell_type": "code",
   "execution_count": 4,
   "id": "f976d354",
   "metadata": {},
   "outputs": [],
   "source": [
    "def move_to_all_photos(driver):\n",
    "    driver.find_element(By.XPATH, '//*[@id=\"QA0Szd\"]/div/div/div[1]/div[2]/div/div[1]/div/div/div[26]/div[2]/div[2]/div[2]/div[1]/button').click()\n",
    "\n",
    "# move_to_all_photos(driver)"
   ]
  },
  {
   "cell_type": "code",
   "execution_count": 5,
   "id": "70700966",
   "metadata": {},
   "outputs": [],
   "source": [
    "actions = ActionChains(driver)"
   ]
  },
  {
   "cell_type": "code",
   "execution_count": null,
   "id": "869fe94b",
   "metadata": {},
   "outputs": [],
   "source": []
  },
  {
   "cell_type": "code",
   "execution_count": 8,
   "id": "9bd52877",
   "metadata": {},
   "outputs": [
    {
     "ename": "ElementNotInteractableException",
     "evalue": "Message: element not interactable\n  (Session info: chrome=136.0.7103.114)\nStacktrace:\n\tGetHandleVerifier [0x00007FF731B4CF45+75717]\n\tGetHandleVerifier [0x00007FF731B4CFA0+75808]\n\t(No symbol) [0x00007FF731918DCC]\n\t(No symbol) [0x00007FF7319709C4]\n\t(No symbol) [0x00007FF731962394]\n\t(No symbol) [0x00007FF73199737A]\n\t(No symbol) [0x00007FF731961C46]\n\t(No symbol) [0x00007FF731997590]\n\t(No symbol) [0x00007FF7319BF39C]\n\t(No symbol) [0x00007FF731997153]\n\t(No symbol) [0x00007FF731960421]\n\t(No symbol) [0x00007FF7319611B3]\n\tGetHandleVerifier [0x00007FF731E4D71D+3223453]\n\tGetHandleVerifier [0x00007FF731E47CC2+3200322]\n\tGetHandleVerifier [0x00007FF731E65AF3+3322739]\n\tGetHandleVerifier [0x00007FF731B66A1A+180890]\n\tGetHandleVerifier [0x00007FF731B6E11F+211359]\n\tGetHandleVerifier [0x00007FF731B55294+109332]\n\tGetHandleVerifier [0x00007FF731B55442+109762]\n\tGetHandleVerifier [0x00007FF731B3BA59+4825]\n\tBaseThreadInitThunk [0x00007FFEC449E8D7+23]\n\tRtlUserThreadStart [0x00007FFEC579C5DC+44]\n",
     "output_type": "error",
     "traceback": [
      "\u001b[1;31m---------------------------------------------------------------------------\u001b[0m",
      "\u001b[1;31mElementNotInteractableException\u001b[0m           Traceback (most recent call last)",
      "Cell \u001b[1;32mIn[8], line 3\u001b[0m\n\u001b[0;32m      1\u001b[0m \u001b[38;5;66;03m# Find and click the button with class 'K4UgGe' and aria-label 'All'\u001b[39;00m\n\u001b[0;32m      2\u001b[0m all_button \u001b[38;5;241m=\u001b[39m driver\u001b[38;5;241m.\u001b[39mfind_element(By\u001b[38;5;241m.\u001b[39mXPATH, \u001b[38;5;124m'\u001b[39m\u001b[38;5;124m//button[contains(@class, \u001b[39m\u001b[38;5;124m\"\u001b[39m\u001b[38;5;124mK4UgGe\u001b[39m\u001b[38;5;124m\"\u001b[39m\u001b[38;5;124m) and @aria-label=\u001b[39m\u001b[38;5;124m\"\u001b[39m\u001b[38;5;124mAll\u001b[39m\u001b[38;5;124m\"\u001b[39m\u001b[38;5;124m]\u001b[39m\u001b[38;5;124m'\u001b[39m)\n\u001b[1;32m----> 3\u001b[0m all_button\u001b[38;5;241m.\u001b[39mclick()\n",
      "File \u001b[1;32m~\\AppData\\Roaming\\Python\\Python312\\site-packages\\selenium\\webdriver\\remote\\webelement.py:94\u001b[0m, in \u001b[0;36mWebElement.click\u001b[1;34m(self)\u001b[0m\n\u001b[0;32m     92\u001b[0m \u001b[38;5;28;01mdef\u001b[39;00m \u001b[38;5;21mclick\u001b[39m(\u001b[38;5;28mself\u001b[39m) \u001b[38;5;241m-\u001b[39m\u001b[38;5;241m>\u001b[39m \u001b[38;5;28;01mNone\u001b[39;00m:\n\u001b[0;32m     93\u001b[0m \u001b[38;5;250m    \u001b[39m\u001b[38;5;124;03m\"\"\"Clicks the element.\"\"\"\u001b[39;00m\n\u001b[1;32m---> 94\u001b[0m     \u001b[38;5;28mself\u001b[39m\u001b[38;5;241m.\u001b[39m_execute(Command\u001b[38;5;241m.\u001b[39mCLICK_ELEMENT)\n",
      "File \u001b[1;32m~\\AppData\\Roaming\\Python\\Python312\\site-packages\\selenium\\webdriver\\remote\\webelement.py:395\u001b[0m, in \u001b[0;36mWebElement._execute\u001b[1;34m(self, command, params)\u001b[0m\n\u001b[0;32m    393\u001b[0m     params \u001b[38;5;241m=\u001b[39m {}\n\u001b[0;32m    394\u001b[0m params[\u001b[38;5;124m\"\u001b[39m\u001b[38;5;124mid\u001b[39m\u001b[38;5;124m\"\u001b[39m] \u001b[38;5;241m=\u001b[39m \u001b[38;5;28mself\u001b[39m\u001b[38;5;241m.\u001b[39m_id\n\u001b[1;32m--> 395\u001b[0m \u001b[38;5;28;01mreturn\u001b[39;00m \u001b[38;5;28mself\u001b[39m\u001b[38;5;241m.\u001b[39m_parent\u001b[38;5;241m.\u001b[39mexecute(command, params)\n",
      "File \u001b[1;32m~\\AppData\\Roaming\\Python\\Python312\\site-packages\\selenium\\webdriver\\remote\\webdriver.py:384\u001b[0m, in \u001b[0;36mWebDriver.execute\u001b[1;34m(self, driver_command, params)\u001b[0m\n\u001b[0;32m    382\u001b[0m response \u001b[38;5;241m=\u001b[39m \u001b[38;5;28mself\u001b[39m\u001b[38;5;241m.\u001b[39mcommand_executor\u001b[38;5;241m.\u001b[39mexecute(driver_command, params)\n\u001b[0;32m    383\u001b[0m \u001b[38;5;28;01mif\u001b[39;00m response:\n\u001b[1;32m--> 384\u001b[0m     \u001b[38;5;28mself\u001b[39m\u001b[38;5;241m.\u001b[39merror_handler\u001b[38;5;241m.\u001b[39mcheck_response(response)\n\u001b[0;32m    385\u001b[0m     response[\u001b[38;5;124m\"\u001b[39m\u001b[38;5;124mvalue\u001b[39m\u001b[38;5;124m\"\u001b[39m] \u001b[38;5;241m=\u001b[39m \u001b[38;5;28mself\u001b[39m\u001b[38;5;241m.\u001b[39m_unwrap_value(response\u001b[38;5;241m.\u001b[39mget(\u001b[38;5;124m\"\u001b[39m\u001b[38;5;124mvalue\u001b[39m\u001b[38;5;124m\"\u001b[39m, \u001b[38;5;28;01mNone\u001b[39;00m))\n\u001b[0;32m    386\u001b[0m     \u001b[38;5;28;01mreturn\u001b[39;00m response\n",
      "File \u001b[1;32m~\\AppData\\Roaming\\Python\\Python312\\site-packages\\selenium\\webdriver\\remote\\errorhandler.py:232\u001b[0m, in \u001b[0;36mErrorHandler.check_response\u001b[1;34m(self, response)\u001b[0m\n\u001b[0;32m    230\u001b[0m         alert_text \u001b[38;5;241m=\u001b[39m value[\u001b[38;5;124m\"\u001b[39m\u001b[38;5;124malert\u001b[39m\u001b[38;5;124m\"\u001b[39m]\u001b[38;5;241m.\u001b[39mget(\u001b[38;5;124m\"\u001b[39m\u001b[38;5;124mtext\u001b[39m\u001b[38;5;124m\"\u001b[39m)\n\u001b[0;32m    231\u001b[0m     \u001b[38;5;28;01mraise\u001b[39;00m exception_class(message, screen, stacktrace, alert_text)  \u001b[38;5;66;03m# type: ignore[call-arg]  # mypy is not smart enough here\u001b[39;00m\n\u001b[1;32m--> 232\u001b[0m \u001b[38;5;28;01mraise\u001b[39;00m exception_class(message, screen, stacktrace)\n",
      "\u001b[1;31mElementNotInteractableException\u001b[0m: Message: element not interactable\n  (Session info: chrome=136.0.7103.114)\nStacktrace:\n\tGetHandleVerifier [0x00007FF731B4CF45+75717]\n\tGetHandleVerifier [0x00007FF731B4CFA0+75808]\n\t(No symbol) [0x00007FF731918DCC]\n\t(No symbol) [0x00007FF7319709C4]\n\t(No symbol) [0x00007FF731962394]\n\t(No symbol) [0x00007FF73199737A]\n\t(No symbol) [0x00007FF731961C46]\n\t(No symbol) [0x00007FF731997590]\n\t(No symbol) [0x00007FF7319BF39C]\n\t(No symbol) [0x00007FF731997153]\n\t(No symbol) [0x00007FF731960421]\n\t(No symbol) [0x00007FF7319611B3]\n\tGetHandleVerifier [0x00007FF731E4D71D+3223453]\n\tGetHandleVerifier [0x00007FF731E47CC2+3200322]\n\tGetHandleVerifier [0x00007FF731E65AF3+3322739]\n\tGetHandleVerifier [0x00007FF731B66A1A+180890]\n\tGetHandleVerifier [0x00007FF731B6E11F+211359]\n\tGetHandleVerifier [0x00007FF731B55294+109332]\n\tGetHandleVerifier [0x00007FF731B55442+109762]\n\tGetHandleVerifier [0x00007FF731B3BA59+4825]\n\tBaseThreadInitThunk [0x00007FFEC449E8D7+23]\n\tRtlUserThreadStart [0x00007FFEC579C5DC+44]\n"
     ]
    }
   ],
   "source": [
    "# Find and click the button with class 'K4UgGe' and aria-label 'All'\n",
    "all_button = driver.find_element(By.XPATH, '//button[contains(@class, \"K4UgGe\") and @aria-label=\"All\"]')\n",
    "all_button.click()"
   ]
  },
  {
   "cell_type": "code",
   "execution_count": null,
   "id": "d3ba5fbb",
   "metadata": {},
   "outputs": [],
   "source": [
    "def tag_click(tag,driver):\n",
    "    driver.find_element(By.XPATH, f'//div[contains(@class, \"Gpq6kf\") and contains(@class, \"NlVald\") and text()=\"{tag}\"]').click()\n",
    "# move_to_all_photos(driver)\n"
   ]
  },
  {
   "cell_type": "code",
   "execution_count": 36,
   "id": "2c64401c",
   "metadata": {},
   "outputs": [],
   "source": [
    "import random"
   ]
  },
  {
   "cell_type": "code",
   "execution_count": 37,
   "id": "964e93f0",
   "metadata": {},
   "outputs": [],
   "source": [
    "# actions = ActionChains(driver)\n",
    "# all_button = driver.find_element(By.XPATH, '//button[contains(@class, \"K4UgGe\") and @aria-label=\"All\"]')\n",
    "\n",
    "\n",
    "# # Move to the button and click it!!!\n",
    "# actions.move_to_element(all_button).perform()\n",
    "# time.sleep(random.uniform(1, 3))\n",
    "\n",
    "# # Click the button\n",
    "# all_button.click()\n",
    "\n",
    "time.sleep(random.uniform(1, 2))\n",
    "tag_click('Menu')\n"
   ]
  },
  {
   "cell_type": "code",
   "execution_count": null,
   "id": "30fdd360",
   "metadata": {},
   "outputs": [
    {
     "data": {
      "text/plain": [
       "[<selenium.webdriver.remote.webelement.WebElement (session=\"6b0c0851df1efbaff2717cab6b1b71f4\", element=\"f.F6C15C2A137CEA11DBA48368AF017B75.d.7C3A59770FE1AD666A2CD753A1474EC8.e.130\")>,\n",
       " <selenium.webdriver.remote.webelement.WebElement (session=\"6b0c0851df1efbaff2717cab6b1b71f4\", element=\"f.F6C15C2A137CEA11DBA48368AF017B75.d.7C3A59770FE1AD666A2CD753A1474EC8.e.129\")>]"
      ]
     },
     "execution_count": 46,
     "metadata": {},
     "output_type": "execute_result"
    }
   ],
   "source": [
    "# image_loaded = driver.find_elements(By.CSS_SELECTOR, '.Uf0tqf.loaded')\n",
    "# image_loaded"
   ]
  },
  {
   "cell_type": "code",
   "execution_count": 56,
   "id": "e6c5d1bb",
   "metadata": {},
   "outputs": [
    {
     "data": {
      "text/plain": [
       "['Menu', 'Food & drink', 'Vibe', 'Pho', 'Soup']"
      ]
     },
     "execution_count": 56,
     "metadata": {},
     "output_type": "execute_result"
    }
   ],
   "source": [
    "elems = driver.find_elements(By.CSS_SELECTOR,'.Gpq6kf.NlVald')\n",
    "tag_names = [elem.text for elem in elems if elem.text != 'All' and elem.text != 'Latest']\n",
    "tag_names"
   ]
  },
  {
   "cell_type": "code",
   "execution_count": null,
   "id": "25228ec8",
   "metadata": {},
   "outputs": [
    {
     "name": "stdout",
     "output_type": "stream",
     "text": [
      "{'Latest': ['https://lh3.googleusercontent.com/gps-cs-s/AC9h4nqIlIVsEAdz3t3dG79HZUgNsJskvwEb-njqrj-VRrOwNNGYQs-D_ReEqobFHpKGT6NlGhw0HIKrzRLvPYJCsLznhLNYaei2uGAYPI798QxAkyxfOvZisTaDj3WngLrqniwhDvKqAg=s406-k-no'], 'Menu': ['https://lh3.googleusercontent.com/gps-cs-s/AC9h4nq_Fb8fIooYz2uBo5cGrunHYCkel2u44BuZFP4j4s9E_p0CGytUeyLEBsUyz4zjr8HFJdlIO28OuQevn_F6HyjUywTYlc3LXe05Hlxo4St37PE5OGbcyGR_cIXYp81FFp81gxA=s508-k-no', 'https://lh3.googleusercontent.com/gps-cs-s/AC9h4nqQW5LIyNhEqQiWCBQTA4SfwNenMZaN8PJkCc2h_1vVJtSDJ3ff1-lD99iWEQbPJMeSQtAgueNhx17isAXrECgk4gkf-ljYFDt9Gf0FTblu5Hgz4xLDyHBiIUqelzoR7HGLSfDNOQ=s406-k-no'], 'Food & drink': ['https://lh3.googleusercontent.com/gps-cs-s/AC9h4noW6kI_ziT2iOIHIzq9HlO2kKjAg2_zcn6LFELRc__44rCQuacyqjTcxw6BVziibX2yFkthsOeG_7MA53ZpmCpkqkEoyWj0a2nPtsjS1aQWjxvXshozNULwKsMcYm7uF4cbFIPv=s677-k-no', 'https://lh3.googleusercontent.com/gps-cs-s/AC9h4nrYj-hrapKQIbHjfszGBpbNNWRfbwudyFOlQJ-yUa6vViNj4Lb0y8G6pCn_e5TsP6YK_TkAhV7sTgPrX4ikeGCmZay-eJAfZ6maJ_wQ4ZbWXvVxU-5xBlNHBMyJtMknQr43J0Q=s387-k-no'], 'Vibe': ['https://lh3.googleusercontent.com/gps-cs-s/AC9h4npMa57X0VBjI1HmjhhcL9OxDyuUqA04PlF1ExV1BFGpWd7KxlNZjsaW3ExxCQRdLF25faG5pPd_hCfjNntG46yYkHNFN77m2ECPbtP6W34PTyt4kKoKaXw40QpSidkZANAiD5gg=s406-k-no'], 'Pho': ['https://lh3.googleusercontent.com/gps-cs-s/AC9h4noDctGK98uWmXx553_lDhJHrh_paWgs6y8dwOdII7tT6yqlB2UR6NbMPDP3-G8YsmLEPEI6KDo0ODq6WiXfDLvkfSI1iuHOCQGdJxa76aV5udzRW-TvjCyiKICQv_FoegWcox_a=s435-k-no', 'https://lh3.googleusercontent.com/gps-cs-s/AC9h4nroqQy0VZACVvTNnALnn_ID8wCgjZXJgx52X9t2DmsywU0kwkvFNiGfgLAZ33qQi5MP2KhMcKxnl0YEIZwUnz5oI_B_A5Wk0Cjkb7EVj-W0En31sNHXThKA5T1kxQt-AojN557i=s524-k-no', 'https://lh3.googleusercontent.com/gps-cs-s/AC9h4npflv99M_wLRmhqwXdRQEiGk_QkKefEoUldufjYr_V1dYAIztf7JYS4Pbxnio2q-vC_HG6qSigcMX2HaOa19-j7_l2WmC4kwQvSonbdfQ61tsp9TFYvBiVKa0lLG8BgG2ZWWCw=s387-k-no'], 'Soup': ['https://lh3.googleusercontent.com/gps-cs-s/AC9h4noW6kI_ziT2iOIHIzq9HlO2kKjAg2_zcn6LFELRc__44rCQuacyqjTcxw6BVziibX2yFkthsOeG_7MA53ZpmCpkqkEoyWj0a2nPtsjS1aQWjxvXshozNULwKsMcYm7uF4cbFIPv=s677-k-no', 'https://lh3.googleusercontent.com/gps-cs-s/AC9h4nrYj-hrapKQIbHjfszGBpbNNWRfbwudyFOlQJ-yUa6vViNj4Lb0y8G6pCn_e5TsP6YK_TkAhV7sTgPrX4ikeGCmZay-eJAfZ6maJ_wQ4ZbWXvVxU-5xBlNHBMyJtMknQr43J0Q=s387-k-no']}\n"
     ]
    }
   ],
   "source": [
    "def get_images_by_tags(driver):\n",
    "    # Get all tag names except 'All' and 'Latest' :)\n",
    "    elems = driver.find_elements(By.CSS_SELECTOR, '.Gpq6kf.NlVald')\n",
    "    tag_names = [elem.text for elem in elems if elem.text != 'All' and elem.text != 'Latest']\n",
    "\n",
    "    tag_images = {}\n",
    "\n",
    "    for tag in tag_names:\n",
    "        try:\n",
    "            tag_click(tag)\n",
    "            time.sleep(random.uniform(1,2))  # Wait for images to load after clicking tag\n",
    "            image_loaded = driver.find_elements(By.CSS_SELECTOR, '.Uf0tqf.loaded')\n",
    "            urls = []\n",
    "            for image in image_loaded:\n",
    "                style = image.get_attribute('style')\n",
    "                match = re.search(r'url\\((.*?)\\)', style)\n",
    "                if match:\n",
    "                    url = match.group(1).replace('&quot;', '').strip('\"')\n",
    "                    urls.append(url)\n",
    "            tag_images[tag] = urls\n",
    "        except Exception:\n",
    "            tag_images[tag] = []\n",
    "            \n",
    "    return tag_images\n",
    "\n",
    "# Example usage:\n",
    "tag_images_dict = get_images_by_tags(driver)"
   ]
  },
  {
   "cell_type": "code",
   "execution_count": 58,
   "id": "489a5224",
   "metadata": {},
   "outputs": [
    {
     "data": {
      "text/plain": [
       "{'Latest': ['https://lh3.googleusercontent.com/gps-cs-s/AC9h4nqIlIVsEAdz3t3dG79HZUgNsJskvwEb-njqrj-VRrOwNNGYQs-D_ReEqobFHpKGT6NlGhw0HIKrzRLvPYJCsLznhLNYaei2uGAYPI798QxAkyxfOvZisTaDj3WngLrqniwhDvKqAg=s406-k-no'],\n",
       " 'Menu': ['https://lh3.googleusercontent.com/gps-cs-s/AC9h4nq_Fb8fIooYz2uBo5cGrunHYCkel2u44BuZFP4j4s9E_p0CGytUeyLEBsUyz4zjr8HFJdlIO28OuQevn_F6HyjUywTYlc3LXe05Hlxo4St37PE5OGbcyGR_cIXYp81FFp81gxA=s508-k-no',\n",
       "  'https://lh3.googleusercontent.com/gps-cs-s/AC9h4nqQW5LIyNhEqQiWCBQTA4SfwNenMZaN8PJkCc2h_1vVJtSDJ3ff1-lD99iWEQbPJMeSQtAgueNhx17isAXrECgk4gkf-ljYFDt9Gf0FTblu5Hgz4xLDyHBiIUqelzoR7HGLSfDNOQ=s406-k-no'],\n",
       " 'Food & drink': ['https://lh3.googleusercontent.com/gps-cs-s/AC9h4noW6kI_ziT2iOIHIzq9HlO2kKjAg2_zcn6LFELRc__44rCQuacyqjTcxw6BVziibX2yFkthsOeG_7MA53ZpmCpkqkEoyWj0a2nPtsjS1aQWjxvXshozNULwKsMcYm7uF4cbFIPv=s677-k-no',\n",
       "  'https://lh3.googleusercontent.com/gps-cs-s/AC9h4nrYj-hrapKQIbHjfszGBpbNNWRfbwudyFOlQJ-yUa6vViNj4Lb0y8G6pCn_e5TsP6YK_TkAhV7sTgPrX4ikeGCmZay-eJAfZ6maJ_wQ4ZbWXvVxU-5xBlNHBMyJtMknQr43J0Q=s387-k-no'],\n",
       " 'Vibe': ['https://lh3.googleusercontent.com/gps-cs-s/AC9h4npMa57X0VBjI1HmjhhcL9OxDyuUqA04PlF1ExV1BFGpWd7KxlNZjsaW3ExxCQRdLF25faG5pPd_hCfjNntG46yYkHNFN77m2ECPbtP6W34PTyt4kKoKaXw40QpSidkZANAiD5gg=s406-k-no'],\n",
       " 'Pho': ['https://lh3.googleusercontent.com/gps-cs-s/AC9h4noDctGK98uWmXx553_lDhJHrh_paWgs6y8dwOdII7tT6yqlB2UR6NbMPDP3-G8YsmLEPEI6KDo0ODq6WiXfDLvkfSI1iuHOCQGdJxa76aV5udzRW-TvjCyiKICQv_FoegWcox_a=s435-k-no',\n",
       "  'https://lh3.googleusercontent.com/gps-cs-s/AC9h4nroqQy0VZACVvTNnALnn_ID8wCgjZXJgx52X9t2DmsywU0kwkvFNiGfgLAZ33qQi5MP2KhMcKxnl0YEIZwUnz5oI_B_A5Wk0Cjkb7EVj-W0En31sNHXThKA5T1kxQt-AojN557i=s524-k-no',\n",
       "  'https://lh3.googleusercontent.com/gps-cs-s/AC9h4npflv99M_wLRmhqwXdRQEiGk_QkKefEoUldufjYr_V1dYAIztf7JYS4Pbxnio2q-vC_HG6qSigcMX2HaOa19-j7_l2WmC4kwQvSonbdfQ61tsp9TFYvBiVKa0lLG8BgG2ZWWCw=s387-k-no'],\n",
       " 'Soup': ['https://lh3.googleusercontent.com/gps-cs-s/AC9h4noW6kI_ziT2iOIHIzq9HlO2kKjAg2_zcn6LFELRc__44rCQuacyqjTcxw6BVziibX2yFkthsOeG_7MA53ZpmCpkqkEoyWj0a2nPtsjS1aQWjxvXshozNULwKsMcYm7uF4cbFIPv=s677-k-no',\n",
       "  'https://lh3.googleusercontent.com/gps-cs-s/AC9h4nrYj-hrapKQIbHjfszGBpbNNWRfbwudyFOlQJ-yUa6vViNj4Lb0y8G6pCn_e5TsP6YK_TkAhV7sTgPrX4ikeGCmZay-eJAfZ6maJ_wQ4ZbWXvVxU-5xBlNHBMyJtMknQr43J0Q=s387-k-no']}"
      ]
     },
     "execution_count": 58,
     "metadata": {},
     "output_type": "execute_result"
    }
   ],
   "source": [
    "tag_images_dict"
   ]
  },
  {
   "cell_type": "code",
   "execution_count": 49,
   "id": "ee60f93d",
   "metadata": {},
   "outputs": [],
   "source": [
    "time.sleep(random.uniform(1, 2))\n",
    "tag_click('Food & drink')"
   ]
  },
  {
   "cell_type": "code",
   "execution_count": null,
   "id": "46038d80",
   "metadata": {},
   "outputs": [
    {
     "ename": "NoSuchWindowException",
     "evalue": "Message: no such window: target window already closed\nfrom unknown error: web view not found\n  (Session info: chrome=137.0.7151.55)\nStacktrace:\n\tGetHandleVerifier [0x0x7ff62c0ffea5+79173]\n\tGetHandleVerifier [0x0x7ff62c0fff00+79264]\n\t(No symbol) [0x0x7ff62beb9e5a]\n\t(No symbol) [0x0x7ff62be920f1]\n\t(No symbol) [0x0x7ff62bf4017e]\n\t(No symbol) [0x0x7ff62bf60922]\n\t(No symbol) [0x0x7ff62bf38743]\n\t(No symbol) [0x0x7ff62bf014c1]\n\t(No symbol) [0x0x7ff62bf02253]\n\tGetHandleVerifier [0x0x7ff62c3ca2dd+3004797]\n\tGetHandleVerifier [0x0x7ff62c3c472d+2981325]\n\tGetHandleVerifier [0x0x7ff62c3e3380+3107360]\n\tGetHandleVerifier [0x0x7ff62c11aa2e+188622]\n\tGetHandleVerifier [0x0x7ff62c1222bf+219487]\n\tGetHandleVerifier [0x0x7ff62c108df4+115860]\n\tGetHandleVerifier [0x0x7ff62c108fa9+116297]\n\tGetHandleVerifier [0x0x7ff62c0ef558+11256]\n\tBaseThreadInitThunk [0x0x7ff83807e8d7+23]\n\tRtlUserThreadStart [0x0x7ff838ef14fc+44]\n",
     "output_type": "error",
     "traceback": [
      "\u001b[1;31m---------------------------------------------------------------------------\u001b[0m",
      "\u001b[1;31mNoSuchWindowException\u001b[0m                     Traceback (most recent call last)",
      "Cell \u001b[1;32mIn[9], line 1\u001b[0m\n\u001b[1;32m----> 1\u001b[0m \u001b[43mdriver\u001b[49m\u001b[38;5;241;43m.\u001b[39;49m\u001b[43mfind_element\u001b[49m\u001b[43m(\u001b[49m\u001b[43mBy\u001b[49m\u001b[38;5;241;43m.\u001b[39;49m\u001b[43mXPATH\u001b[49m\u001b[43m,\u001b[49m\u001b[43m \u001b[49m\u001b[38;5;124;43mf\u001b[39;49m\u001b[38;5;124;43m'\u001b[39;49m\u001b[38;5;124;43m//div[contains(@class, \u001b[39;49m\u001b[38;5;124;43m\"\u001b[39;49m\u001b[38;5;124;43mGpq6kf\u001b[39;49m\u001b[38;5;124;43m\"\u001b[39;49m\u001b[38;5;124;43m) and contains(@class, \u001b[39;49m\u001b[38;5;124;43m\"\u001b[39;49m\u001b[38;5;124;43mNlVald\u001b[39;49m\u001b[38;5;124;43m\"\u001b[39;49m\u001b[38;5;124;43m) and text()=\u001b[39;49m\u001b[38;5;124;43m\"\u001b[39;49m\u001b[38;5;124;43mLatest\u001b[39;49m\u001b[38;5;124;43m\"\u001b[39;49m\u001b[38;5;124;43m]\u001b[39;49m\u001b[38;5;124;43m'\u001b[39;49m\u001b[43m)\u001b[49m\n",
      "File \u001b[1;32mc:\\Users\\darkn\\AppData\\Local\\Programs\\Python\\Python312\\Lib\\site-packages\\selenium\\webdriver\\remote\\webdriver.py:748\u001b[0m, in \u001b[0;36mWebDriver.find_element\u001b[1;34m(self, by, value)\u001b[0m\n\u001b[0;32m    745\u001b[0m     by \u001b[38;5;241m=\u001b[39m By\u001b[38;5;241m.\u001b[39mCSS_SELECTOR\n\u001b[0;32m    746\u001b[0m     value \u001b[38;5;241m=\u001b[39m \u001b[38;5;124mf\u001b[39m\u001b[38;5;124m'\u001b[39m\u001b[38;5;124m[name=\u001b[39m\u001b[38;5;124m\"\u001b[39m\u001b[38;5;132;01m{\u001b[39;00mvalue\u001b[38;5;132;01m}\u001b[39;00m\u001b[38;5;124m\"\u001b[39m\u001b[38;5;124m]\u001b[39m\u001b[38;5;124m'\u001b[39m\n\u001b[1;32m--> 748\u001b[0m \u001b[38;5;28;01mreturn\u001b[39;00m \u001b[38;5;28;43mself\u001b[39;49m\u001b[38;5;241;43m.\u001b[39;49m\u001b[43mexecute\u001b[49m\u001b[43m(\u001b[49m\u001b[43mCommand\u001b[49m\u001b[38;5;241;43m.\u001b[39;49m\u001b[43mFIND_ELEMENT\u001b[49m\u001b[43m,\u001b[49m\u001b[43m \u001b[49m\u001b[43m{\u001b[49m\u001b[38;5;124;43m\"\u001b[39;49m\u001b[38;5;124;43musing\u001b[39;49m\u001b[38;5;124;43m\"\u001b[39;49m\u001b[43m:\u001b[49m\u001b[43m \u001b[49m\u001b[43mby\u001b[49m\u001b[43m,\u001b[49m\u001b[43m \u001b[49m\u001b[38;5;124;43m\"\u001b[39;49m\u001b[38;5;124;43mvalue\u001b[39;49m\u001b[38;5;124;43m\"\u001b[39;49m\u001b[43m:\u001b[49m\u001b[43m \u001b[49m\u001b[43mvalue\u001b[49m\u001b[43m}\u001b[49m\u001b[43m)\u001b[49m[\u001b[38;5;124m\"\u001b[39m\u001b[38;5;124mvalue\u001b[39m\u001b[38;5;124m\"\u001b[39m]\n",
      "File \u001b[1;32mc:\\Users\\darkn\\AppData\\Local\\Programs\\Python\\Python312\\Lib\\site-packages\\selenium\\webdriver\\remote\\webdriver.py:354\u001b[0m, in \u001b[0;36mWebDriver.execute\u001b[1;34m(self, driver_command, params)\u001b[0m\n\u001b[0;32m    352\u001b[0m response \u001b[38;5;241m=\u001b[39m \u001b[38;5;28mself\u001b[39m\u001b[38;5;241m.\u001b[39mcommand_executor\u001b[38;5;241m.\u001b[39mexecute(driver_command, params)\n\u001b[0;32m    353\u001b[0m \u001b[38;5;28;01mif\u001b[39;00m response:\n\u001b[1;32m--> 354\u001b[0m     \u001b[38;5;28;43mself\u001b[39;49m\u001b[38;5;241;43m.\u001b[39;49m\u001b[43merror_handler\u001b[49m\u001b[38;5;241;43m.\u001b[39;49m\u001b[43mcheck_response\u001b[49m\u001b[43m(\u001b[49m\u001b[43mresponse\u001b[49m\u001b[43m)\u001b[49m\n\u001b[0;32m    355\u001b[0m     response[\u001b[38;5;124m\"\u001b[39m\u001b[38;5;124mvalue\u001b[39m\u001b[38;5;124m\"\u001b[39m] \u001b[38;5;241m=\u001b[39m \u001b[38;5;28mself\u001b[39m\u001b[38;5;241m.\u001b[39m_unwrap_value(response\u001b[38;5;241m.\u001b[39mget(\u001b[38;5;124m\"\u001b[39m\u001b[38;5;124mvalue\u001b[39m\u001b[38;5;124m\"\u001b[39m, \u001b[38;5;28;01mNone\u001b[39;00m))\n\u001b[0;32m    356\u001b[0m     \u001b[38;5;28;01mreturn\u001b[39;00m response\n",
      "File \u001b[1;32mc:\\Users\\darkn\\AppData\\Local\\Programs\\Python\\Python312\\Lib\\site-packages\\selenium\\webdriver\\remote\\errorhandler.py:229\u001b[0m, in \u001b[0;36mErrorHandler.check_response\u001b[1;34m(self, response)\u001b[0m\n\u001b[0;32m    227\u001b[0m         alert_text \u001b[38;5;241m=\u001b[39m value[\u001b[38;5;124m\"\u001b[39m\u001b[38;5;124malert\u001b[39m\u001b[38;5;124m\"\u001b[39m]\u001b[38;5;241m.\u001b[39mget(\u001b[38;5;124m\"\u001b[39m\u001b[38;5;124mtext\u001b[39m\u001b[38;5;124m\"\u001b[39m)\n\u001b[0;32m    228\u001b[0m     \u001b[38;5;28;01mraise\u001b[39;00m exception_class(message, screen, stacktrace, alert_text)  \u001b[38;5;66;03m# type: ignore[call-arg]  # mypy is not smart enough here\u001b[39;00m\n\u001b[1;32m--> 229\u001b[0m \u001b[38;5;28;01mraise\u001b[39;00m exception_class(message, screen, stacktrace)\n",
      "\u001b[1;31mNoSuchWindowException\u001b[0m: Message: no such window: target window already closed\nfrom unknown error: web view not found\n  (Session info: chrome=137.0.7151.55)\nStacktrace:\n\tGetHandleVerifier [0x0x7ff62c0ffea5+79173]\n\tGetHandleVerifier [0x0x7ff62c0fff00+79264]\n\t(No symbol) [0x0x7ff62beb9e5a]\n\t(No symbol) [0x0x7ff62be920f1]\n\t(No symbol) [0x0x7ff62bf4017e]\n\t(No symbol) [0x0x7ff62bf60922]\n\t(No symbol) [0x0x7ff62bf38743]\n\t(No symbol) [0x0x7ff62bf014c1]\n\t(No symbol) [0x0x7ff62bf02253]\n\tGetHandleVerifier [0x0x7ff62c3ca2dd+3004797]\n\tGetHandleVerifier [0x0x7ff62c3c472d+2981325]\n\tGetHandleVerifier [0x0x7ff62c3e3380+3107360]\n\tGetHandleVerifier [0x0x7ff62c11aa2e+188622]\n\tGetHandleVerifier [0x0x7ff62c1222bf+219487]\n\tGetHandleVerifier [0x0x7ff62c108df4+115860]\n\tGetHandleVerifier [0x0x7ff62c108fa9+116297]\n\tGetHandleVerifier [0x0x7ff62c0ef558+11256]\n\tBaseThreadInitThunk [0x0x7ff83807e8d7+23]\n\tRtlUserThreadStart [0x0x7ff838ef14fc+44]\n"
     ]
    }
   ],
   "source": [
    "driver.find_element(By.XPATH, f'//div[contains(@class, \"Gpq6kf\") and contains(@class, \"NlVald\") and text()=\"Latest\"]')\n"
   ]
  }
 ],
 "metadata": {
  "kernelspec": {
   "display_name": "base",
   "language": "python",
   "name": "python3"
  },
  "language_info": {
   "codemirror_mode": {
    "name": "ipython",
    "version": 3
   },
   "file_extension": ".py",
   "mimetype": "text/x-python",
   "name": "python",
   "nbconvert_exporter": "python",
   "pygments_lexer": "ipython3",
   "version": "3.12.7"
  }
 },
 "nbformat": 4,
 "nbformat_minor": 5
}
