{
 "cells": [
  {
   "cell_type": "code",
   "execution_count": 1,
   "id": "6b78fa6a",
   "metadata": {},
   "outputs": [],
   "source": [
    "import pandas as pd"
   ]
  },
  {
   "cell_type": "code",
   "execution_count": 23,
   "id": "09207bba",
   "metadata": {},
   "outputs": [
    {
     "data": {
      "text/html": [
       "<div>\n",
       "<style scoped>\n",
       "    .dataframe tbody tr th:only-of-type {\n",
       "        vertical-align: middle;\n",
       "    }\n",
       "\n",
       "    .dataframe tbody tr th {\n",
       "        vertical-align: top;\n",
       "    }\n",
       "\n",
       "    .dataframe thead th {\n",
       "        text-align: right;\n",
       "    }\n",
       "</style>\n",
       "<table border=\"1\" class=\"dataframe\">\n",
       "  <thead>\n",
       "    <tr style=\"text-align: right;\">\n",
       "      <th></th>\n",
       "      <th>restaurant_id</th>\n",
       "      <th>restaurant_link</th>\n",
       "    </tr>\n",
       "  </thead>\n",
       "  <tbody>\n",
       "    <tr>\n",
       "      <th>0</th>\n",
       "      <td>7321100</td>\n",
       "      <td>https://www.google.com/maps/place/Banh+Mi+25/@...</td>\n",
       "    </tr>\n",
       "    <tr>\n",
       "      <th>1</th>\n",
       "      <td>1124698</td>\n",
       "      <td>https://www.google.com/maps/place/Quan+An+Ngon...</td>\n",
       "    </tr>\n",
       "    <tr>\n",
       "      <th>2</th>\n",
       "      <td>12793763</td>\n",
       "      <td>https://www.google.com/maps/place/Hong+Hoai's+...</td>\n",
       "    </tr>\n",
       "    <tr>\n",
       "      <th>3</th>\n",
       "      <td>19255094</td>\n",
       "      <td>https://www.google.com/maps/place/Hoang's+Rest...</td>\n",
       "    </tr>\n",
       "    <tr>\n",
       "      <th>4</th>\n",
       "      <td>2548208</td>\n",
       "      <td>https://www.google.com/maps/place/Essence+Rest...</td>\n",
       "    </tr>\n",
       "  </tbody>\n",
       "</table>\n",
       "</div>"
      ],
      "text/plain": [
       "  restaurant_id                                    restaurant_link\n",
       "0       7321100  https://www.google.com/maps/place/Banh+Mi+25/@...\n",
       "1       1124698  https://www.google.com/maps/place/Quan+An+Ngon...\n",
       "2      12793763  https://www.google.com/maps/place/Hong+Hoai's+...\n",
       "3      19255094  https://www.google.com/maps/place/Hoang's+Rest...\n",
       "4       2548208  https://www.google.com/maps/place/Essence+Rest..."
      ]
     },
     "execution_count": 23,
     "metadata": {},
     "output_type": "execute_result"
    }
   ],
   "source": [
    "rows = []\n",
    "with open(\"../data/tripadvisor_restaurant/Ha_Noi_with_links.csv\", encoding=\"utf-8\") as f:\n",
    "    next(f)  # skip header\n",
    "    for line in f:\n",
    "        parts = line.strip().split(',', 1)  # split only on the first comma\n",
    "        if len(parts) == 2:\n",
    "            rows.append(parts)\n",
    "\n",
    "df = pd.DataFrame(rows, columns=[\"restaurant_id\", \"restaurant_link\"])\n",
    "df.head()"
   ]
  },
  {
   "cell_type": "code",
   "execution_count": 24,
   "id": "68e09f3e",
   "metadata": {},
   "outputs": [
    {
     "data": {
      "text/plain": [
       "(1000, 2)"
      ]
     },
     "execution_count": 24,
     "metadata": {},
     "output_type": "execute_result"
    }
   ],
   "source": [
    "df.shape"
   ]
  },
  {
   "cell_type": "code",
   "execution_count": 26,
   "id": "3589d52a",
   "metadata": {},
   "outputs": [
    {
     "data": {
      "text/html": [
       "<div>\n",
       "<style scoped>\n",
       "    .dataframe tbody tr th:only-of-type {\n",
       "        vertical-align: middle;\n",
       "    }\n",
       "\n",
       "    .dataframe tbody tr th {\n",
       "        vertical-align: top;\n",
       "    }\n",
       "\n",
       "    .dataframe thead th {\n",
       "        text-align: right;\n",
       "    }\n",
       "</style>\n",
       "<table border=\"1\" class=\"dataframe\">\n",
       "  <thead>\n",
       "    <tr style=\"text-align: right;\">\n",
       "      <th></th>\n",
       "      <th>restaurant_id</th>\n",
       "      <th>restaurant_link</th>\n",
       "      <th>lat</th>\n",
       "      <th>lon</th>\n",
       "    </tr>\n",
       "  </thead>\n",
       "  <tbody>\n",
       "    <tr>\n",
       "      <th>0</th>\n",
       "      <td>7321100</td>\n",
       "      <td>https://www.google.com/maps/place/Banh+Mi+25/@...</td>\n",
       "      <td>21.036118</td>\n",
       "      <td>105.8460021</td>\n",
       "    </tr>\n",
       "    <tr>\n",
       "      <th>1</th>\n",
       "      <td>1124698</td>\n",
       "      <td>https://www.google.com/maps/place/Quan+An+Ngon...</td>\n",
       "      <td>21.0263067</td>\n",
       "      <td>105.8408014</td>\n",
       "    </tr>\n",
       "    <tr>\n",
       "      <th>2</th>\n",
       "      <td>12793763</td>\n",
       "      <td>https://www.google.com/maps/place/Hong+Hoai's+...</td>\n",
       "      <td>21.0338489</td>\n",
       "      <td>105.8448976</td>\n",
       "    </tr>\n",
       "    <tr>\n",
       "      <th>3</th>\n",
       "      <td>19255094</td>\n",
       "      <td>https://www.google.com/maps/place/Hoang's+Rest...</td>\n",
       "      <td>21.0358972</td>\n",
       "      <td>105.8489602</td>\n",
       "    </tr>\n",
       "    <tr>\n",
       "      <th>4</th>\n",
       "      <td>2548208</td>\n",
       "      <td>https://www.google.com/maps/place/Essence+Rest...</td>\n",
       "      <td>21.0306464</td>\n",
       "      <td>105.8392623</td>\n",
       "    </tr>\n",
       "  </tbody>\n",
       "</table>\n",
       "</div>"
      ],
      "text/plain": [
       "  restaurant_id                                    restaurant_link  \\\n",
       "0       7321100  https://www.google.com/maps/place/Banh+Mi+25/@...   \n",
       "1       1124698  https://www.google.com/maps/place/Quan+An+Ngon...   \n",
       "2      12793763  https://www.google.com/maps/place/Hong+Hoai's+...   \n",
       "3      19255094  https://www.google.com/maps/place/Hoang's+Rest...   \n",
       "4       2548208  https://www.google.com/maps/place/Essence+Rest...   \n",
       "\n",
       "          lat          lon  \n",
       "0   21.036118  105.8460021  \n",
       "1  21.0263067  105.8408014  \n",
       "2  21.0338489  105.8448976  \n",
       "3  21.0358972  105.8489602  \n",
       "4  21.0306464  105.8392623  "
      ]
     },
     "execution_count": 26,
     "metadata": {},
     "output_type": "execute_result"
    }
   ],
   "source": [
    "def extract_lat_lon_from_url(url):\n",
    "    \"\"\"\n",
    "    Extract latitude and longitude from a Google Maps URL.\n",
    "    Returns (lat, lon) as strings, or (None, None) if not found.\n",
    "    \"\"\"\n",
    "    try:\n",
    "        # Example: .../@21.036118,105.8460021,17z/...\n",
    "        at_part = url.split('/@')[1].split('/')[0]\n",
    "        lat, lon = at_part.split(',')[:2]\n",
    "        return lat, lon\n",
    "    except Exception:\n",
    "        return None, None\n",
    "\n",
    "# Example usage:\n",
    "df[['lat', 'lon']] = df['restaurant_link'].apply(lambda url: pd.Series(extract_lat_lon_from_url(url)))\n",
    "df.head()"
   ]
  },
  {
   "cell_type": "code",
   "execution_count": 33,
   "id": "8b800974",
   "metadata": {},
   "outputs": [],
   "source": [
    "data =df"
   ]
  },
  {
   "cell_type": "code",
   "execution_count": 34,
   "id": "3b4c668b",
   "metadata": {},
   "outputs": [
    {
     "data": {
      "text/html": [
       "<div>\n",
       "<style scoped>\n",
       "    .dataframe tbody tr th:only-of-type {\n",
       "        vertical-align: middle;\n",
       "    }\n",
       "\n",
       "    .dataframe tbody tr th {\n",
       "        vertical-align: top;\n",
       "    }\n",
       "\n",
       "    .dataframe thead th {\n",
       "        text-align: right;\n",
       "    }\n",
       "</style>\n",
       "<table border=\"1\" class=\"dataframe\">\n",
       "  <thead>\n",
       "    <tr style=\"text-align: right;\">\n",
       "      <th></th>\n",
       "      <th>restaurant_id</th>\n",
       "      <th>restaurant_link</th>\n",
       "      <th>lat</th>\n",
       "      <th>lon</th>\n",
       "    </tr>\n",
       "  </thead>\n",
       "  <tbody>\n",
       "    <tr>\n",
       "      <th>0</th>\n",
       "      <td>7321100</td>\n",
       "      <td>https://www.google.com/maps/place/Banh+Mi+25/@...</td>\n",
       "      <td>21.036118</td>\n",
       "      <td>105.8460021</td>\n",
       "    </tr>\n",
       "    <tr>\n",
       "      <th>1</th>\n",
       "      <td>1124698</td>\n",
       "      <td>https://www.google.com/maps/place/Quan+An+Ngon...</td>\n",
       "      <td>21.0263067</td>\n",
       "      <td>105.8408014</td>\n",
       "    </tr>\n",
       "    <tr>\n",
       "      <th>2</th>\n",
       "      <td>12793763</td>\n",
       "      <td>https://www.google.com/maps/place/Hong+Hoai's+...</td>\n",
       "      <td>21.0338489</td>\n",
       "      <td>105.8448976</td>\n",
       "    </tr>\n",
       "    <tr>\n",
       "      <th>3</th>\n",
       "      <td>19255094</td>\n",
       "      <td>https://www.google.com/maps/place/Hoang's+Rest...</td>\n",
       "      <td>21.0358972</td>\n",
       "      <td>105.8489602</td>\n",
       "    </tr>\n",
       "    <tr>\n",
       "      <th>4</th>\n",
       "      <td>2548208</td>\n",
       "      <td>https://www.google.com/maps/place/Essence+Rest...</td>\n",
       "      <td>21.0306464</td>\n",
       "      <td>105.8392623</td>\n",
       "    </tr>\n",
       "    <tr>\n",
       "      <th>...</th>\n",
       "      <td>...</td>\n",
       "      <td>...</td>\n",
       "      <td>...</td>\n",
       "      <td>...</td>\n",
       "    </tr>\n",
       "    <tr>\n",
       "      <th>995</th>\n",
       "      <td>32994333</td>\n",
       "      <td>https://www.google.com/maps/place/AMY+Indian+R...</td>\n",
       "      <td>None</td>\n",
       "      <td>None</td>\n",
       "    </tr>\n",
       "    <tr>\n",
       "      <th>996</th>\n",
       "      <td>5277948</td>\n",
       "      <td>https://www.google.com/maps/place/Zpizza/data=...</td>\n",
       "      <td>None</td>\n",
       "      <td>None</td>\n",
       "    </tr>\n",
       "    <tr>\n",
       "      <th>997</th>\n",
       "      <td>26802639</td>\n",
       "      <td>https://www.google.com/maps/place/Pizza+4P%E2%...</td>\n",
       "      <td>None</td>\n",
       "      <td>None</td>\n",
       "    </tr>\n",
       "    <tr>\n",
       "      <th>998</th>\n",
       "      <td>11707989</td>\n",
       "      <td>https://www.google.com/maps/place/Takumi+Resta...</td>\n",
       "      <td>21.0330595</td>\n",
       "      <td>105.8072619</td>\n",
       "    </tr>\n",
       "    <tr>\n",
       "      <th>999</th>\n",
       "      <td>1119486</td>\n",
       "      <td>https://www.google.com/maps/place/Nh%C3%A0+H%C...</td>\n",
       "      <td>21.0223453</td>\n",
       "      <td>105.8445266</td>\n",
       "    </tr>\n",
       "  </tbody>\n",
       "</table>\n",
       "<p>1000 rows × 4 columns</p>\n",
       "</div>"
      ],
      "text/plain": [
       "    restaurant_id                                    restaurant_link  \\\n",
       "0         7321100  https://www.google.com/maps/place/Banh+Mi+25/@...   \n",
       "1         1124698  https://www.google.com/maps/place/Quan+An+Ngon...   \n",
       "2        12793763  https://www.google.com/maps/place/Hong+Hoai's+...   \n",
       "3        19255094  https://www.google.com/maps/place/Hoang's+Rest...   \n",
       "4         2548208  https://www.google.com/maps/place/Essence+Rest...   \n",
       "..            ...                                                ...   \n",
       "995      32994333  https://www.google.com/maps/place/AMY+Indian+R...   \n",
       "996       5277948  https://www.google.com/maps/place/Zpizza/data=...   \n",
       "997      26802639  https://www.google.com/maps/place/Pizza+4P%E2%...   \n",
       "998      11707989  https://www.google.com/maps/place/Takumi+Resta...   \n",
       "999       1119486  https://www.google.com/maps/place/Nh%C3%A0+H%C...   \n",
       "\n",
       "            lat          lon  \n",
       "0     21.036118  105.8460021  \n",
       "1    21.0263067  105.8408014  \n",
       "2    21.0338489  105.8448976  \n",
       "3    21.0358972  105.8489602  \n",
       "4    21.0306464  105.8392623  \n",
       "..          ...          ...  \n",
       "995        None         None  \n",
       "996        None         None  \n",
       "997        None         None  \n",
       "998  21.0330595  105.8072619  \n",
       "999  21.0223453  105.8445266  \n",
       "\n",
       "[1000 rows x 4 columns]"
      ]
     },
     "execution_count": 34,
     "metadata": {},
     "output_type": "execute_result"
    }
   ],
   "source": [
    "# Check for duplicates based on 'restaurant_id' and remove them\n",
    "data = data.drop_duplicates(subset='restaurant_id', keep='first').reset_index(drop=True)\n",
    "data"
   ]
  },
  {
   "cell_type": "code",
   "execution_count": 37,
   "id": "65ce0358",
   "metadata": {},
   "outputs": [
    {
     "data": {
      "text/plain": [
       "(1000, 32)"
      ]
     },
     "execution_count": 37,
     "metadata": {},
     "output_type": "execute_result"
    }
   ],
   "source": [
    "data_2 = pd.read_csv('../data/tripadvisor_restaurant/Ha Noi.csv')\n",
    "data_2.shape"
   ]
  },
  {
   "cell_type": "code",
   "execution_count": 54,
   "id": "13b285b6",
   "metadata": {},
   "outputs": [],
   "source": [
    "# data_2"
   ]
  },
  {
   "cell_type": "code",
   "execution_count": 55,
   "id": "e336c7a1",
   "metadata": {},
   "outputs": [],
   "source": [
    "# data_2.head()"
   ]
  },
  {
   "cell_type": "code",
   "execution_count": 51,
   "id": "d727c473",
   "metadata": {},
   "outputs": [],
   "source": [
    "data['restaurant_id'] = data['restaurant_id'].astype(str)\n",
    "data_2['restaurant_id'] = data_2['restaurant_id'].astype(str)"
   ]
  },
  {
   "cell_type": "code",
   "execution_count": null,
   "id": "62f99e57",
   "metadata": {},
   "outputs": [
    {
     "ename": "TypeError",
     "evalue": "unsupported operand type(s) for -: 'str' and 'float'",
     "output_type": "error",
     "traceback": [
      "\u001b[1;31m---------------------------------------------------------------------------\u001b[0m",
      "\u001b[1;31mTypeError\u001b[0m                                 Traceback (most recent call last)",
      "File \u001b[1;32m~\\AppData\\Roaming\\Python\\Python312\\site-packages\\pandas\\core\\ops\\array_ops.py:218\u001b[0m, in \u001b[0;36m_na_arithmetic_op\u001b[1;34m(left, right, op, is_cmp)\u001b[0m\n\u001b[0;32m    217\u001b[0m \u001b[38;5;28;01mtry\u001b[39;00m:\n\u001b[1;32m--> 218\u001b[0m     result \u001b[38;5;241m=\u001b[39m func(left, right)\n\u001b[0;32m    219\u001b[0m \u001b[38;5;28;01mexcept\u001b[39;00m \u001b[38;5;167;01mTypeError\u001b[39;00m:\n",
      "File \u001b[1;32m~\\AppData\\Roaming\\Python\\Python312\\site-packages\\pandas\\core\\computation\\expressions.py:242\u001b[0m, in \u001b[0;36mevaluate\u001b[1;34m(op, a, b, use_numexpr)\u001b[0m\n\u001b[0;32m    240\u001b[0m     \u001b[38;5;28;01mif\u001b[39;00m use_numexpr:\n\u001b[0;32m    241\u001b[0m         \u001b[38;5;66;03m# error: \"None\" not callable\u001b[39;00m\n\u001b[1;32m--> 242\u001b[0m         \u001b[38;5;28;01mreturn\u001b[39;00m _evaluate(op, op_str, a, b)  \u001b[38;5;66;03m# type: ignore[misc]\u001b[39;00m\n\u001b[0;32m    243\u001b[0m \u001b[38;5;28;01mreturn\u001b[39;00m _evaluate_standard(op, op_str, a, b)\n",
      "File \u001b[1;32m~\\AppData\\Roaming\\Python\\Python312\\site-packages\\pandas\\core\\computation\\expressions.py:131\u001b[0m, in \u001b[0;36m_evaluate_numexpr\u001b[1;34m(op, op_str, a, b)\u001b[0m\n\u001b[0;32m    130\u001b[0m \u001b[38;5;28;01mif\u001b[39;00m result \u001b[38;5;129;01mis\u001b[39;00m \u001b[38;5;28;01mNone\u001b[39;00m:\n\u001b[1;32m--> 131\u001b[0m     result \u001b[38;5;241m=\u001b[39m _evaluate_standard(op, op_str, a, b)\n\u001b[0;32m    133\u001b[0m \u001b[38;5;28;01mreturn\u001b[39;00m result\n",
      "File \u001b[1;32m~\\AppData\\Roaming\\Python\\Python312\\site-packages\\pandas\\core\\computation\\expressions.py:73\u001b[0m, in \u001b[0;36m_evaluate_standard\u001b[1;34m(op, op_str, a, b)\u001b[0m\n\u001b[0;32m     72\u001b[0m     _store_test_result(\u001b[38;5;28;01mFalse\u001b[39;00m)\n\u001b[1;32m---> 73\u001b[0m \u001b[38;5;28;01mreturn\u001b[39;00m op(a, b)\n",
      "\u001b[1;31mTypeError\u001b[0m: unsupported operand type(s) for -: 'str' and 'float'",
      "\nDuring handling of the above exception, another exception occurred:\n",
      "\u001b[1;31mTypeError\u001b[0m                                 Traceback (most recent call last)",
      "Cell \u001b[1;32mIn[56], line 12\u001b[0m\n\u001b[0;32m      4\u001b[0m merged \u001b[38;5;241m=\u001b[39m pd\u001b[38;5;241m.\u001b[39mmerge(\n\u001b[0;32m      5\u001b[0m     data,\n\u001b[0;32m      6\u001b[0m     data_2[[\u001b[38;5;124m'\u001b[39m\u001b[38;5;124mrestaurant_id\u001b[39m\u001b[38;5;124m'\u001b[39m, \u001b[38;5;124m'\u001b[39m\u001b[38;5;124mlatitude\u001b[39m\u001b[38;5;124m'\u001b[39m, \u001b[38;5;124m'\u001b[39m\u001b[38;5;124mlongitude\u001b[39m\u001b[38;5;124m'\u001b[39m]],\n\u001b[0;32m      7\u001b[0m     on\u001b[38;5;241m=\u001b[39m\u001b[38;5;124m'\u001b[39m\u001b[38;5;124mrestaurant_id\u001b[39m\u001b[38;5;124m'\u001b[39m,\n\u001b[0;32m      8\u001b[0m     how\u001b[38;5;241m=\u001b[39m\u001b[38;5;124m'\u001b[39m\u001b[38;5;124minner\u001b[39m\u001b[38;5;124m'\u001b[39m\n\u001b[0;32m      9\u001b[0m )\n\u001b[0;32m     11\u001b[0m \u001b[38;5;66;03m# Calculate the absolute difference\u001b[39;00m\n\u001b[1;32m---> 12\u001b[0m merged[\u001b[38;5;124m'\u001b[39m\u001b[38;5;124mlat_diff\u001b[39m\u001b[38;5;124m'\u001b[39m] \u001b[38;5;241m=\u001b[39m (merged[\u001b[38;5;124m'\u001b[39m\u001b[38;5;124mlat\u001b[39m\u001b[38;5;124m'\u001b[39m] \u001b[38;5;241m-\u001b[39m merged[\u001b[38;5;124m'\u001b[39m\u001b[38;5;124mlatitude\u001b[39m\u001b[38;5;124m'\u001b[39m])\u001b[38;5;241m.\u001b[39mabs()\n\u001b[0;32m     13\u001b[0m merged[\u001b[38;5;124m'\u001b[39m\u001b[38;5;124mlon_diff\u001b[39m\u001b[38;5;124m'\u001b[39m] \u001b[38;5;241m=\u001b[39m (merged[\u001b[38;5;124m'\u001b[39m\u001b[38;5;124mlon\u001b[39m\u001b[38;5;124m'\u001b[39m] \u001b[38;5;241m-\u001b[39m merged[\u001b[38;5;124m'\u001b[39m\u001b[38;5;124mlongitude\u001b[39m\u001b[38;5;124m'\u001b[39m])\u001b[38;5;241m.\u001b[39mabs()\n\u001b[0;32m     15\u001b[0m \u001b[38;5;66;03m# Set a threshold for \"too much different\" (e.g., 0.01 degrees ~1km)\u001b[39;00m\n",
      "File \u001b[1;32m~\\AppData\\Roaming\\Python\\Python312\\site-packages\\pandas\\core\\ops\\common.py:76\u001b[0m, in \u001b[0;36m_unpack_zerodim_and_defer.<locals>.new_method\u001b[1;34m(self, other)\u001b[0m\n\u001b[0;32m     72\u001b[0m             \u001b[38;5;28;01mreturn\u001b[39;00m \u001b[38;5;28mNotImplemented\u001b[39m\n\u001b[0;32m     74\u001b[0m other \u001b[38;5;241m=\u001b[39m item_from_zerodim(other)\n\u001b[1;32m---> 76\u001b[0m \u001b[38;5;28;01mreturn\u001b[39;00m method(\u001b[38;5;28mself\u001b[39m, other)\n",
      "File \u001b[1;32m~\\AppData\\Roaming\\Python\\Python312\\site-packages\\pandas\\core\\arraylike.py:194\u001b[0m, in \u001b[0;36mOpsMixin.__sub__\u001b[1;34m(self, other)\u001b[0m\n\u001b[0;32m    192\u001b[0m \u001b[38;5;129m@unpack_zerodim_and_defer\u001b[39m(\u001b[38;5;124m\"\u001b[39m\u001b[38;5;124m__sub__\u001b[39m\u001b[38;5;124m\"\u001b[39m)\n\u001b[0;32m    193\u001b[0m \u001b[38;5;28;01mdef\u001b[39;00m \u001b[38;5;21m__sub__\u001b[39m(\u001b[38;5;28mself\u001b[39m, other):\n\u001b[1;32m--> 194\u001b[0m     \u001b[38;5;28;01mreturn\u001b[39;00m \u001b[38;5;28mself\u001b[39m\u001b[38;5;241m.\u001b[39m_arith_method(other, operator\u001b[38;5;241m.\u001b[39msub)\n",
      "File \u001b[1;32m~\\AppData\\Roaming\\Python\\Python312\\site-packages\\pandas\\core\\series.py:6135\u001b[0m, in \u001b[0;36mSeries._arith_method\u001b[1;34m(self, other, op)\u001b[0m\n\u001b[0;32m   6133\u001b[0m \u001b[38;5;28;01mdef\u001b[39;00m \u001b[38;5;21m_arith_method\u001b[39m(\u001b[38;5;28mself\u001b[39m, other, op):\n\u001b[0;32m   6134\u001b[0m     \u001b[38;5;28mself\u001b[39m, other \u001b[38;5;241m=\u001b[39m \u001b[38;5;28mself\u001b[39m\u001b[38;5;241m.\u001b[39m_align_for_op(other)\n\u001b[1;32m-> 6135\u001b[0m     \u001b[38;5;28;01mreturn\u001b[39;00m base\u001b[38;5;241m.\u001b[39mIndexOpsMixin\u001b[38;5;241m.\u001b[39m_arith_method(\u001b[38;5;28mself\u001b[39m, other, op)\n",
      "File \u001b[1;32m~\\AppData\\Roaming\\Python\\Python312\\site-packages\\pandas\\core\\base.py:1382\u001b[0m, in \u001b[0;36mIndexOpsMixin._arith_method\u001b[1;34m(self, other, op)\u001b[0m\n\u001b[0;32m   1379\u001b[0m     rvalues \u001b[38;5;241m=\u001b[39m np\u001b[38;5;241m.\u001b[39marange(rvalues\u001b[38;5;241m.\u001b[39mstart, rvalues\u001b[38;5;241m.\u001b[39mstop, rvalues\u001b[38;5;241m.\u001b[39mstep)\n\u001b[0;32m   1381\u001b[0m \u001b[38;5;28;01mwith\u001b[39;00m np\u001b[38;5;241m.\u001b[39merrstate(\u001b[38;5;28mall\u001b[39m\u001b[38;5;241m=\u001b[39m\u001b[38;5;124m\"\u001b[39m\u001b[38;5;124mignore\u001b[39m\u001b[38;5;124m\"\u001b[39m):\n\u001b[1;32m-> 1382\u001b[0m     result \u001b[38;5;241m=\u001b[39m ops\u001b[38;5;241m.\u001b[39marithmetic_op(lvalues, rvalues, op)\n\u001b[0;32m   1384\u001b[0m \u001b[38;5;28;01mreturn\u001b[39;00m \u001b[38;5;28mself\u001b[39m\u001b[38;5;241m.\u001b[39m_construct_result(result, name\u001b[38;5;241m=\u001b[39mres_name)\n",
      "File \u001b[1;32m~\\AppData\\Roaming\\Python\\Python312\\site-packages\\pandas\\core\\ops\\array_ops.py:283\u001b[0m, in \u001b[0;36marithmetic_op\u001b[1;34m(left, right, op)\u001b[0m\n\u001b[0;32m    279\u001b[0m     _bool_arith_check(op, left, right)  \u001b[38;5;66;03m# type: ignore[arg-type]\u001b[39;00m\n\u001b[0;32m    281\u001b[0m     \u001b[38;5;66;03m# error: Argument 1 to \"_na_arithmetic_op\" has incompatible type\u001b[39;00m\n\u001b[0;32m    282\u001b[0m     \u001b[38;5;66;03m# \"Union[ExtensionArray, ndarray[Any, Any]]\"; expected \"ndarray[Any, Any]\"\u001b[39;00m\n\u001b[1;32m--> 283\u001b[0m     res_values \u001b[38;5;241m=\u001b[39m _na_arithmetic_op(left, right, op)  \u001b[38;5;66;03m# type: ignore[arg-type]\u001b[39;00m\n\u001b[0;32m    285\u001b[0m \u001b[38;5;28;01mreturn\u001b[39;00m res_values\n",
      "File \u001b[1;32m~\\AppData\\Roaming\\Python\\Python312\\site-packages\\pandas\\core\\ops\\array_ops.py:227\u001b[0m, in \u001b[0;36m_na_arithmetic_op\u001b[1;34m(left, right, op, is_cmp)\u001b[0m\n\u001b[0;32m    219\u001b[0m \u001b[38;5;28;01mexcept\u001b[39;00m \u001b[38;5;167;01mTypeError\u001b[39;00m:\n\u001b[0;32m    220\u001b[0m     \u001b[38;5;28;01mif\u001b[39;00m \u001b[38;5;129;01mnot\u001b[39;00m is_cmp \u001b[38;5;129;01mand\u001b[39;00m (\n\u001b[0;32m    221\u001b[0m         left\u001b[38;5;241m.\u001b[39mdtype \u001b[38;5;241m==\u001b[39m \u001b[38;5;28mobject\u001b[39m \u001b[38;5;129;01mor\u001b[39;00m \u001b[38;5;28mgetattr\u001b[39m(right, \u001b[38;5;124m\"\u001b[39m\u001b[38;5;124mdtype\u001b[39m\u001b[38;5;124m\"\u001b[39m, \u001b[38;5;28;01mNone\u001b[39;00m) \u001b[38;5;241m==\u001b[39m \u001b[38;5;28mobject\u001b[39m\n\u001b[0;32m    222\u001b[0m     ):\n\u001b[1;32m   (...)\u001b[0m\n\u001b[0;32m    225\u001b[0m         \u001b[38;5;66;03m# Don't do this for comparisons, as that will handle complex numbers\u001b[39;00m\n\u001b[0;32m    226\u001b[0m         \u001b[38;5;66;03m#  incorrectly, see GH#32047\u001b[39;00m\n\u001b[1;32m--> 227\u001b[0m         result \u001b[38;5;241m=\u001b[39m _masked_arith_op(left, right, op)\n\u001b[0;32m    228\u001b[0m     \u001b[38;5;28;01melse\u001b[39;00m:\n\u001b[0;32m    229\u001b[0m         \u001b[38;5;28;01mraise\u001b[39;00m\n",
      "File \u001b[1;32m~\\AppData\\Roaming\\Python\\Python312\\site-packages\\pandas\\core\\ops\\array_ops.py:163\u001b[0m, in \u001b[0;36m_masked_arith_op\u001b[1;34m(x, y, op)\u001b[0m\n\u001b[0;32m    161\u001b[0m     \u001b[38;5;66;03m# See GH#5284, GH#5035, GH#19448 for historical reference\u001b[39;00m\n\u001b[0;32m    162\u001b[0m     \u001b[38;5;28;01mif\u001b[39;00m mask\u001b[38;5;241m.\u001b[39many():\n\u001b[1;32m--> 163\u001b[0m         result[mask] \u001b[38;5;241m=\u001b[39m op(xrav[mask], yrav[mask])\n\u001b[0;32m    165\u001b[0m \u001b[38;5;28;01melse\u001b[39;00m:\n\u001b[0;32m    166\u001b[0m     \u001b[38;5;28;01mif\u001b[39;00m \u001b[38;5;129;01mnot\u001b[39;00m is_scalar(y):\n",
      "\u001b[1;31mTypeError\u001b[0m: unsupported operand type(s) for -: 'str' and 'float'"
     ]
    }
   ],
   "source": [
    "data['restaurant_id'] = data['restaurant_id'].astype(str)\n",
    "data_2['restaurant_id'] = data_2['restaurant_id'].astype(str)\n",
    "\n",
    "# Drop rows with missing lat/lon\n",
    "data = data.dropna(subset=['lat', 'lon']).reset_index(drop=True)\n",
    "\n",
    "merged = pd.merge(\n",
    "    data,\n",
    "    data_2[['restaurant_id', 'latitude', 'longitude']],\n",
    "    on='restaurant_id',\n",
    "    how='inner'\n",
    ")\n",
    "\n",
    "# Calculate the absolute difference\n",
    "merged['lat_diff'] = (merged['lat'] - merged['latitude']).abs()\n",
    "merged['lon_diff'] = (merged['lon'] - merged['longitude']).abs()\n",
    "\n",
    "# Set a threshold for \"too much different\" (e.g., 0.01 degrees ~1km)\n",
    "threshold = 0.01\n",
    "filtered = merged[(merged['lat_diff'] <= threshold) & (merged['lon_diff'] <= threshold)].reset_index(drop=True)\n",
    "\n",
    "# If you want only the filtered restaurant_ids:\n",
    "filtered_restaurant_ids = filtered['restaurant_id'].tolist()\n",
    "\n",
    "# Or, if you want to filter the original data DataFrames:\n",
    "data = data[data['restaurant_id'].isin(filtered_restaurant_ids)].reset_index(drop=True)\n",
    "data_2 = data_2[data_2['restaurant_id'].isin(filtered_restaurant_ids)].reset_index(drop=True)\n",
    "\n",
    "data.head()"
   ]
  },
  {
   "cell_type": "code",
   "execution_count": 19,
   "id": "44aaf78a",
   "metadata": {},
   "outputs": [],
   "source": [
    "data.to_csv('../data/tripadvisor_restaurant/restaurant_links1.csv', index=False, encoding='utf-8-sig')"
   ]
  }
 ],
 "metadata": {
  "kernelspec": {
   "display_name": "base",
   "language": "python",
   "name": "python3"
  },
  "language_info": {
   "codemirror_mode": {
    "name": "ipython",
    "version": 3
   },
   "file_extension": ".py",
   "mimetype": "text/x-python",
   "name": "python",
   "nbconvert_exporter": "python",
   "pygments_lexer": "ipython3",
   "version": "3.12.7"
  }
 },
 "nbformat": 4,
 "nbformat_minor": 5
}
