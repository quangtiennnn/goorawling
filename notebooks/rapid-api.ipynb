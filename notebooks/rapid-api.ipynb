{
 "cells": [
  {
   "cell_type": "code",
   "execution_count": null,
   "id": "684a12b5",
   "metadata": {},
   "outputs": [],
   "source": [
    "import os\n",
    "\n",
    "# Change current working directory to parent directory\n",
    "# Save the original working directory\n",
    "original_cwd = os.getcwd()\n",
    "\n",
    "# Change to parent directory\n",
    "os.chdir(\"..\")\n",
    "\n",
    "\n",
    "from tools import *\n",
    "from dotenv import load_dotenv\n",
    "\n",
    "# Load environment variables from .env file\n",
    "load_dotenv()\n",
    "\n",
    "# Access the API key\n",
    "tripadvisor_api_key = os.getenv(\"TRIPADVISOR_API_KEY\")\n",
    "rapid_api_key = os.getenv(\"RAPID_API_KEY_ALT_6\")\n"
   ]
  },
  {
   "cell_type": "code",
   "execution_count": null,
   "id": "685f2234",
   "metadata": {},
   "outputs": [
    {
     "name": "stdout",
     "output_type": "stream",
     "text": [
      "{'link': 'https://www.tripadvisor.com/Restaurants-g60763-New_York_City_New_York.html', 'total_pages': 333, 'current_page': 1, 'total_items_count': 10000, 'items_count': 35, 'results': [{'id': 27967019, 'name': 'Bustronome New York', 'link': 'https://www.tripadvisor.com/Restaurant_Review-g60763-d27967019-Reviews-Bustronome_New_York-New_York_City_New_York.html', 'reviews': 92, 'rating': 4.8, 'price_range_usd': '$$$$', 'is_sponsored': True, 'menu_link': 'https://bustronome.com/en/new-york/menu/', 'reservation_link': 'https://tripadvisor.com/Commerce?p=OpenTable&src=261568826&geo=27967019&from=Restaurants&area=reservation_button&slot=1&matchID=1&oos=0&cnt=1&silo=45582&bucket=979641&nrank=1&crank=1&clt=R&ttype=Restaurant&tm=330062411&managed=false&capped=false&gosox=9DMvibDTWdNaFeGYL8QTakyv1LBYZaGpeB4MEHn-hv2mZBN376EHVCGusTIRxmJ8jAjAU8_t8WEJpk9vaRXt-bCnr3Jwyqb6HlUemd3scRU&cs=137d5b31f52dd2d6d967ecb6961b9e569_M2M', 'featured_image': 'https://dynamic-media-cdn.tripadvisor.com/media/photo-o/2d/3b/6c/94/view-from-the-glass-roof.jpg', 'latitude': 40.767174, 'longitude': -73.98199, 'has_delivery': False, 'is_premium': True, 'cuisines': ['American', 'European']}, {'id': 424545, 'name': \"Ellen's Stardust Diner\", 'link': 'https://www.tripadvisor.com/Restaurant_Review-g60763-d424545-Reviews-Ellen_s_Stardust_Diner-New_York_City_New_York.html', 'reviews': 23476, 'rating': 4.1, 'price_range_usd': '$$ - $$$', 'is_sponsored': True, 'menu_link': 'https://www.ellensstardustdiner.com/menus/', 'reservation_link': None, 'featured_image': 'https://dynamic-media-cdn.tripadvisor.com/media/photo-o/2b/da/0e/6f/ellen-s-stardust-diner.jpg', 'latitude': 40.761883, 'longitude': -73.98344, 'has_delivery': False, 'is_premium': True, 'cuisines': ['American', 'Diner']}, {'id': 3903182, 'name': 'The Dead Rabbit', 'link': 'https://www.tripadvisor.com/Restaurant_Review-g60763-d3903182-Reviews-The_Dead_Rabbit-New_York_City_New_York.html', 'reviews': 1429, 'rating': 4.4, 'price_range_usd': '$$ - $$$', 'is_sponsored': False, 'menu_link': 'http://www.deadrabbitnyc.com/menus', 'reservation_link': 'https://tripadvisor.com/Commerce?p=Grubhub&src=253801061&geo=3903182&from=Restaurants&area=reservation_button&slot=1&matchID=1&oos=0&cnt=1&silo=25768&bucket=852508&nrank=1&crank=1&clt=R&ttype=Restaurant&tm=330062411&managed=false&capped=false&gosox=I-ADlg7wY8lqEq92hGOCPH9yxKao4fnJtoYdd5TLctoCVK2EaqcCi9rOMrUCyEby5pjk47Kr7Nt5nCFa0tAOBIm3jXU_sP_X2ladasSrbFQ&cs=1bcecb60a0b68003587a33b64267663f8_qzB', 'featured_image': 'https://dynamic-media-cdn.tripadvisor.com/media/photo-o/0b/43/14/0f/20160513-152127-largejpg.jpg', 'latitude': 40.703293, 'longitude': -74.011024, 'has_delivery': True, 'is_premium': False, 'cuisines': ['Irish', 'Bar', 'Pub']}, {'id': 425730, 'name': 'Monkey Bar', 'link': 'https://www.tripadvisor.com/Restaurant_Review-g60763-d425730-Reviews-Monkey_Bar-New_York_City_New_York.html', 'reviews': 613, 'rating': 4.1, 'price_range_usd': '$$$$', 'is_sponsored': False, 'menu_link': None, 'reservation_link': None, 'featured_image': 'https://dynamic-media-cdn.tripadvisor.com/media/photo-o/29/fc/8c/aa/dining-room.jpg', 'latitude': 40.7599, 'longitude': -73.973206, 'has_delivery': False, 'is_premium': False, 'cuisines': ['American', 'Bar']}, {'id': 426044, 'name': \"Sylvia's Restaurant\", 'link': 'https://www.tripadvisor.com/Restaurant_Review-g60763-d426044-Reviews-Sylvia_s_Restaurant-New_York_City_New_York.html', 'reviews': 2178, 'rating': 4.1, 'price_range_usd': '$$ - $$$', 'is_sponsored': False, 'menu_link': None, 'reservation_link': None, 'featured_image': 'https://dynamic-media-cdn.tripadvisor.com/media/photo-o/25/a3/34/63/interior.jpg', 'latitude': 40.808643, 'longitude': -73.94448, 'has_delivery': False, 'is_premium': False, 'cuisines': ['American']}, {'id': 8535925, 'name': \"Pep's on Grand\", 'link': 'https://www.tripadvisor.com/Restaurant_Review-g60763-d8535925-Reviews-Pep_s_on_Grand-New_York_City_New_York.html', 'reviews': 320, 'rating': 4.4, 'price_range_usd': '$$ - $$$', 'is_sponsored': False, 'menu_link': 'http://www.pepsongrand.com/menu', 'reservation_link': None, 'featured_image': 'https://dynamic-media-cdn.tripadvisor.com/media/photo-o/15/23/ca/52/photo0jpg.jpg', 'latitude': 40.719067, 'longitude': -73.99699, 'has_delivery': False, 'is_premium': False, 'cuisines': ['Italian', 'Pizza']}, {'id': 423299, 'name': 'Minetta Tavern', 'link': 'https://www.tripadvisor.com/Restaurant_Review-g60763-d423299-Reviews-Minetta_Tavern-New_York_City_New_York.html', 'reviews': 1210, 'rating': 4.2, 'price_range_usd': '$$ - $$$', 'is_sponsored': False, 'menu_link': None, 'reservation_link': None, 'featured_image': 'https://dynamic-media-cdn.tripadvisor.com/media/photo-o/17/a7/15/a9/20190524-143011-largejpg.jpg', 'latitude': 40.73003, 'longitude': -74.00067, 'has_delivery': False, 'is_premium': False, 'cuisines': ['American', 'Bar']}, {'id': 655719, 'name': 'Benjamin Steakhouse', 'link': 'https://www.tripadvisor.com/Restaurant_Review-g60763-d655719-Reviews-Benjamin_Steakhouse-New_York_City_New_York.html', 'reviews': 2535, 'rating': 4.3, 'price_range_usd': '$$$$', 'is_sponsored': True, 'menu_link': 'https://benjaminsteakhouse.com/nyc/our-menus/?menu=1&utm_source=TripAdvisor&utm_medium=TA+41st+menu&utm_campaign=41+Menus', 'reservation_link': 'https://tripadvisor.com/Commerce?p=OpenTable&src=232175785&geo=655719&from=Restaurants&area=reservation_button&slot=1&matchID=1&oos=0&cnt=1&silo=45582&bucket=979641&nrank=1&crank=1&clt=R&ttype=Restaurant&tm=330062411&managed=false&capped=false&gosox=9DMvibDTWdNaFeGYL8QTakyv1LBYZaGpeB4MEHn-hv2mZBN376EHVCGusTIRxmJ8EE9CQbzdNZXMgD_TfBzdV0ioQeItbbEyNbYhmlpnX0w&cs=1a4a1b8ba59795a5e86dc3b901ca40187_jIA', 'featured_image': 'https://dynamic-media-cdn.tripadvisor.com/media/photo-o/26/d6/40/87/poterhouse-steak.jpg', 'latitude': 40.75174, 'longitude': -73.97906, 'has_delivery': False, 'is_premium': True, 'cuisines': ['Steakhouse', 'Seafood']}, {'id': 10148283, 'name': \"Sean's Bar And Kitchen\", 'link': 'https://www.tripadvisor.com/Restaurant_Review-g60763-d10148283-Reviews-Sean_s_Bar_And_Kitchen-New_York_City_New_York.html', 'reviews': 501, 'rating': 4.4, 'price_range_usd': '$$ - $$$', 'is_sponsored': False, 'menu_link': 'http://www.seansbarandkitchen.com/menus', 'reservation_link': 'https://tripadvisor.com/Commerce?p=OpenTable&src=232179650&geo=10148283&from=Restaurants&area=reservation_button&slot=2&matchID=1&oos=0&cnt=1&silo=45582&bucket=979641&nrank=2&crank=2&clt=R&ttype=Restaurant&tm=330062411&managed=false&capped=false&gosox=9DMvibDTWdNaFeGYL8QTakyv1LBYZaGpeB4MEHn-hv2mZBN376EHVCGusTIRxmJ8btgLlcdq_pTo0aKYnKwXMPeB18xMyEFPOgx2kGFoG1c&cs=1620ea2c27a5ff37426e2019b51272dcf_jT4', 'featured_image': 'https://dynamic-media-cdn.tripadvisor.com/media/photo-o/11/8c/aa/4a/welcome.jpg', 'latitude': 40.75791, 'longitude': -73.980125, 'has_delivery': True, 'is_premium': False, 'cuisines': ['Irish']}, {'id': 658171, 'name': 'Guantanamera', 'link': 'https://www.tripadvisor.com/Restaurant_Review-g60763-d658171-Reviews-Guantanamera-New_York_City_New_York.html', 'reviews': 700, 'rating': 4.3, 'price_range_usd': '$$ - $$$', 'is_sponsored': False, 'menu_link': None, 'reservation_link': 'https://tripadvisor.com/Commerce?p=OpenTable&src=232187239&geo=658171&from=Restaurants&area=reservation_button&slot=2&matchID=1&oos=0&cnt=1&silo=45582&bucket=979641&nrank=2&crank=2&clt=R&ttype=Restaurant&tm=330062411&managed=false&capped=false&gosox=9DMvibDTWdNaFeGYL8QTakyv1LBYZaGpeB4MEHn-hv2mZBN376EHVCGusTIRxmJ8LtjuqSpF1ZPUu1SwysgJbAe1367Y4WQcb_UpPkkY28c&cs=16d0bf2a6b09c1851da6ff082733fe560_3tD', 'featured_image': 'https://dynamic-media-cdn.tripadvisor.com/media/photo-o/18/3c/18/b2/the-dining-room-at-guantanemer.jpg', 'latitude': 40.76589, 'longitude': -73.98382, 'has_delivery': True, 'is_premium': False, 'cuisines': ['Latin']}, {'id': 2433995, 'name': 'BOOM', 'link': 'https://www.tripadvisor.com/Restaurant_Review-g60763-d2433995-Reviews-BOOM-New_York_City_New_York.html', 'reviews': 778, 'rating': 4.3, 'price_range_usd': '$$$$', 'is_sponsored': False, 'menu_link': None, 'reservation_link': None, 'featured_image': 'https://dynamic-media-cdn.tripadvisor.com/media/photo-o/10/fa/58/40/photo0jpg.jpg', 'latitude': 40.74087, 'longitude': -74.00815, 'has_delivery': False, 'is_premium': False, 'cuisines': ['Bar', 'Contemporary']}, {'id': 7614142, 'name': 'The Edge Harlem', 'link': 'https://www.tripadvisor.com/Restaurant_Review-g60763-d7614142-Reviews-The_Edge_Harlem-New_York_City_New_York.html', 'reviews': 99, 'rating': 4.4, 'price_range_usd': '$$ - $$$', 'is_sponsored': False, 'menu_link': 'https://www.theedgeharlem.com/food-and-drink/', 'reservation_link': 'https://tripadvisor.com/Commerce?p=Grubhub&src=180177873&geo=7614142&from=Restaurants&area=reservation_button&slot=1&matchID=1&oos=0&cnt=1&silo=25768&bucket=852508&nrank=1&crank=1&clt=R&ttype=Restaurant&tm=330062411&managed=false&capped=false&gosox=I-ADlg7wY8lqEq92hGOCPH9yxKao4fnJtoYdd5TLctoCVK2EaqcCi9rOMrUCyEby6wMmzFtt6BiBhZmv-dY-VK3er0x2PKtOVO9fCt39BwI&cs=12baea0e97d305712817d687f6d2e365c_Xbu', 'featured_image': 'https://dynamic-media-cdn.tripadvisor.com/media/photo-o/0d/42/3e/6c/our-dining-area.jpg', 'latitude': 40.81967, 'longitude': -73.946, 'has_delivery': True, 'is_premium': False, 'cuisines': ['American', 'Caribbean', 'Bar', 'Jamaican']}, {'id': 457829, 'name': 'Union Square Cafe', 'link': 'https://www.tripadvisor.com/Restaurant_Review-g60763-d457829-Reviews-Union_Square_Cafe-New_York_City_New_York.html', 'reviews': 1410, 'rating': 4.4, 'price_range_usd': '$$$$', 'is_sponsored': False, 'menu_link': None, 'reservation_link': None, 'featured_image': 'https://dynamic-media-cdn.tripadvisor.com/media/photo-o/15/8d/a5/7d/neon-sign.jpg', 'latitude': 40.73776, 'longitude': -73.98791, 'has_delivery': False, 'is_premium': False, 'cuisines': ['American']}, {'id': 641275, 'name': 'Boqueria Flatiron', 'link': 'https://www.tripadvisor.com/Restaurant_Review-g60763-d641275-Reviews-Boqueria_Flatiron-New_York_City_New_York.html', 'reviews': 444, 'rating': 4.3, 'price_range_usd': '$$ - $$$', 'is_sponsored': False, 'menu_link': None, 'reservation_link': 'https://tripadvisor.com/Commerce?p=OpenTable&src=232170480&geo=641275&from=Restaurants&area=reservation_button&slot=2&matchID=1&oos=0&cnt=1&silo=45582&bucket=979641&nrank=2&crank=2&clt=R&ttype=Restaurant&tm=330062411&managed=false&capped=false&gosox=9DMvibDTWdNaFeGYL8QTakyv1LBYZaGpeB4MEHn-hv2mZBN376EHVCGusTIRxmJ8MvgKbt_n2tE3aGYqBjMJVxA3FHvAJn27qQ6MmxKr6lo&cs=15e17a76d768df62b5d2e5314351470dd_FsC', 'featured_image': 'https://dynamic-media-cdn.tripadvisor.com/media/photo-o/2a/ac/c6/10/bruselas-con-chorizo.jpg', 'latitude': 40.74013, 'longitude': -73.993835, 'has_delivery': True, 'is_premium': True, 'cuisines': ['Spanish', 'Basque']}, {'id': 21410713, 'name': 'La Grande Boucherie', 'link': 'https://www.tripadvisor.com/Restaurant_Review-g60763-d21410713-Reviews-La_Grande_Boucherie-New_York_City_New_York.html', 'reviews': 2858, 'rating': 4.8, 'price_range_usd': '$$$$', 'is_sponsored': False, 'menu_link': 'https://www.boucherieus.com/la-grande-boucherie-menus/', 'reservation_link': 'https://tripadvisor.com/Commerce?p=OpenTable&src=232183838&geo=21410713&from=Restaurants&area=reservation_button&slot=1&matchID=1&oos=0&cnt=1&silo=45582&bucket=979641&nrank=1&crank=1&clt=R&ttype=Restaurant&tm=330062411&managed=false&capped=false&gosox=9DMvibDTWdNaFeGYL8QTakyv1LBYZaGpeB4MEHn-hv2mZBN376EHVCGusTIRxmJ8mQGLHYuALF8_1wejABSVbUvj7NaWOPfzbzrhimNtJLg&cs=147834da3e5f486082c70eb12900e8cfc_kDW', 'featured_image': 'https://dynamic-media-cdn.tripadvisor.com/media/photo-o/2a/bc/76/0d/la-grande-boucherie-joie.jpg', 'latitude': 40.762756, 'longitude': -73.980644, 'has_delivery': False, 'is_premium': False, 'cuisines': ['French', 'Steakhouse']}, {'id': 4059308, 'name': 'The Smith', 'link': 'https://www.tripadvisor.com/Restaurant_Review-g60763-d4059308-Reviews-The_Smith-New_York_City_New_York.html', 'reviews': 1886, 'rating': 4.2, 'price_range_usd': '$$ - $$$', 'is_sponsored': False, 'menu_link': None, 'reservation_link': 'https://tripadvisor.com/Commerce?p=OpenTable&src=232175280&geo=4059308&from=Restaurants&area=reservation_button&slot=2&matchID=1&oos=0&cnt=1&silo=45582&bucket=979641&nrank=2&crank=2&clt=R&ttype=Restaurant&tm=330062411&managed=false&capped=false&gosox=9DMvibDTWdNaFeGYL8QTakyv1LBYZaGpeB4MEHn-hv2mZBN376EHVCGusTIRxmJ8_m1TrDrzCUSlaknhXkW1b4UIJpBH98L-bxDR7GpPn90&cs=1b423a5712e80e42462295330285109cf_KRt', 'featured_image': 'https://dynamic-media-cdn.tripadvisor.com/media/photo-o/05/a8/05/d3/the-smith.jpg', 'latitude': 40.77153, 'longitude': -73.981964, 'has_delivery': True, 'is_premium': False, 'cuisines': ['Italian', 'American', 'Bar', 'Pizza']}, {'id': 1985904, 'name': 'Tamarind - Tribeca', 'link': 'https://www.tripadvisor.com/Restaurant_Review-g60763-d1985904-Reviews-Tamarind_Tribeca-New_York_City_New_York.html', 'reviews': 771, 'rating': 4.4, 'price_range_usd': '$$$$', 'is_sponsored': False, 'menu_link': None, 'reservation_link': 'https://tripadvisor.com/Commerce?p=OpenTable&src=232190821&geo=1985904&from=Restaurants&area=reservation_button&slot=2&matchID=1&oos=0&cnt=1&silo=45582&bucket=979641&nrank=2&crank=2&clt=R&ttype=Restaurant&tm=330062411&managed=false&capped=false&gosox=9DMvibDTWdNaFeGYL8QTakyv1LBYZaGpeB4MEHn-hv2mZBN376EHVCGusTIRxmJ8WzSENbyNspZK_sIl7y836q5as5yOzllsAqGQ247emGs&cs=1101e01adc1b6d01998d0e0f6ab828412_U9u', 'featured_image': 'https://dynamic-media-cdn.tripadvisor.com/media/photo-o/0d/4b/9e/4e/tamarind.jpg', 'latitude': 40.71911, 'longitude': -74.009026, 'has_delivery': True, 'is_premium': False, 'cuisines': ['Indian']}, {'id': 2371217, 'name': 'Manhattan Diner', 'link': 'https://www.tripadvisor.com/Restaurant_Review-g60763-d2371217-Reviews-Manhattan_Diner-New_York_City_New_York.html', 'reviews': 557, 'rating': 4.2, 'price_range_usd': '$', 'is_sponsored': False, 'menu_link': None, 'reservation_link': 'https://tripadvisor.com/Commerce?p=Grubhub&src=111269340&geo=2371217&from=Restaurants&area=reservation_button&slot=1&matchID=1&oos=0&cnt=1&silo=25768&bucket=852508&nrank=1&crank=1&clt=R&ttype=Restaurant&tm=330062411&managed=false&capped=false&gosox=I-ADlg7wY8lqEq92hGOCPH9yxKao4fnJtoYdd5TLctoCVK2EaqcCi9rOMrUCyEbyL-ynHQi_hW86G1A15GoN81tClLCdqNF5qWzV6m31iPI&cs=11efb60edd72fb1594bb37826e7130e45_AeA', 'featured_image': 'https://dynamic-media-cdn.tripadvisor.com/media/photo-o/16/db/2f/66/manhattan-diner.jpg', 'latitude': 40.793636, 'longitude': -73.97215, 'has_delivery': True, 'is_premium': False, 'cuisines': ['American', 'Diner']}, {'id': 25777160, 'name': 'Meduza Mediterrania New York', 'link': 'https://www.tripadvisor.com/Restaurant_Review-g60763-d25777160-Reviews-Meduza_Mediterrania_New_York-New_York_City_New_York.html', 'reviews': 13, 'rating': 4, 'price_range_usd': '$$$$', 'is_sponsored': True, 'menu_link': 'http://www.meduza33.com/', 'reservation_link': None, 'featured_image': 'https://dynamic-media-cdn.tripadvisor.com/media/photo-o/2b/29/cb/f0/meduza-main-dining-entrance.jpg', 'latitude': 40.739746, 'longitude': -74.00555, 'has_delivery': False, 'is_premium': True, 'cuisines': ['Mediterranean']}, {'id': 1182272, 'name': 'Ayza Wine & Chocolate Bar', 'link': 'https://www.tripadvisor.com/Restaurant_Review-g60763-d1182272-Reviews-Ayza_Wine_Chocolate_Bar-New_York_City_New_York.html', 'reviews': 600, 'rating': 4.4, 'price_range_usd': '$$ - $$$', 'is_sponsored': False, 'menu_link': 'https://ayzanyc.com/menu-dinner/', 'reservation_link': 'https://tripadvisor.com/Commerce?p=Grubhub&src=186500493&geo=1182272&from=Restaurants&area=reservation_button&slot=1&matchID=1&oos=0&cnt=1&silo=25768&bucket=852508&nrank=1&crank=1&clt=R&ttype=Restaurant&tm=330062411&managed=false&capped=false&gosox=I-ADlg7wY8lqEq92hGOCPH9yxKao4fnJtoYdd5TLctoCVK2EaqcCi9rOMrUCyEbyWXAp1BlgCwUt5JtnLScKWIV3z6MqtH-8KDSRhOt8LA4&cs=1c061b646682b7edbb8de398986592058_B0F', 'featured_image': 'https://dynamic-media-cdn.tripadvisor.com/media/photo-o/1a/26/f8/79/indoors.jpg', 'latitude': 40.747097, 'longitude': -73.98691, 'has_delivery': True, 'is_premium': False, 'cuisines': ['American', 'Bar', 'Wine Bar', 'Dining bars']}, {'id': 9721026, 'name': 'Bluestone Lane', 'link': 'https://www.tripadvisor.com/Restaurant_Review-g60763-d9721026-Reviews-Bluestone_Lane-New_York_City_New_York.html', 'reviews': 161, 'rating': 4.4, 'price_range_usd': '$$ - $$$', 'is_sponsored': False, 'menu_link': None, 'reservation_link': 'https://tripadvisor.com/Commerce?p=Grubhub&src=204993466&geo=9721026&from=Restaurants&area=reservation_button&slot=1&matchID=1&oos=0&cnt=1&silo=25768&bucket=852508&nrank=1&crank=1&clt=R&ttype=Restaurant&tm=330062411&managed=false&capped=false&gosox=I-ADlg7wY8lqEq92hGOCPH9yxKao4fnJtoYdd5TLctoCVK2EaqcCi9rOMrUCyEbyd1S6hFQNr2qTYmeRxyDEuEpxnzjWycj4MO_8M0QgLxE&cs=18db34782e95de8ecbb0e1d6e9dd1c1d0_dLY', 'featured_image': 'https://dynamic-media-cdn.tripadvisor.com/media/photo-o/28/2e/73/90/caption.jpg', 'latitude': 40.783806, 'longitude': -73.958755, 'has_delivery': True, 'is_premium': False, 'cuisines': ['Cafe', 'Australian']}, {'id': 9733711, 'name': 'Souvlaki GR Midtown', 'link': 'https://www.tripadvisor.com/Restaurant_Review-g60763-d9733711-Reviews-Souvlaki_GR_Midtown-New_York_City_New_York.html', 'reviews': 420, 'rating': 4.2, 'price_range_usd': '$$ - $$$', 'is_sponsored': False, 'menu_link': 'https://www.souvlakigr.com/midtown-west-menus/', 'reservation_link': 'https://tripadvisor.com/Commerce?p=Delivery_ChowNow&src=183790465&geo=9733711&from=Restaurants&area=reservation_button&slot=1&matchID=1&oos=0&cnt=1&silo=38060&bucket=934910&nrank=1&crank=1&clt=R&ttype=Restaurant&tm=330062411&managed=false&capped=false&gosox=6E4khh0HtNXAL0epq-JuBJi9Hu4KwZkBcTYaPAKPcvyzRzJ-mgpAaP0IUqC44bubNGi9I6nuBPmXmunT2F7Y2SK0U0L4YghUd7LJnUVuCbA&cs=1c6c19768071c3ffddd76cbaf02fe1d48_yAP', 'featured_image': 'https://dynamic-media-cdn.tripadvisor.com/media/photo-o/28/a7/f5/04/w56th.jpg', 'latitude': 40.76459, 'longitude': -73.98015, 'has_delivery': True, 'is_premium': False, 'cuisines': ['Mediterranean', 'Greek']}, {'id': 3330157, 'name': \"Jack's Wife Freda\", 'link': 'https://www.tripadvisor.com/Restaurant_Review-g60763-d3330157-Reviews-Jack_s_Wife_Freda-New_York_City_New_York.html', 'reviews': 1081, 'rating': 4.3, 'price_range_usd': '$$ - $$$', 'is_sponsored': False, 'menu_link': None, 'reservation_link': None, 'featured_image': 'https://dynamic-media-cdn.tripadvisor.com/media/photo-o/07/fc/94/41/jack-s-wife-freda.jpg', 'latitude': 40.722168, 'longitude': -73.99746, 'has_delivery': False, 'is_premium': False, 'cuisines': ['American', 'Mediterranean']}, {'id': 457871, 'name': \"Amy Ruth's Home Style Southern Cuisine\", 'link': 'https://www.tripadvisor.com/Restaurant_Review-g60763-d457871-Reviews-Amy_Ruth_s_Home_Style_Southern_Cuisine-New_York_City_New_York.html', 'reviews': 945, 'rating': 4.1, 'price_range_usd': '$$ - $$$', 'is_sponsored': False, 'menu_link': None, 'reservation_link': 'https://tripadvisor.com/Commerce?p=Grubhub&src=139905563&geo=457871&from=Restaurants&area=reservation_button&slot=1&matchID=1&oos=0&cnt=1&silo=25768&bucket=852508&nrank=1&crank=1&clt=R&ttype=Restaurant&tm=330062411&managed=false&capped=false&gosox=I-ADlg7wY8lqEq92hGOCPH9yxKao4fnJtoYdd5TLctoCVK2EaqcCi9rOMrUCyEbyUc3ZXP-QSlIOpojUfmuZolakerEbwbG7VAISbT3Y-XI&cs=162bfb45c40310c7be6cff3c06a6514fb_OEw', 'featured_image': 'https://dynamic-media-cdn.tripadvisor.com/media/photo-o/2b/2e/9c/67/caption.jpg', 'latitude': 40.802597, 'longitude': -73.950195, 'has_delivery': True, 'is_premium': False, 'cuisines': ['American']}, {'id': 2452488, 'name': 'Hummus Place', 'link': 'https://www.tripadvisor.com/Restaurant_Review-g60763-d2452488-Reviews-Hummus_Place-New_York_City_New_York.html', 'reviews': 360, 'rating': 4.6, 'price_range_usd': '$', 'is_sponsored': False, 'menu_link': None, 'reservation_link': 'https://tripadvisor.com/Commerce?p=Delivery_ChowNow&src=185335589&geo=2452488&from=Restaurants&area=reservation_button&slot=1&matchID=1&oos=0&cnt=1&silo=38060&bucket=934910&nrank=1&crank=1&clt=R&ttype=Restaurant&tm=330062411&managed=false&capped=false&gosox=6E4khh0HtNXAL0epq-JuBJi9Hu4KwZkBcTYaPAKPcvyzRzJ-mgpAaP0IUqC44bubNGi9I6nuBPmXmunT2F7Y2baECH9fN0zzrll29IsxsIs&cs=1c93904ea57e1506a36f19d6ed36e2eac_bsc', 'featured_image': 'https://dynamic-media-cdn.tripadvisor.com/media/photo-o/24/83/c0/5e/caption.jpg', 'latitude': 40.780098, 'longitude': -73.98035, 'has_delivery': True, 'is_premium': False, 'cuisines': ['Lebanese', 'Mediterranean', 'Middle Eastern', 'Israeli']}, {'id': 7192873, 'name': 'Upland', 'link': 'https://www.tripadvisor.com/Restaurant_Review-g60763-d7192873-Reviews-Upland-New_York_City_New_York.html', 'reviews': 671, 'rating': 4.4, 'price_range_usd': '$$ - $$$', 'is_sponsored': False, 'menu_link': 'https://uplandnyc.com/menus/brunch/', 'reservation_link': None, 'featured_image': 'https://dynamic-media-cdn.tripadvisor.com/media/photo-o/14/37/31/bd/20180225-095834-largejpg.jpg', 'latitude': 40.741932, 'longitude': -73.98464, 'has_delivery': False, 'is_premium': False, 'cuisines': ['American']}, {'id': 7045793, 'name': 'Calle Dao Bryant Park', 'link': 'https://www.tripadvisor.com/Restaurant_Review-g60763-d7045793-Reviews-Calle_Dao_Bryant_Park-New_York_City_New_York.html', 'reviews': 203, 'rating': 4.4, 'price_range_usd': '$$ - $$$', 'is_sponsored': False, 'menu_link': None, 'reservation_link': 'https://tripadvisor.com/Commerce?p=OpenTable&src=256257729&geo=7045793&from=Restaurants&area=reservation_button&slot=1&matchID=1&oos=0&cnt=1&silo=45582&bucket=979641&nrank=1&crank=1&clt=R&ttype=Restaurant&tm=330062411&managed=false&capped=false&gosox=9DMvibDTWdNaFeGYL8QTakyv1LBYZaGpeB4MEHn-hv2mZBN376EHVCGusTIRxmJ8oYZ7DYFpcbHXs_4Ce5pLiWfNfyO0CUJw_BAEEy67Tuc&cs=17a29630598f9a503980c9a4dab8aa6a4_1qq', 'featured_image': 'https://dynamic-media-cdn.tripadvisor.com/media/photo-o/1a/95/a1/79/lechon-bao-buns-3-steamed.jpg', 'latitude': 40.752163, 'longitude': -73.98422, 'has_delivery': False, 'is_premium': False, 'cuisines': ['Chinese', 'Latin', 'Bar', 'Asian', 'Cuban']}, {'id': 1006704, 'name': 'Serafina Broadway', 'link': 'https://www.tripadvisor.com/Restaurant_Review-g60763-d1006704-Reviews-Serafina_Broadway-New_York_City_New_York.html', 'reviews': 1804, 'rating': 4, 'price_range_usd': '$$ - $$$', 'is_sponsored': False, 'menu_link': None, 'reservation_link': 'https://tripadvisor.com/Commerce?p=OpenTable&src=232177813&geo=1006704&from=Restaurants&area=reservation_button&slot=3&matchID=1&oos=0&cnt=1&silo=45582&bucket=979641&nrank=3&crank=3&clt=R&ttype=Restaurant&tm=330062411&managed=false&capped=false&gosox=9DMvibDTWdNaFeGYL8QTakyv1LBYZaGpeB4MEHn-hv2mZBN376EHVCGusTIRxmJ8gO2KIAPffQxC10DRBJJKDLVu3MuQgmPsVAJfiXbl-0I&cs=145b16d4a3e4f82bd2c1fed7d7eaf835f_jdV', 'featured_image': 'https://dynamic-media-cdn.tripadvisor.com/media/photo-o/14/09/90/e0/photo0jpg.jpg', 'latitude': 40.764454, 'longitude': -73.982124, 'has_delivery': True, 'is_premium': False, 'cuisines': ['Italian', 'Pizza']}, {'id': 496790, 'name': 'Friend of a Farmer', 'link': 'https://www.tripadvisor.com/Restaurant_Review-g60763-d496790-Reviews-Friend_of_a_Farmer-New_York_City_New_York.html', 'reviews': 549, 'rating': 4, 'price_range_usd': '$$ - $$$', 'is_sponsored': False, 'menu_link': 'https://www.friendofafarmer.com/menus', 'reservation_link': 'https://tripadvisor.com/Commerce?p=Delivery_ChowNow&src=247816460&geo=496790&from=Restaurants&area=reservation_button&slot=1&matchID=1&oos=0&cnt=1&silo=38060&bucket=934910&nrank=1&crank=1&clt=R&ttype=Restaurant&tm=330062411&managed=false&capped=false&gosox=6E4khh0HtNXAL0epq-JuBJi9Hu4KwZkBcTYaPAKPcvyzRzJ-mgpAaP0IUqC44bubNGi9I6nuBPmXmunT2F7Y2Y66VKPJYbVsSQNEFWu7Rx4&cs=1e1ac7e1d7bec2ce87c5bdbe162393e2f_b4v', 'featured_image': 'https://dynamic-media-cdn.tripadvisor.com/media/photo-o/22/93/af/89/gramercy-park-salad-crab.jpg', 'latitude': 40.736828, 'longitude': -73.98679, 'has_delivery': True, 'is_premium': False, 'cuisines': ['American']}, {'id': 32724875, 'name': 'Spanish Diner at Mercado Little Spain', 'link': 'https://www.tripadvisor.com/Restaurant_Review-g60763-d32724875-Reviews-Spanish_Diner_at_Mercado_Little_Spain-New_York_City_New_York.html', 'reviews': 549, 'rating': 3.8, 'price_range_usd': None, 'is_sponsored': False, 'menu_link': None, 'reservation_link': None, 'featured_image': 'https://dynamic-media-cdn.tripadvisor.com/media/photo-o/16/dc/ea/6a/jamon-y-queso.jpg', 'latitude': 40.753117, 'longitude': -74.00177, 'has_delivery': False, 'is_premium': False, 'cuisines': ['Spanish']}, {'id': 425831, 'name': 'Pylos', 'link': 'https://www.tripadvisor.com/Restaurant_Review-g60763-d425831-Reviews-Pylos-New_York_City_New_York.html', 'reviews': 419, 'rating': 4.5, 'price_range_usd': '$$ - $$$', 'is_sponsored': False, 'menu_link': None, 'reservation_link': 'https://tripadvisor.com/Commerce?p=Grubhub&src=127653728&geo=425831&from=Restaurants&area=reservation_button&slot=1&matchID=1&oos=0&cnt=1&silo=25768&bucket=852508&nrank=1&crank=1&clt=R&ttype=Restaurant&tm=330062411&managed=false&capped=false&gosox=I-ADlg7wY8lqEq92hGOCPH9yxKao4fnJtoYdd5TLctoCVK2EaqcCi9rOMrUCyEbyYQ6MouKNLjX8u36sorQLDdj_oJWQitH9VWmMNgNrlrM&cs=1dce4e6a0456b088c7f30a14c0ffff106_l5f', 'featured_image': 'https://dynamic-media-cdn.tripadvisor.com/media/photo-o/0d/a7/93/c0/lunch.jpg', 'latitude': 40.72621, 'longitude': -73.98404, 'has_delivery': True, 'is_premium': False, 'cuisines': ['Greek']}, {'id': 10558814, 'name': 'Barn Joo 35', 'link': 'https://www.tripadvisor.com/Restaurant_Review-g60763-d10558814-Reviews-Barn_Joo_35-New_York_City_New_York.html', 'reviews': 265, 'rating': 4.4, 'price_range_usd': '$$ - $$$', 'is_sponsored': False, 'menu_link': 'https://www.barnjoo.com/_files/ugd/5295e1_26805d188a7b483e833d60302734947e.pdf', 'reservation_link': 'https://tripadvisor.com/Commerce?p=OpenTable&src=232188961&geo=10558814&from=Restaurants&area=reservation_button&slot=2&matchID=1&oos=0&cnt=1&silo=45582&bucket=979641&nrank=2&crank=2&clt=R&ttype=Restaurant&tm=330062411&managed=false&capped=false&gosox=9DMvibDTWdNaFeGYL8QTakyv1LBYZaGpeB4MEHn-hv2mZBN376EHVCGusTIRxmJ835T4Qn7MBICzLTrM4_eV2iiUAPOlekLVT5Bs9HNrFr8&cs=1ed7581a621b858aa4d2a0b9145748723_Jll', 'featured_image': 'https://dynamic-media-cdn.tripadvisor.com/media/photo-o/0c/73/2e/35/2nd-floor.jpg', 'latitude': 40.749725, 'longitude': -73.98578, 'has_delivery': True, 'is_premium': False, 'cuisines': ['Asian', 'Korean']}, {'id': 911311, 'name': 'Hill Country Barbecue Market', 'link': 'https://www.tripadvisor.com/Restaurant_Review-g60763-d911311-Reviews-Hill_Country_Barbecue_Market-New_York_City_New_York.html', 'reviews': 1127, 'rating': 4.1, 'price_range_usd': '$$ - $$$', 'is_sponsored': False, 'menu_link': None, 'reservation_link': 'https://tripadvisor.com/Commerce?p=Grubhub&src=123622371&geo=911311&from=Restaurants&area=reservation_button&slot=1&matchID=1&oos=0&cnt=1&silo=25768&bucket=852508&nrank=1&crank=1&clt=R&ttype=Restaurant&tm=330062411&managed=false&capped=false&gosox=I-ADlg7wY8lqEq92hGOCPH9yxKao4fnJtoYdd5TLctoCVK2EaqcCi9rOMrUCyEbyGf6q-2FnQicK9AwzFryz6j5uHwHqr9brDRRKgdARDbQ&cs=15493621de4fcba74e8eebf3dfc323b40_hR8', 'featured_image': 'https://dynamic-media-cdn.tripadvisor.com/media/photo-o/0f/5c/e3/79/general-view.jpg', 'latitude': 40.744274, 'longitude': -73.99043, 'has_delivery': True, 'is_premium': False, 'cuisines': ['American', 'Bar', 'Barbecue']}, {'id': 6627463, 'name': 'Tessa', 'link': 'https://www.tripadvisor.com/Restaurant_Review-g60763-d6627463-Reviews-Tessa-New_York_City_New_York.html', 'reviews': 334, 'rating': 4.3, 'price_range_usd': '$$ - $$$', 'is_sponsored': False, 'menu_link': None, 'reservation_link': None, 'featured_image': 'https://dynamic-media-cdn.tripadvisor.com/media/photo-o/11/eb/06/b8/our-famous-rabbit-cavatelli.jpg', 'latitude': 40.781437, 'longitude': -73.97922, 'has_delivery': False, 'is_premium': False, 'cuisines': ['American', 'Mediterranean']}, {'id': 8808807, 'name': 'Blue Seafood Bar', 'link': 'https://www.tripadvisor.com/Restaurant_Review-g60763-d8808807-Reviews-Blue_Seafood_Bar-New_York_City_New_York.html', 'reviews': 110, 'rating': 4.4, 'price_range_usd': '$$$$', 'is_sponsored': True, 'menu_link': None, 'reservation_link': 'https://tripadvisor.com/Commerce?p=OpenTable&src=232192964&geo=8808807&from=Restaurants&area=reservation_button&slot=2&matchID=1&oos=0&cnt=1&silo=45582&bucket=979641&nrank=2&crank=2&clt=R&ttype=Restaurant&tm=330062411&managed=false&capped=false&gosox=9DMvibDTWdNaFeGYL8QTakyv1LBYZaGpeB4MEHn-hv2mZBN376EHVCGusTIRxmJ8I1bOWnTVLD6aXxgjl0NE1oJG57pd8dInFWgScMrmJ2Y&cs=1bff407dc7e35064b0d996f872ec5317f_9ZX', 'featured_image': 'https://dynamic-media-cdn.tripadvisor.com/media/photo-o/2a/f6/03/3f/main-dining-area.jpg', 'latitude': 40.766907, 'longitude': -73.9862, 'has_delivery': True, 'is_premium': False, 'cuisines': ['Italian', 'Seafood', 'Mediterranean']}]}\n"
     ]
    }
   ],
   "source": [
    "# url = \"https://tripadvisor-scraper.p.rapidapi.com/restaurants/list\"\n",
    "\n",
    "# querystring = {\"query\":\"new york\",\"page\":\"1\"}\n",
    "\n",
    "# headers = {\n",
    "# \t\"x-rapidapi-key\": \"b2b95a6827msha1cb6f6f392e51cp1893f6jsnd6b152f989ba\",\n",
    "# \t\"x-rapidapi-host\": \"tripadvisor-scraper.p.rapidapi.com\"\n",
    "# }\n",
    "\n",
    "# response = requests.get(url, headers=headers, params=querystring)\n",
    "\n",
    "# print(response.json())"
   ]
  },
  {
   "cell_type": "code",
   "execution_count": 2,
   "id": "a8aa3718",
   "metadata": {},
   "outputs": [],
   "source": [
    "import json\n",
    "\n",
    "# Filepath to the JSON file\n",
    "file_path = \"data/vietnam-provinces.json\"\n",
    "\n",
    "# Open and read the JSON file\n",
    "with open(file_path, \"r\", encoding=\"utf-8\") as file:\n",
    "    data = json.load(file)\n",
    "\n",
    "provinces = [data[i]['NameEn'] for i in range(len(data))]"
   ]
  },
  {
   "cell_type": "code",
   "execution_count": 3,
   "id": "504e699d",
   "metadata": {},
   "outputs": [
    {
     "data": {
      "text/plain": [
       "'Ha Noi'"
      ]
     },
     "execution_count": 3,
     "metadata": {},
     "output_type": "execute_result"
    }
   ],
   "source": [
    "provinces[0]"
   ]
  },
  {
   "cell_type": "code",
   "execution_count": 10,
   "id": "e1737c0e",
   "metadata": {},
   "outputs": [],
   "source": [
    "# import requests\n",
    "\n",
    "# url = \"https://tripadvisor-scraper.p.rapidapi.com/restaurants/list\"\n",
    "\n",
    "# querystring = {\"query\":'Vung Tau',\"page\":\"2\"}\n",
    "\n",
    "# headers = {\n",
    "# \t\"x-rapidapi-key\": \"f01c3f6968msh4a12cf8c0c8f3c2p1d9e36jsne6d66dae12ae\",\n",
    "# \t\"x-rapidapi-host\": \"tripadvisor-scraper.p.rapidapi.com\"\n",
    "# }\n",
    "\n",
    "# response = requests.get(url, headers=headers, params=querystring)"
   ]
  },
  {
   "cell_type": "code",
   "execution_count": 11,
   "id": "1517b2e5",
   "metadata": {},
   "outputs": [],
   "source": [
    "# response.raise_for_status()  # Raise an error for bad responses\n",
    "# data = response.json()\n",
    "# data"
   ]
  },
  {
   "cell_type": "code",
   "execution_count": 12,
   "id": "0dcf7d15",
   "metadata": {},
   "outputs": [],
   "source": [
    "# data['results'][0]"
   ]
  },
  {
   "cell_type": "code",
   "execution_count": null,
   "id": "f311b8d2",
   "metadata": {},
   "outputs": [
    {
     "name": "stdout",
     "output_type": "stream",
     "text": [
      "Saved 30 rows to Ha Giang.csv\n"
     ]
    }
   ],
   "source": [
    "import csv\n",
    "\n",
    "# Assuming 'data' is already fetched as in your previous cells\n",
    "results = data['results']\n",
    "\n",
    "# Get the keys for CSV columns from the first result\n",
    "if results:\n",
    "    columns = results[0].keys()\n",
    "    csv_filename = f\"{provinces[1]}.csv\"\n",
    "    # Create a CSV file with the province name\n",
    "    with open(csv_filename, \"w\", newline='', encoding=\"utf-8\") as csvfile:\n",
    "        writer = csv.DictWriter(csvfile, fieldnames=columns)\n",
    "        writer.writeheader()\n",
    "        writer.writerows(results)\n",
    "    print(f\"Saved {len(results)} rows to {csv_filename}\")\n",
    "else:\n",
    "    print(\"No results found.\")"
   ]
  },
  {
   "cell_type": "code",
   "execution_count": 4,
   "id": "57910ab8",
   "metadata": {},
   "outputs": [],
   "source": [
    "import os\n",
    "import json\n",
    "import requests\n",
    "import pandas as pd\n",
    "\n",
    "def save_all_restaurants_to_csv(api_key, province_name):\n",
    "    \"\"\"\n",
    "    Fetches all restaurant data for a given province from the TripAdvisor Scraper API\n",
    "    and saves it to a CSV file.\n",
    "\n",
    "    Args:\n",
    "        api_key (str): Your RapidAPI key for the TripAdvisor Scraper API.\n",
    "        province_name (str): The name of the province to search for restaurants.\n",
    "    \"\"\"\n",
    "    url = \"https://tripadvisor-scraper.p.rapidapi.com/restaurants/list\"\n",
    "    headers = {\n",
    "        \"x-rapidapi-key\": api_key,\n",
    "        \"x-rapidapi-host\": \"tripadvisor-scraper.p.rapidapi.com\"\n",
    "    }\n",
    "    all_results = []\n",
    "\n",
    "    # --- Get the first page to determine the total number of pages ---\n",
    "    print(f\"Fetching initial data for {province_name} to determine total pages...\")\n",
    "    querystring = {\"query\": province_name, \"page\": 1}\n",
    "    try:\n",
    "        response = requests.get(url, headers=headers, params=querystring)\n",
    "        response.raise_for_status()  # Raise an exception for bad status codes (4xx or 5xx)\n",
    "        data = response.json()\n",
    "        total_pages = data.get(\"total_pages\", 1)\n",
    "        print(f\"Found {total_pages} pages of results for {province_name}.\")\n",
    "        # Add the results from the first page\n",
    "        all_results.extend(data.get(\"results\", []))\n",
    "    except requests.exceptions.RequestException as e:\n",
    "        print(f\"Error fetching the first page for {province_name}: {e}\")\n",
    "        return # Exit the function if the first request fails\n",
    "\n",
    "    # --- Collect results from all subsequent pages ---\n",
    "    # Start from page 2 since we already fetched page 1\n",
    "    for page_number in range(2, total_pages + 1):\n",
    "        querystring = {\"query\": province_name, \"page\": page_number}\n",
    "        try:\n",
    "            response = requests.get(url, headers=headers, params=querystring)\n",
    "            response.raise_for_status()\n",
    "            page_data = response.json()\n",
    "            results = page_data.get(\"results\", [])\n",
    "            all_results.extend(results)\n",
    "            print(f\"Fetched page {page_number}/{total_pages} for {province_name}\")\n",
    "        except requests.exceptions.RequestException as e:\n",
    "            print(f\"Error fetching page {page_number} for {province_name}: {e}\")\n",
    "            # Continue to the next page even if one fails\n",
    "            continue\n",
    "\n",
    "    # --- Convert to DataFrame and save as CSV ---\n",
    "    if all_results:\n",
    "        print(\"Converting data to DataFrame and saving to CSV...\")\n",
    "        df = pd.DataFrame(all_results)\n",
    "\n",
    "        # Set 'restaurant_id' as the index if it exists\n",
    "        if \"restaurant_id\" in df.columns:\n",
    "            df.set_index(\"restaurant_id\", inplace=True)\n",
    "\n",
    "        # Create the directory if it doesn't exist\n",
    "        output_dir = os.path.join(\"data\", \"rapid_restaurant_id\")\n",
    "        os.makedirs(output_dir, exist_ok=True)\n",
    "\n",
    "        # Define the output path and save the CSV\n",
    "        output_path = os.path.join(output_dir, f\"{province_name}.csv\")\n",
    "        df.to_csv(output_path, encoding=\"utf-8-sig\")\n",
    "        print(f\"✅ Successfully saved all restaurants for {province_name} to {output_path}\")\n",
    "    else:\n",
    "        print(f\"No results were found for {province_name}.\")\n",
    "\n"
   ]
  },
  {
   "cell_type": "code",
   "execution_count": 2,
   "id": "862768f1",
   "metadata": {},
   "outputs": [],
   "source": [
    "PROVINCE = 'Vung Tau'\n"
   ]
  },
  {
   "cell_type": "code",
   "execution_count": 8,
   "id": "2da843ae",
   "metadata": {},
   "outputs": [
    {
     "name": "stdout",
     "output_type": "stream",
     "text": [
      "Fetching initial data for Vung Tau to determine total pages...\n",
      "Found 8 pages of results for Vung Tau.\n",
      "Fetched page 2/8 for Vung Tau\n",
      "Fetched page 3/8 for Vung Tau\n",
      "Fetched page 4/8 for Vung Tau\n",
      "Fetched page 5/8 for Vung Tau\n",
      "Fetched page 6/8 for Vung Tau\n",
      "Fetched page 7/8 for Vung Tau\n",
      "Fetched page 8/8 for Vung Tau\n",
      "Converting data to DataFrame and saving to CSV...\n",
      "✅ Successfully saved all restaurants for Vung Tau to data\\rapid_restaurant_id\\Vung Tau.csv\n"
     ]
    }
   ],
   "source": [
    "os.chdir(original_cwd)\n",
    "save_all_restaurants_to_csv('b2b95a6827msha1cb6f6f392e51cp1893f6jsnd6b152f989ba', PROVINCE)"
   ]
  }
 ],
 "metadata": {
  "kernelspec": {
   "display_name": "base",
   "language": "python",
   "name": "python3"
  },
  "language_info": {
   "codemirror_mode": {
    "name": "ipython",
    "version": 3
   },
   "file_extension": ".py",
   "mimetype": "text/x-python",
   "name": "python",
   "nbconvert_exporter": "python",
   "pygments_lexer": "ipython3",
   "version": "3.12.7"
  }
 },
 "nbformat": 4,
 "nbformat_minor": 5
}
