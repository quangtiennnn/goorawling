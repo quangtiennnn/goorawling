{
 "cells": [
  {
   "cell_type": "code",
   "execution_count": 1,
   "id": "262b3535",
   "metadata": {},
   "outputs": [],
   "source": [
    "import os\n",
    "\n",
    "# Change current working directory to parent directory\n",
    "# Save the original working directory\n",
    "original_cwd = os.getcwd()\n",
    "\n",
    "# Change to parent directory\n",
    "os.chdir(\"..\")\n",
    "\n",
    "from tools import *"
   ]
  },
  {
   "cell_type": "code",
   "execution_count": 5,
   "id": "4cf9830b",
   "metadata": {},
   "outputs": [],
   "source": [
    "# data = pd.read_csv('data/tripadvisor_restaurant/Ho Chi Minh.csv')\n",
    "# data"
   ]
  },
  {
   "cell_type": "code",
   "execution_count": null,
   "id": "b4d7bd53",
   "metadata": {},
   "outputs": [],
   "source": [
    "link = 'https://www.google.com/maps/place/Secret+Garden+2nd+Branch+-+Vietnamese+Restaurant/@10.7703653,106.6996626,15z/data=!4m15!1m8!3m7!1s0x31752fa911a01b27:0xef3ae6fe4aac5579!2sSecret+Garden+2nd+Branch+-+Vietnamese+Restaurant!8m2!3d10.7703653!4d106.6996626!10e9!16s%2Fg%2F11j3w7xzhc!3m5!1s0x31752fa911a01b27:0xef3ae6fe4aac5579!8m2!3d10.7703653!4d106.6996626!16s%2Fg%2F11j3w7xzhc?authuser=0&hl=vi&entry=ttu&g_ep=EgoyMDI1MDYxNy4wIKXMDSoASAFQAw%3D%3D'"
   ]
  },
  {
   "cell_type": "code",
   "execution_count": 7,
   "id": "046354e1",
   "metadata": {},
   "outputs": [],
   "source": [
    "driver = webdriver.Chrome(options=chrome_options)\n",
    "actions = ActionChains(driver)\n",
    "driver.get(link)\n",
    "        "
   ]
  }
 ],
 "metadata": {
  "kernelspec": {
   "display_name": "Python 3",
   "language": "python",
   "name": "python3"
  },
  "language_info": {
   "codemirror_mode": {
    "name": "ipython",
    "version": 3
   },
   "file_extension": ".py",
   "mimetype": "text/x-python",
   "name": "python",
   "nbconvert_exporter": "python",
   "pygments_lexer": "ipython3",
   "version": "3.12.7"
  }
 },
 "nbformat": 4,
 "nbformat_minor": 5
}
