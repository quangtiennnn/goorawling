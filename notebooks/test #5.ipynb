{
 "cells": [
  {
   "cell_type": "code",
   "execution_count": 1,
   "id": "262b3535",
   "metadata": {},
   "outputs": [],
   "source": [
    "import os\n",
    "\n",
    "# Change current working directory to parent directory\n",
    "# Save the original working directory\n",
    "original_cwd = os.getcwd()\n",
    "\n",
    "# Change to parent directory\n",
    "os.chdir(\"..\")\n",
    "\n",
    "from tools import *"
   ]
  },
  {
   "cell_type": "code",
   "execution_count": 5,
   "id": "4cf9830b",
   "metadata": {},
   "outputs": [],
   "source": [
    "# data = pd.read_csv('data/tripadvisor_restaurant/Ho Chi Minh.csv')\n",
    "# data"
   ]
  },
  {
   "cell_type": "code",
   "execution_count": 2,
   "id": "b4d7bd53",
   "metadata": {},
   "outputs": [],
   "source": [
    "link = 'https://www.google.com/maps/place/Secret+Garden+2nd+Branch+-+Vietnamese+Restaurant/@10.7703653,106.6996626,15z/data=!4m15!1m8!3m7!1s0x31752fa911a01b27:0xef3ae6fe4aac5579!2sSecret+Garden+2nd+Branch+-+Vietnamese+Restaurant!8m2!3d10.7703653!4d106.6996626!10e9!16s%2Fg%2F11j3w7xzhc!3m5!1s0x31752fa911a01b27:0xef3ae6fe4aac5579!8m2!3d10.7703653!4d106.6996626!16s%2Fg%2F11j3w7xzhc?authuser=0&hl=vi&entry=ttu&g_ep=EgoyMDI1MDYxNy4wIKXMDSoASAFQAw%3D%3D'"
   ]
  },
  {
   "cell_type": "code",
   "execution_count": 5,
   "id": "046354e1",
   "metadata": {},
   "outputs": [],
   "source": [
    "driver = webdriver.Chrome(options=chrome_options)\n",
    "actions = ActionChains(driver)\n",
    "driver.get(link)\n",
    "        "
   ]
  },
  {
   "cell_type": "code",
   "execution_count": 4,
   "id": "951dbe1a",
   "metadata": {},
   "outputs": [],
   "source": [
    "all_photos = driver.find_element(By.CSS_SELECTOR, '.aoRNLd.kn2E5e.NMjTrf')\n",
    "all_photos.click()\n",
    "# get_images(driver, images_path)\n",
    "# time.sleep(random.uniform(1, 3))"
   ]
  },
  {
   "cell_type": "code",
   "execution_count": 5,
   "id": "0f480798",
   "metadata": {},
   "outputs": [],
   "source": [
    "tag_click(driver,\"Thực đơn\")"
   ]
  },
  {
   "cell_type": "code",
   "execution_count": 25,
   "id": "d55e1db9",
   "metadata": {},
   "outputs": [
    {
     "data": {
      "text/plain": [
       "<selenium.webdriver.remote.webelement.WebElement (session=\"62d76427e197fc2f8f88d79f2f209e03\", element=\"f.54540CD51EA188DBBF0403A94B072D3C.d.16FD9992A3D74BA13888B882CBABB53B.e.845\")>"
      ]
     },
     "execution_count": 25,
     "metadata": {},
     "output_type": "execute_result"
    }
   ],
   "source": [
    "menu = driver.find_element(By.CSS_SELECTOR, '.fp2VUc')\n",
    "menu"
   ]
  },
  {
   "cell_type": "code",
   "execution_count": null,
   "id": "2122ea2e",
   "metadata": {},
   "outputs": [],
   "source": [
    "import os\n",
    "import time\n",
    "import io\n",
    "from PIL import Image\n",
    "\n",
    "def get_menu(driver, file_path):\n",
    "    restaurant_id = file_path.split(\"/\")[-1].replace(\".csv\", \"\")\n",
    "    # Prepare directory: menu/restaurant_id/\n",
    "    menu_dir = os.path.join(\"menu\", restaurant_id)\n",
    "    if not os.path.exists(menu_dir):\n",
    "        os.makedirs(menu_dir)\n",
    "\n",
    "    # Find all elements with class 'K4UgGe'\n",
    "    buttons = driver.find_elements(By.CSS_SELECTOR, '.K4UgGe')\n",
    "    # Filter those whose aria-label starts with \"Ảnh \"\n",
    "    image_buttons = [\n",
    "        btn for btn in buttons\n",
    "        if btn.get_attribute('aria-label') and btn.get_attribute('aria-label').startswith('Ảnh ')\n",
    "    ]\n",
    "\n",
    "    for idx, btn in enumerate(image_buttons):\n",
    "        btn.click()\n",
    "        time.sleep(1)  # Wait for the image to load\n",
    "        png_bytes = driver.get_screenshot_as_png()\n",
    "        image = Image.open(io.BytesIO(png_bytes))\n",
    "\n",
    "        # Crop the right half\n",
    "        width, height = image.size\n",
    "        right_half = image.crop((width // 2, 0, width, height))\n",
    "        right_half.save(os.path.join(menu_dir, f\"menu_{idx+1}.png\"))"
   ]
  },
  {
   "cell_type": "code",
   "execution_count": null,
   "id": "2c247786",
   "metadata": {},
   "outputs": [],
   "source": [
    "restaurant_id = \"sample\"\n",
    "# Prepare directory: menu/restaurant_id/\n",
    "menu_dir = os.path.join(\"menu\", restaurant_id)\n",
    "if not os.path.exists(menu_dir):\n",
    "    os.makedirs(menu_dir)\n",
    "\n",
    "# Find all elements with class 'K4UgGe'\n",
    "buttons = driver.find_elements(By.CSS_SELECTOR, '.K4UgGe')\n",
    "# Filter those whose aria-label starts with \"Ảnh \"\n",
    "image_buttons = [\n",
    "    btn for btn in buttons\n",
    "    if btn.get_attribute('aria-label') and btn.get_attribute('aria-label').startswith('Ảnh ')\n",
    "]\n",
    "\n",
    "for idx, btn in enumerate(image_buttons):\n",
    "    btn.click()\n",
    "    time.sleep(2)  # Wait for the image to load\n",
    "    png_bytes = driver.get_screenshot_as_png()\n",
    "    image = Image.open(io.BytesIO(png_bytes))\n",
    "\n",
    "    # Crop the right half\n",
    "    width, height = image.size\n",
    "    right_half = image.crop((width // 2, 0, width, height))\n",
    "    right_half.save(os.path.join(menu_dir, f\"menu_{idx+1}.png\"))"
   ]
  }
 ],
 "metadata": {
  "kernelspec": {
   "display_name": "base",
   "language": "python",
   "name": "python3"
  },
  "language_info": {
   "codemirror_mode": {
    "name": "ipython",
    "version": 3
   },
   "file_extension": ".py",
   "mimetype": "text/x-python",
   "name": "python",
   "nbconvert_exporter": "python",
   "pygments_lexer": "ipython3",
   "version": "3.12.7"
  }
 },
 "nbformat": 4,
 "nbformat_minor": 5
}
