{
 "cells": [
  {
   "cell_type": "code",
   "execution_count": 1,
   "id": "e1ead160",
   "metadata": {},
   "outputs": [],
   "source": [
    "# from goorawling import Goorawling\n",
    "import os\n",
    "\n",
    "# Change current working directory to parent directory\n",
    "# Save the original working directory\n",
    "original_cwd = os.getcwd()\n",
    "\n",
    "# Change to parent directory\n",
    "os.chdir(\"..\")\n",
    "\n",
    "from tools import *"
   ]
  },
  {
   "cell_type": "code",
   "execution_count": 2,
   "id": "80962c01",
   "metadata": {},
   "outputs": [],
   "source": [
    "import pandas as pd\n",
    "\n",
    "# Read the CSV file for Ho Chi Minh restaurants\n",
    "df = pd.read_csv('data/tripadvisor_restaurant/Ha Noi.csv')\n",
    "df.head(1).T\n",
    "\n",
    "def add_address_string_column(df):\n",
    "    import ast\n",
    "    # Convert each address_obj string to dict and extract 'address_string'\n",
    "    df['address_string'] = df['address_obj'].apply(lambda x: ast.literal_eval(x).get('address_string'))\n",
    "    return df\n",
    "\n",
    "# Add the new column\n",
    "df = add_address_string_column(df)\n",
    "\n",
    "# Save the updated DataFrame to the same CSV file\n",
    "df.to_csv('data/tripadvisor_restaurant/Ha Noi.csv', index=False)"
   ]
  },
  {
   "cell_type": "code",
   "execution_count": 3,
   "id": "4e043109",
   "metadata": {},
   "outputs": [
    {
     "data": {
      "text/html": [
       "<div>\n",
       "<style scoped>\n",
       "    .dataframe tbody tr th:only-of-type {\n",
       "        vertical-align: middle;\n",
       "    }\n",
       "\n",
       "    .dataframe tbody tr th {\n",
       "        vertical-align: top;\n",
       "    }\n",
       "\n",
       "    .dataframe thead th {\n",
       "        text-align: right;\n",
       "    }\n",
       "</style>\n",
       "<table border=\"1\" class=\"dataframe\">\n",
       "  <thead>\n",
       "    <tr style=\"text-align: right;\">\n",
       "      <th></th>\n",
       "      <th>name</th>\n",
       "      <th>address_string</th>\n",
       "    </tr>\n",
       "  </thead>\n",
       "  <tbody>\n",
       "    <tr>\n",
       "      <th>0</th>\n",
       "      <td>Hoang's Restaurant</td>\n",
       "      <td>54 Hang Buom Street, Hoan Kiem, Hanoi 100000 V...</td>\n",
       "    </tr>\n",
       "    <tr>\n",
       "      <th>1</th>\n",
       "      <td>Hong Hoai's Restaurant</td>\n",
       "      <td>20 Bat Dan, Hoan Kiem, Hanoi 100000 Vietnam</td>\n",
       "    </tr>\n",
       "    <tr>\n",
       "      <th>2</th>\n",
       "      <td>Essence Restaurant Original (since 2011)</td>\n",
       "      <td>38A Tran Phu Street, Ba Dinh, Hanoi 100000 Vie...</td>\n",
       "    </tr>\n",
       "    <tr>\n",
       "      <th>3</th>\n",
       "      <td>Banh Mi 25</td>\n",
       "      <td>25 Hang Ca, Hoan Kiem, Hanoi 10000 Vietnam</td>\n",
       "    </tr>\n",
       "    <tr>\n",
       "      <th>4</th>\n",
       "      <td>Quan An Ngon</td>\n",
       "      <td>18 P. Phan B_i Chau, Hoan Kiem, Hanoi 111103 V...</td>\n",
       "    </tr>\n",
       "    <tr>\n",
       "      <th>...</th>\n",
       "      <td>...</td>\n",
       "      <td>...</td>\n",
       "    </tr>\n",
       "    <tr>\n",
       "      <th>995</th>\n",
       "      <td>Chả Ca Ca Cuống</td>\n",
       "      <td>17 Cha Ca, Hanoi 123456 Vietnam</td>\n",
       "    </tr>\n",
       "    <tr>\n",
       "      <th>996</th>\n",
       "      <td>Amy Indian Restaurant</td>\n",
       "      <td>10 P. Hang Thi_c, Hoan Kiem, Hanoi 00120 Vietnam</td>\n",
       "    </tr>\n",
       "    <tr>\n",
       "      <th>997</th>\n",
       "      <td>Zpizza</td>\n",
       "      <td>27 Ly Thai To, Hoan Kiem, Hanoi 10000 Vietnam</td>\n",
       "    </tr>\n",
       "    <tr>\n",
       "      <th>998</th>\n",
       "      <td>Pizza 4P's Lotte West Lake Hanoi</td>\n",
       "      <td>272 Vo Chi Cong street., Hanoi 11210 Vietnam</td>\n",
       "    </tr>\n",
       "    <tr>\n",
       "      <th>999</th>\n",
       "      <td>Takumi II Japanese Restaurant</td>\n",
       "      <td>95 Linh Lang Ba Dinh District, Hanoi Vietnam</td>\n",
       "    </tr>\n",
       "  </tbody>\n",
       "</table>\n",
       "<p>1000 rows × 2 columns</p>\n",
       "</div>"
      ],
      "text/plain": [
       "                                         name  \\\n",
       "0                          Hoang's Restaurant   \n",
       "1                      Hong Hoai's Restaurant   \n",
       "2    Essence Restaurant Original (since 2011)   \n",
       "3                                  Banh Mi 25   \n",
       "4                                Quan An Ngon   \n",
       "..                                        ...   \n",
       "995                           Chả Ca Ca Cuống   \n",
       "996                     Amy Indian Restaurant   \n",
       "997                                    Zpizza   \n",
       "998          Pizza 4P's Lotte West Lake Hanoi   \n",
       "999             Takumi II Japanese Restaurant   \n",
       "\n",
       "                                        address_string  \n",
       "0    54 Hang Buom Street, Hoan Kiem, Hanoi 100000 V...  \n",
       "1          20 Bat Dan, Hoan Kiem, Hanoi 100000 Vietnam  \n",
       "2    38A Tran Phu Street, Ba Dinh, Hanoi 100000 Vie...  \n",
       "3           25 Hang Ca, Hoan Kiem, Hanoi 10000 Vietnam  \n",
       "4    18 P. Phan B_i Chau, Hoan Kiem, Hanoi 111103 V...  \n",
       "..                                                 ...  \n",
       "995                    17 Cha Ca, Hanoi 123456 Vietnam  \n",
       "996   10 P. Hang Thi_c, Hoan Kiem, Hanoi 00120 Vietnam  \n",
       "997      27 Ly Thai To, Hoan Kiem, Hanoi 10000 Vietnam  \n",
       "998       272 Vo Chi Cong street., Hanoi 11210 Vietnam  \n",
       "999       95 Linh Lang Ba Dinh District, Hanoi Vietnam  \n",
       "\n",
       "[1000 rows x 2 columns]"
      ]
     },
     "execution_count": 3,
     "metadata": {},
     "output_type": "execute_result"
    }
   ],
   "source": [
    "df[['name','address_string']]"
   ]
  },
  {
   "cell_type": "code",
   "execution_count": 4,
   "id": "7d07a683",
   "metadata": {},
   "outputs": [],
   "source": [
    "# df"
   ]
  },
  {
   "cell_type": "code",
   "execution_count": 8,
   "id": "f32a9a9d",
   "metadata": {},
   "outputs": [],
   "source": [
    "def get_name_address_list(df):\n",
    "    return [\" \".join([str(row['name']), str(row['address_string'])]) for _, row in df.iterrows()]\n",
    "\n",
    "name_address_list = get_name_address_list(df)\n",
    "# name_address_list"
   ]
  },
  {
   "cell_type": "code",
   "execution_count": 3,
   "id": "b1b2c28b",
   "metadata": {},
   "outputs": [],
   "source": [
    "def get_restaurant_link(driver,restaurant_string:str):\n",
    "    \"\"\"\n",
    "    Searches for a restaurant on Google Maps and returns the link to the first result.\n",
    "    \"\"\"\n",
    "    WebDriverWait(driver, 15).until(EC.presence_of_element_located((By.CSS_SELECTOR, '.fontBodyMedium.searchboxinput.xiQnY')))\n",
    "    input_goo = driver.find_element(By.CSS_SELECTOR, '.fontBodyMedium.searchboxinput.xiQnY')\n",
    "    find_button = driver.find_element(By.CSS_SELECTOR, '.mL3xi')\n",
    "    time.sleep(1)\n",
    "    input_goo.clear()\n",
    "    input_goo.send_keys(restaurant_string)\n",
    "    find_button.click()\n",
    "    time.sleep(3)\n",
    "    try: \n",
    "        get_first_restaurant = driver.find_element(By.CSS_SELECTOR, '.hfpxzc')\n",
    "        restaurant_link =  get_first_restaurant.get_attribute('href')\n",
    "    except NoSuchElementException:\n",
    "        restaurant_link = driver.current_url\n",
    "    time.sleep(2)\n",
    "    return change_language_to_vietnamese(restaurant_link)"
   ]
  },
  {
   "cell_type": "code",
   "execution_count": 5,
   "id": "5454a7e8",
   "metadata": {},
   "outputs": [
    {
     "name": "stdout",
     "output_type": "stream",
     "text": [
      "21.036118 105.8460021\n"
     ]
    }
   ],
   "source": [
    "def extract_lat_lon_from_url(url):\n",
    "    \"\"\"\n",
    "    Extract latitude and longitude from a Google Maps URL.\n",
    "    Returns (lat, lon) as strings, or (None, None) if not found.\n",
    "    \"\"\"\n",
    "    try:\n",
    "        # Example: .../@21.036118,105.8460021,17z/...\n",
    "        at_part = url.split('/@')[1].split('/')[0]\n",
    "        lat, lon = at_part.split(',')[:2]\n",
    "        return lat, lon\n",
    "    except Exception:\n",
    "        return None, None\n",
    "\n",
    "# Example usage:\n",
    "exam = 'https://www.google.com/maps/place/Banh+Mi+25/@21.036118,105.8460021,17z/data=!3m1!4b1!4m6!3m5!1s0x3135ab74bb3716b5:0xebfbc0d84354deb3!8m2!3d21.036113!4d105.848577!16s%2Fg%2F11tw_4rt41?entry=ttu&g_ep=EgoyMDI1MDYzMC4wIKXMDSoASAFQAw%3D%3D&hl=vi'\n",
    "lat, lon = extract_lat_lon_from_url(exam)\n",
    "print(lat, lon)  # Output: 21.036118 105.8460021"
   ]
  },
  {
   "cell_type": "code",
   "execution_count": 6,
   "id": "6a73e817",
   "metadata": {},
   "outputs": [
    {
     "data": {
      "text/plain": [
       "(1000, 32)"
      ]
     },
     "execution_count": 6,
     "metadata": {},
     "output_type": "execute_result"
    }
   ],
   "source": [
    "\n",
    "df.shape"
   ]
  },
  {
   "cell_type": "code",
   "execution_count": null,
   "id": "6e76e051",
   "metadata": {},
   "outputs": [],
   "source": [
    "import threading\n",
    "\n",
    "def scrape_google_maps_links(df, num_threads=4, output_name=\"output.csv\"):\n",
    "    from concurrent.futures import ThreadPoolExecutor, as_completed\n",
    "    from selenium import webdriver\n",
    "\n",
    "    search_list = df[['name', 'address_string']].astype(str).agg(' '.join, axis=1).tolist()\n",
    "    write_lock = threading.Lock()\n",
    "    progress_lock = threading.Lock()\n",
    "    total = len(search_list)\n",
    "    progress_counter = [0]  # Use a list for mutability in threads\n",
    "\n",
    "    # Write header once at the start (overwrite file)\n",
    "    with open(output_name, \"w\", encoding=\"utf-8\") as f:\n",
    "        f.write(\"restaurant_id,restaurant_link\\n\")\n",
    "\n",
    "    def scrape_link(idx, restaurant_string):\n",
    "        driver = webdriver.Chrome(options=chrome_options)\n",
    "        driver.get(\"https://www.google.com/maps\")\n",
    "        time.sleep(2)\n",
    "        try:\n",
    "            link = get_restaurant_link(driver, restaurant_string)\n",
    "        except Exception:\n",
    "            link = None\n",
    "        driver.quit()\n",
    "        row = df.iloc[idx]\n",
    "        restaurant_id = row['restaurant_id']\n",
    "        with write_lock:\n",
    "            with open(output_name, \"a\", encoding=\"utf-8\") as f:\n",
    "                f.write(f\"{restaurant_id},{link}\\n\")\n",
    "        with progress_lock:\n",
    "            progress_counter[0] += 1\n",
    "            print(f\"Progress: {progress_counter[0]} / {total}\")\n",
    "        return (restaurant_id, link)\n",
    "\n",
    "    with ThreadPoolExecutor(max_workers=num_threads) as executor:\n",
    "        futures = [executor.submit(scrape_link, idx, s) for idx, s in enumerate(search_list)]\n",
    "        for future in as_completed(futures):\n",
    "            try:\n",
    "                future.result()\n",
    "            except Exception as e:\n",
    "                print(f\"Error: {e}\")\n",
    "\n",
    "# Example usage:\n",
    "# scrape_google_maps_links(df, num_threads=4, output_name=\"data/tripadvisor_restaurant/Ha_Noi_with_links.csv\")"
   ]
  },
  {
   "cell_type": "code",
   "execution_count": 8,
   "id": "c44636a8",
   "metadata": {},
   "outputs": [
    {
     "name": "stdout",
     "output_type": "stream",
     "text": [
      "Progress: 1 / 5\n",
      "Progress: 2 / 5\n",
      "Progress: 3 / 5\n",
      "Progress: 4 / 5\n",
      "Progress: 5 / 5\n"
     ]
    }
   ],
   "source": [
    "scrape_google_maps_links(df[:5], num_threads=5, output_name=\"data/tripadvisor_restaurant/Ha_Noi_with_links.csv\")"
   ]
  },
  {
   "cell_type": "code",
   "execution_count": 9,
   "id": "09c7825c",
   "metadata": {},
   "outputs": [],
   "source": [
    "# link = "
   ]
  },
  {
   "cell_type": "code",
   "execution_count": 31,
   "id": "b6e68241",
   "metadata": {},
   "outputs": [],
   "source": [
    "driver = webdriver.Chrome(options=chrome_options)\n",
    "actions = ActionChains(driver)\n",
    "driver.get('https://www.google.com/maps')"
   ]
  },
  {
   "cell_type": "code",
   "execution_count": 23,
   "id": "ee61bf16",
   "metadata": {},
   "outputs": [
    {
     "name": "stdout",
     "output_type": "stream",
     "text": [
      "Shamoji Robata Yaki 135 Nguy_n D_c C_nh, Tan Phong, Qu_n 7 135 Nguyễn Đức Cảnh, Tân Phong, Quận 7, Thành phố Hồ Chí Minh, Vietnam, Ho Chi Minh City 756600 Vietnam\n"
     ]
    }
   ],
   "source": [
    "print(name_address_list[3000])"
   ]
  },
  {
   "cell_type": "code",
   "execution_count": 32,
   "id": "c4cfab37",
   "metadata": {},
   "outputs": [],
   "source": [
    "input_goo = driver.find_element(By.CSS_SELECTOR, '.fontBodyMedium.searchboxinput.xiQnY')\n",
    "find_button = driver.find_element(By.CSS_SELECTOR, '.mL3xi')"
   ]
  },
  {
   "cell_type": "code",
   "execution_count": 29,
   "id": "600bbfcc",
   "metadata": {},
   "outputs": [],
   "source": [
    "input_goo.clear()\n"
   ]
  },
  {
   "cell_type": "code",
   "execution_count": null,
   "id": "22416c3f",
   "metadata": {},
   "outputs": [
    {
     "name": "stdout",
     "output_type": "stream",
     "text": [
      "https://www.google.com/maps/place/Shamoji+Robata+Yaki+-+Japanese+Izakaya/@10.7239543,106.7064369,17z/data=!3m1!4b1!4m6!3m5!1s0x31752fc8104cfea1:0x38e1bd182fb4869d!8m2!3d10.723949!4d106.7090118!16s%2Fg%2F11sqkr6n2x?entry=ttu&g_ep=EgoyMDI1MDYwMy4wIKXMDSoASAFQAw%3D%3D&hl=vi\n",
      "https://www.google.com/maps/search/Shamoji+Robata+Yaki+135+Nguy_n+D_c+C_nh,+Tan+Phong,+Qu_n+7+135+Nguy%E1%BB%85n+%C4%90%E1%BB%A9c+C%E1%BA%A3nh,+T%C3%A2n+Phong,+Qu%E1%BA%ADn+7,+Th%C3%A0nh+ph%E1%BB%91+H%E1%BB%93+Ch%C3%AD+Minh,+Vietnam,+Ho+Chi+Minh+City+756600+Vietnam/@10.7239543,106.7064369,17z?entry=ttu&g_ep=EgoyMDI1MDYwMy4wIKXMDSoASAFQAw%3D%3D&hl=vi\n",
      "https://www.google.com/maps/place/Nori+-+Modern+Izakaya/data=!4m7!3m6!1s0x31752f3f52ce6b9d:0x2f7c030139c58cdb!8m2!3d10.773996!4d106.696912!16s%2Fg%2F11vkz338lg!19sChIJnWvOUj8vdTER24zFOQEDfC8?authuser=0&hl=vi&rclk=1\n",
      "https://www.google.com/maps/place/Nori+-+Modern+Izakaya/data=!4m7!3m6!1s0x31752f3f52ce6b9d:0x2f7c030139c58cdb!8m2!3d10.773996!4d106.696912!16s%2Fg%2F11vkz338lg!19sChIJnWvOUj8vdTER24zFOQEDfC8?authuser=0&hl=vi&rclk=1\n",
      "https://www.google.com/maps/place/Nori+-+Modern+Izakaya/data=!4m7!3m6!1s0x31752f3f52ce6b9d:0x2f7c030139c58cdb!8m2!3d10.773996!4d106.696912!16s%2Fg%2F11vkz338lg!19sChIJnWvOUj8vdTER24zFOQEDfC8?authuser=0&hl=vi&rclk=1\n"
     ]
    }
   ],
   "source": [
    "for i in range(5):\n",
    "    input_goo.clear()\n",
    "    input_goo.send_keys(name_address_list[3000:3000 + i])\n",
    "    find_button.click()\n",
    "    time.sleep(5)\n",
    "    try: \n",
    "        get_first_restaurant = driver.find_element(By.CSS_SELECTOR, '.hfpxzc')\n",
    "        restaurant_link =  get_first_restaurant.get_attribute('href')\n",
    "    except NoSuchElementException:\n",
    "        restaurant_link = driver.current_url\n",
    "    time.sleep(2)\n",
    "    print(change_language_to_vietnamese(restaurant_link))\n",
    "\n",
    "# input_goo.clear()"
   ]
  },
  {
   "cell_type": "code",
   "execution_count": null,
   "id": "9b14ec8d",
   "metadata": {},
   "outputs": [],
   "source": []
  },
  {
   "cell_type": "code",
   "execution_count": 21,
   "id": "5fcb85ea",
   "metadata": {},
   "outputs": [],
   "source": [
    "find_button = driver.find_element(By.CSS_SELECTOR, '.mL3xi')\n",
    "find_button.click()"
   ]
  },
  {
   "cell_type": "code",
   "execution_count": 24,
   "id": "7e9803f1",
   "metadata": {},
   "outputs": [],
   "source": [
    "try: \n",
    "    get_first_restaurant = driver.find_element(By.CSS_SELECTOR, '.hfpxzc')\n",
    "    restaurant_link =  get_first_restaurant.get_attribute('href')\n",
    "except NoSuchElementException:\n",
    "    restaurant_link = driver.current_url"
   ]
  },
  {
   "cell_type": "code",
   "execution_count": 25,
   "id": "7533bf7b",
   "metadata": {},
   "outputs": [
    {
     "data": {
      "text/plain": [
       "'https://www.google.com/maps/place/Shamoji+Robata+Yaki+-+Japanese+Izakaya/@10.7239543,106.7064369,17z/data=!3m1!4b1!4m6!3m5!1s0x31752fc8104cfea1:0x38e1bd182fb4869d!8m2!3d10.723949!4d106.7090118!16s%2Fg%2F11sqkr6n2x?entry=ttu&g_ep=EgoyMDI1MDYwMy4wIKXMDSoASAFQAw%3D%3D&hl=vi'"
      ]
     },
     "execution_count": 25,
     "metadata": {},
     "output_type": "execute_result"
    }
   ],
   "source": [
    "change_language_to_vietnamese(restaurant_link)"
   ]
  }
 ],
 "metadata": {
  "kernelspec": {
   "display_name": "base",
   "language": "python",
   "name": "python3"
  },
  "language_info": {
   "codemirror_mode": {
    "name": "ipython",
    "version": 3
   },
   "file_extension": ".py",
   "mimetype": "text/x-python",
   "name": "python",
   "nbconvert_exporter": "python",
   "pygments_lexer": "ipython3",
   "version": "3.12.7"
  }
 },
 "nbformat": 4,
 "nbformat_minor": 5
}
