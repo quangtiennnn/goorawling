{
 "cells": [
  {
   "cell_type": "code",
   "execution_count": null,
   "id": "e1ead160",
   "metadata": {},
   "outputs": [],
   "source": [
    "# # from goorawling import Goorawling\n",
    "# from tools import *\n",
    "\n",
    "# link = 'https://www.google.com/maps'"
   ]
  },
  {
   "cell_type": "code",
   "execution_count": 23,
   "id": "80962c01",
   "metadata": {},
   "outputs": [
    {
     "data": {
      "text/html": [
       "<div>\n",
       "<style scoped>\n",
       "    .dataframe tbody tr th:only-of-type {\n",
       "        vertical-align: middle;\n",
       "    }\n",
       "\n",
       "    .dataframe tbody tr th {\n",
       "        vertical-align: top;\n",
       "    }\n",
       "\n",
       "    .dataframe thead th {\n",
       "        text-align: right;\n",
       "    }\n",
       "</style>\n",
       "<table border=\"1\" class=\"dataframe\">\n",
       "  <thead>\n",
       "    <tr style=\"text-align: right;\">\n",
       "      <th></th>\n",
       "      <th>0</th>\n",
       "    </tr>\n",
       "  </thead>\n",
       "  <tbody>\n",
       "    <tr>\n",
       "      <th>restaurant_id</th>\n",
       "      <td>26794670</td>\n",
       "    </tr>\n",
       "    <tr>\n",
       "      <th>location_id</th>\n",
       "      <td>26794670</td>\n",
       "    </tr>\n",
       "    <tr>\n",
       "      <th>name</th>\n",
       "      <td>Phở Việt Nam - Phạm Hồng Thai</td>\n",
       "    </tr>\n",
       "    <tr>\n",
       "      <th>web_url</th>\n",
       "      <td>https://www.tripadvisor.com/Restaurant_Review-...</td>\n",
       "    </tr>\n",
       "    <tr>\n",
       "      <th>address_obj</th>\n",
       "      <td>{'street1': '14 Pham Hong Thai', 'street2': 'P...</td>\n",
       "    </tr>\n",
       "    <tr>\n",
       "      <th>ancestors</th>\n",
       "      <td>[{'level': 'City', 'name': 'Ho Chi Minh City',...</td>\n",
       "    </tr>\n",
       "    <tr>\n",
       "      <th>latitude</th>\n",
       "      <td>10.771386</td>\n",
       "    </tr>\n",
       "    <tr>\n",
       "      <th>longitude</th>\n",
       "      <td>106.69614</td>\n",
       "    </tr>\n",
       "    <tr>\n",
       "      <th>timezone</th>\n",
       "      <td>Asia/Ho_Chi_Minh</td>\n",
       "    </tr>\n",
       "    <tr>\n",
       "      <th>email</th>\n",
       "      <td>phohomemade@gmail.com</td>\n",
       "    </tr>\n",
       "    <tr>\n",
       "      <th>phone</th>\n",
       "      <td>+84 90 268 22 14</td>\n",
       "    </tr>\n",
       "    <tr>\n",
       "      <th>website</th>\n",
       "      <td>http://phovietnam.vn</td>\n",
       "    </tr>\n",
       "    <tr>\n",
       "      <th>write_review</th>\n",
       "      <td>https://www.tripadvisor.com/UserReview-g293925...</td>\n",
       "    </tr>\n",
       "    <tr>\n",
       "      <th>ranking_data</th>\n",
       "      <td>{'geo_location_id': '293925', 'ranking_string'...</td>\n",
       "    </tr>\n",
       "    <tr>\n",
       "      <th>rating</th>\n",
       "      <td>4.8</td>\n",
       "    </tr>\n",
       "    <tr>\n",
       "      <th>rating_image_url</th>\n",
       "      <td>https://www.tripadvisor.com/img/cdsi/img2/rati...</td>\n",
       "    </tr>\n",
       "    <tr>\n",
       "      <th>num_reviews</th>\n",
       "      <td>200</td>\n",
       "    </tr>\n",
       "    <tr>\n",
       "      <th>review_rating_count</th>\n",
       "      <td>{'1': '1', '2': '2', '3': '3', '4': '18', '5':...</td>\n",
       "    </tr>\n",
       "    <tr>\n",
       "      <th>subratings</th>\n",
       "      <td>{'0': {'name': 'rate_food', 'localized_name': ...</td>\n",
       "    </tr>\n",
       "    <tr>\n",
       "      <th>photo_count</th>\n",
       "      <td>254</td>\n",
       "    </tr>\n",
       "    <tr>\n",
       "      <th>see_all_photos</th>\n",
       "      <td>https://www.tripadvisor.com/Restaurant_Review-...</td>\n",
       "    </tr>\n",
       "    <tr>\n",
       "      <th>price_level</th>\n",
       "      <td>$</td>\n",
       "    </tr>\n",
       "    <tr>\n",
       "      <th>hours</th>\n",
       "      <td>{'periods': [{'open': {'day': 1, 'time': '0600...</td>\n",
       "    </tr>\n",
       "    <tr>\n",
       "      <th>features</th>\n",
       "      <td>['Accepts Credit Cards', 'Visa', 'Delivery', '...</td>\n",
       "    </tr>\n",
       "    <tr>\n",
       "      <th>cuisine</th>\n",
       "      <td>[{'name': 'vietnamese', 'localized_name': 'Vie...</td>\n",
       "    </tr>\n",
       "    <tr>\n",
       "      <th>category</th>\n",
       "      <td>{'name': 'restaurant', 'localized_name': 'Rest...</td>\n",
       "    </tr>\n",
       "    <tr>\n",
       "      <th>subcategory</th>\n",
       "      <td>[]</td>\n",
       "    </tr>\n",
       "    <tr>\n",
       "      <th>neighborhood_info</th>\n",
       "      <td>[]</td>\n",
       "    </tr>\n",
       "    <tr>\n",
       "      <th>trip_types</th>\n",
       "      <td>[{'name': 'business', 'localized_name': 'Busin...</td>\n",
       "    </tr>\n",
       "    <tr>\n",
       "      <th>awards</th>\n",
       "      <td>[]</td>\n",
       "    </tr>\n",
       "    <tr>\n",
       "      <th>description</th>\n",
       "      <td>NaN</td>\n",
       "    </tr>\n",
       "    <tr>\n",
       "      <th>address_string</th>\n",
       "      <td>14 Pham Hong Thai Phường Bến Thành, Quận 1, Ho...</td>\n",
       "    </tr>\n",
       "  </tbody>\n",
       "</table>\n",
       "</div>"
      ],
      "text/plain": [
       "                                                                     0\n",
       "restaurant_id                                                 26794670\n",
       "location_id                                                   26794670\n",
       "name                                     Phở Việt Nam - Phạm Hồng Thai\n",
       "web_url              https://www.tripadvisor.com/Restaurant_Review-...\n",
       "address_obj          {'street1': '14 Pham Hong Thai', 'street2': 'P...\n",
       "ancestors            [{'level': 'City', 'name': 'Ho Chi Minh City',...\n",
       "latitude                                                     10.771386\n",
       "longitude                                                    106.69614\n",
       "timezone                                              Asia/Ho_Chi_Minh\n",
       "email                                            phohomemade@gmail.com\n",
       "phone                                                 +84 90 268 22 14\n",
       "website                                           http://phovietnam.vn\n",
       "write_review         https://www.tripadvisor.com/UserReview-g293925...\n",
       "ranking_data         {'geo_location_id': '293925', 'ranking_string'...\n",
       "rating                                                             4.8\n",
       "rating_image_url     https://www.tripadvisor.com/img/cdsi/img2/rati...\n",
       "num_reviews                                                        200\n",
       "review_rating_count  {'1': '1', '2': '2', '3': '3', '4': '18', '5':...\n",
       "subratings           {'0': {'name': 'rate_food', 'localized_name': ...\n",
       "photo_count                                                        254\n",
       "see_all_photos       https://www.tripadvisor.com/Restaurant_Review-...\n",
       "price_level                                                          $\n",
       "hours                {'periods': [{'open': {'day': 1, 'time': '0600...\n",
       "features             ['Accepts Credit Cards', 'Visa', 'Delivery', '...\n",
       "cuisine              [{'name': 'vietnamese', 'localized_name': 'Vie...\n",
       "category             {'name': 'restaurant', 'localized_name': 'Rest...\n",
       "subcategory                                                         []\n",
       "neighborhood_info                                                   []\n",
       "trip_types           [{'name': 'business', 'localized_name': 'Busin...\n",
       "awards                                                              []\n",
       "description                                                        NaN\n",
       "address_string       14 Pham Hong Thai Phường Bến Thành, Quận 1, Ho..."
      ]
     },
     "execution_count": 23,
     "metadata": {},
     "output_type": "execute_result"
    }
   ],
   "source": [
    "import pandas as pd\n",
    "\n",
    "# Read the CSV file for Ho Chi Minh restaurants\n",
    "df = pd.read_csv('data/tripadvisor_restaurant/Ho Chi Minh.csv')\n",
    "df.head(1).T\n",
    "# def add_address_string_column(df):\n",
    "#     import ast\n",
    "#     # Convert each address_obj string to dict and extract 'address_string'\n",
    "#     df['address_string'] = df['address_obj'].apply(lambda x: ast.literal_eval(x).get('address_string'))\n",
    "#     return df\n",
    "\n",
    "# # Add the new column\n",
    "# df = add_address_string_column(df)\n",
    "\n",
    "# # Save the updated DataFrame to the same CSV file\n",
    "# df.to_csv('data/tripadvisor_restaurant/Ho Chi Minh.csv', index=False)"
   ]
  },
  {
   "cell_type": "code",
   "execution_count": 25,
   "id": "4e043109",
   "metadata": {},
   "outputs": [
    {
     "data": {
      "text/plain": [
       "0       26794670\n",
       "1       26681281\n",
       "2       10721705\n",
       "3       17704147\n",
       "4       15046046\n",
       "          ...   \n",
       "3994     8431943\n",
       "3995    26794819\n",
       "3996    13786196\n",
       "3997    20145647\n",
       "3998    17395831\n",
       "Name: restaurant_id, Length: 3999, dtype: int64"
      ]
     },
     "execution_count": 25,
     "metadata": {},
     "output_type": "execute_result"
    }
   ],
   "source": [
    "df.restaurant_id"
   ]
  },
  {
   "cell_type": "code",
   "execution_count": null,
   "id": "b6e68241",
   "metadata": {},
   "outputs": [],
   "source": [
    "# driver = webdriver.Chrome(options=chrome_options)\n",
    "# actions = ActionChains(driver)\n",
    "# driver.get(link)"
   ]
  },
  {
   "cell_type": "code",
   "execution_count": null,
   "id": "97249e15",
   "metadata": {},
   "outputs": [
    {
     "data": {
      "text/plain": [
       "'Baieta Saigon 16/8 Nguyen Van Huong, Ho Chi Minh City 700000 Vietnam'"
      ]
     },
     "execution_count": 14,
     "metadata": {},
     "output_type": "execute_result"
    }
   ],
   "source": [
    "# \" \".join([df['name'].iloc[1], df['address_string'].iloc[1]])"
   ]
  },
  {
   "cell_type": "code",
   "execution_count": null,
   "id": "22416c3f",
   "metadata": {},
   "outputs": [],
   "source": [
    "# input_goo = driver.find_element(By.CSS_SELECTOR, '.fontBodyMedium.searchboxinput.xiQnY')\n",
    "# input_goo.send_keys(\" \".join([df['name'].iloc[1], df['address_string'].iloc[1]]))"
   ]
  },
  {
   "cell_type": "code",
   "execution_count": null,
   "id": "5fcb85ea",
   "metadata": {},
   "outputs": [],
   "source": [
    "find_button = driver.find_element(By.CSS_SELECTOR, '.mL3xi')\n",
    "find_button.click()"
   ]
  },
  {
   "cell_type": "code",
   "execution_count": 21,
   "id": "7e9803f1",
   "metadata": {},
   "outputs": [],
   "source": [
    "try: \n",
    "    get_first_restaurant = driver.find_element(By.CSS_SELECTOR, '.hfpxzc')\n",
    "    restaurant_link =  get_first_restaurant.get_attribute('href')\n",
    "except NoSuchElementException:\n",
    "    restaurant_link = driver.current_url"
   ]
  },
  {
   "cell_type": "code",
   "execution_count": 22,
   "id": "7533bf7b",
   "metadata": {},
   "outputs": [
    {
     "data": {
      "text/plain": [
       "'https://www.google.com/maps/place/BAIETA+Restaurant+Saigon+Thao+Dien/@10.8029833,106.7246931,17z/data=!3m1!4b1!4m6!3m5!1s0x3175271f9bf9fd45:0x7404fcd4128a3514!8m2!3d10.802978!4d106.727268!16s%2Fg%2F11svytm6sq?entry=ttu&g_ep=EgoyMDI1MDYwMi4wIKXMDSoASAFQAw%3D%3D&hl=vi'"
      ]
     },
     "execution_count": 22,
     "metadata": {},
     "output_type": "execute_result"
    }
   ],
   "source": [
    "change_language_to_vietnamese(restaurant_link)"
   ]
  }
 ],
 "metadata": {
  "kernelspec": {
   "display_name": "Python 3",
   "language": "python",
   "name": "python3"
  },
  "language_info": {
   "codemirror_mode": {
    "name": "ipython",
    "version": 3
   },
   "file_extension": ".py",
   "mimetype": "text/x-python",
   "name": "python",
   "nbconvert_exporter": "python",
   "pygments_lexer": "ipython3",
   "version": "3.12.7"
  }
 },
 "nbformat": 4,
 "nbformat_minor": 5
}
